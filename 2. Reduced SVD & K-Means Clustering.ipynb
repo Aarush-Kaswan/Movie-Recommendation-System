{
 "cells": [
  {
   "cell_type": "code",
   "execution_count": 1,
   "id": "e524de0d-e599-49bb-9185-27aa781f0aa2",
   "metadata": {},
   "outputs": [],
   "source": [
    "import pandas as pd\n",
    "import re\n",
    "import numpy as np"
   ]
  },
  {
   "cell_type": "code",
   "execution_count": 2,
   "id": "ce6218b0-2ac5-4517-8a2b-a05d739d47e1",
   "metadata": {},
   "outputs": [],
   "source": [
    "ratings_df = pd.read_csv('ratings.dat', sep='::', engine='python', header=None, names=['UserID', 'MovieID', 'Rating', 'Timestamp'], encoding='ISO-8859-1')\n",
    "users_df = pd.read_csv('users.dat', sep='::', engine='python', header=None, names=['UserID', 'Gender', 'Age', 'Occupation', 'Zip-code'], encoding='ISO-8859-1')\n",
    "movies_df = pd.read_csv('movies.dat', sep='::', engine='python', header=None, names=['MovieID', 'Title', 'Genres'], encoding='ISO-8859-1')"
   ]
  },
  {
   "cell_type": "code",
   "execution_count": 3,
   "id": "8adae25c-1f46-4081-80b6-48ed559ffe1d",
   "metadata": {},
   "outputs": [
    {
     "data": {
      "text/html": [
       "<div>\n",
       "<style scoped>\n",
       "    .dataframe tbody tr th:only-of-type {\n",
       "        vertical-align: middle;\n",
       "    }\n",
       "\n",
       "    .dataframe tbody tr th {\n",
       "        vertical-align: top;\n",
       "    }\n",
       "\n",
       "    .dataframe thead th {\n",
       "        text-align: right;\n",
       "    }\n",
       "</style>\n",
       "<table border=\"1\" class=\"dataframe\">\n",
       "  <thead>\n",
       "    <tr style=\"text-align: right;\">\n",
       "      <th></th>\n",
       "      <th>UserID</th>\n",
       "      <th>MovieID</th>\n",
       "      <th>Rating</th>\n",
       "      <th>Timestamp</th>\n",
       "      <th>Title</th>\n",
       "      <th>Genres</th>\n",
       "    </tr>\n",
       "  </thead>\n",
       "  <tbody>\n",
       "    <tr>\n",
       "      <th>0</th>\n",
       "      <td>1</td>\n",
       "      <td>1193</td>\n",
       "      <td>5</td>\n",
       "      <td>978300760</td>\n",
       "      <td>One Flew Over the Cuckoo's Nest (1975)</td>\n",
       "      <td>Drama</td>\n",
       "    </tr>\n",
       "    <tr>\n",
       "      <th>1</th>\n",
       "      <td>2</td>\n",
       "      <td>1193</td>\n",
       "      <td>5</td>\n",
       "      <td>978298413</td>\n",
       "      <td>One Flew Over the Cuckoo's Nest (1975)</td>\n",
       "      <td>Drama</td>\n",
       "    </tr>\n",
       "    <tr>\n",
       "      <th>2</th>\n",
       "      <td>12</td>\n",
       "      <td>1193</td>\n",
       "      <td>4</td>\n",
       "      <td>978220179</td>\n",
       "      <td>One Flew Over the Cuckoo's Nest (1975)</td>\n",
       "      <td>Drama</td>\n",
       "    </tr>\n",
       "    <tr>\n",
       "      <th>3</th>\n",
       "      <td>15</td>\n",
       "      <td>1193</td>\n",
       "      <td>4</td>\n",
       "      <td>978199279</td>\n",
       "      <td>One Flew Over the Cuckoo's Nest (1975)</td>\n",
       "      <td>Drama</td>\n",
       "    </tr>\n",
       "    <tr>\n",
       "      <th>4</th>\n",
       "      <td>17</td>\n",
       "      <td>1193</td>\n",
       "      <td>5</td>\n",
       "      <td>978158471</td>\n",
       "      <td>One Flew Over the Cuckoo's Nest (1975)</td>\n",
       "      <td>Drama</td>\n",
       "    </tr>\n",
       "  </tbody>\n",
       "</table>\n",
       "</div>"
      ],
      "text/plain": [
       "   UserID  MovieID  Rating  Timestamp                                   Title  \\\n",
       "0       1     1193       5  978300760  One Flew Over the Cuckoo's Nest (1975)   \n",
       "1       2     1193       5  978298413  One Flew Over the Cuckoo's Nest (1975)   \n",
       "2      12     1193       4  978220179  One Flew Over the Cuckoo's Nest (1975)   \n",
       "3      15     1193       4  978199279  One Flew Over the Cuckoo's Nest (1975)   \n",
       "4      17     1193       5  978158471  One Flew Over the Cuckoo's Nest (1975)   \n",
       "\n",
       "  Genres  \n",
       "0  Drama  \n",
       "1  Drama  \n",
       "2  Drama  \n",
       "3  Drama  \n",
       "4  Drama  "
      ]
     },
     "execution_count": 3,
     "metadata": {},
     "output_type": "execute_result"
    }
   ],
   "source": [
    "# Merge ratings and movies data on MovieID\n",
    "merged_df = pd.merge(ratings_df, movies_df, on='MovieID')\n",
    "merged_df.head()"
   ]
  },
  {
   "cell_type": "code",
   "execution_count": 4,
   "id": "bd174fb0-c6ae-46ad-8cbe-44b9871c8766",
   "metadata": {},
   "outputs": [],
   "source": [
    "merged_df1 = merged_df.assign(Genres=merged_df['Genres'].str.split('|')).explode('Genres').reset_index(drop=True)"
   ]
  },
  {
   "cell_type": "code",
   "execution_count": 5,
   "id": "4534b5c6-0383-4dbb-98ba-b90bdb74903a",
   "metadata": {},
   "outputs": [
    {
     "data": {
      "text/html": [
       "<div>\n",
       "<style scoped>\n",
       "    .dataframe tbody tr th:only-of-type {\n",
       "        vertical-align: middle;\n",
       "    }\n",
       "\n",
       "    .dataframe tbody tr th {\n",
       "        vertical-align: top;\n",
       "    }\n",
       "\n",
       "    .dataframe thead th {\n",
       "        text-align: right;\n",
       "    }\n",
       "</style>\n",
       "<table border=\"1\" class=\"dataframe\">\n",
       "  <thead>\n",
       "    <tr style=\"text-align: right;\">\n",
       "      <th>Genres</th>\n",
       "      <th>Action</th>\n",
       "      <th>Adventure</th>\n",
       "      <th>Animation</th>\n",
       "      <th>Children's</th>\n",
       "      <th>Comedy</th>\n",
       "      <th>Crime</th>\n",
       "      <th>Documentary</th>\n",
       "      <th>Drama</th>\n",
       "      <th>Fantasy</th>\n",
       "      <th>Film-Noir</th>\n",
       "      <th>Horror</th>\n",
       "      <th>Musical</th>\n",
       "      <th>Mystery</th>\n",
       "      <th>Romance</th>\n",
       "      <th>Sci-Fi</th>\n",
       "      <th>Thriller</th>\n",
       "      <th>War</th>\n",
       "      <th>Western</th>\n",
       "    </tr>\n",
       "    <tr>\n",
       "      <th>UserID</th>\n",
       "      <th></th>\n",
       "      <th></th>\n",
       "      <th></th>\n",
       "      <th></th>\n",
       "      <th></th>\n",
       "      <th></th>\n",
       "      <th></th>\n",
       "      <th></th>\n",
       "      <th></th>\n",
       "      <th></th>\n",
       "      <th></th>\n",
       "      <th></th>\n",
       "      <th></th>\n",
       "      <th></th>\n",
       "      <th></th>\n",
       "      <th></th>\n",
       "      <th></th>\n",
       "      <th></th>\n",
       "    </tr>\n",
       "  </thead>\n",
       "  <tbody>\n",
       "    <tr>\n",
       "      <th>1</th>\n",
       "      <td>4.200000</td>\n",
       "      <td>4.000000</td>\n",
       "      <td>4.111111</td>\n",
       "      <td>4.250000</td>\n",
       "      <td>4.142857</td>\n",
       "      <td>4.000000</td>\n",
       "      <td>NaN</td>\n",
       "      <td>4.428571</td>\n",
       "      <td>4.0</td>\n",
       "      <td>NaN</td>\n",
       "      <td>NaN</td>\n",
       "      <td>4.285714</td>\n",
       "      <td>NaN</td>\n",
       "      <td>3.666667</td>\n",
       "      <td>4.333333</td>\n",
       "      <td>3.666667</td>\n",
       "      <td>5.000000</td>\n",
       "      <td>NaN</td>\n",
       "    </tr>\n",
       "    <tr>\n",
       "      <th>2</th>\n",
       "      <td>3.500000</td>\n",
       "      <td>3.736842</td>\n",
       "      <td>NaN</td>\n",
       "      <td>NaN</td>\n",
       "      <td>3.560000</td>\n",
       "      <td>3.583333</td>\n",
       "      <td>NaN</td>\n",
       "      <td>3.898734</td>\n",
       "      <td>3.0</td>\n",
       "      <td>4.0</td>\n",
       "      <td>3.000000</td>\n",
       "      <td>NaN</td>\n",
       "      <td>3.333333</td>\n",
       "      <td>3.708333</td>\n",
       "      <td>3.588235</td>\n",
       "      <td>3.483871</td>\n",
       "      <td>3.733333</td>\n",
       "      <td>4.333333</td>\n",
       "    </tr>\n",
       "    <tr>\n",
       "      <th>3</th>\n",
       "      <td>3.956522</td>\n",
       "      <td>4.000000</td>\n",
       "      <td>4.000000</td>\n",
       "      <td>4.000000</td>\n",
       "      <td>3.766667</td>\n",
       "      <td>NaN</td>\n",
       "      <td>NaN</td>\n",
       "      <td>4.000000</td>\n",
       "      <td>4.5</td>\n",
       "      <td>NaN</td>\n",
       "      <td>2.666667</td>\n",
       "      <td>4.000000</td>\n",
       "      <td>3.000000</td>\n",
       "      <td>3.800000</td>\n",
       "      <td>3.833333</td>\n",
       "      <td>3.800000</td>\n",
       "      <td>4.000000</td>\n",
       "      <td>4.666667</td>\n",
       "    </tr>\n",
       "    <tr>\n",
       "      <th>4</th>\n",
       "      <td>4.157895</td>\n",
       "      <td>3.833333</td>\n",
       "      <td>NaN</td>\n",
       "      <td>4.000000</td>\n",
       "      <td>NaN</td>\n",
       "      <td>5.000000</td>\n",
       "      <td>NaN</td>\n",
       "      <td>4.166667</td>\n",
       "      <td>4.5</td>\n",
       "      <td>NaN</td>\n",
       "      <td>4.333333</td>\n",
       "      <td>NaN</td>\n",
       "      <td>NaN</td>\n",
       "      <td>4.000000</td>\n",
       "      <td>3.555556</td>\n",
       "      <td>3.500000</td>\n",
       "      <td>3.333333</td>\n",
       "      <td>4.500000</td>\n",
       "    </tr>\n",
       "    <tr>\n",
       "      <th>5</th>\n",
       "      <td>2.612903</td>\n",
       "      <td>3.000000</td>\n",
       "      <td>4.000000</td>\n",
       "      <td>3.833333</td>\n",
       "      <td>3.410714</td>\n",
       "      <td>3.285714</td>\n",
       "      <td>3.666667</td>\n",
       "      <td>3.096154</td>\n",
       "      <td>NaN</td>\n",
       "      <td>4.0</td>\n",
       "      <td>2.800000</td>\n",
       "      <td>3.333333</td>\n",
       "      <td>3.125000</td>\n",
       "      <td>3.100000</td>\n",
       "      <td>3.066667</td>\n",
       "      <td>2.846154</td>\n",
       "      <td>3.500000</td>\n",
       "      <td>4.000000</td>\n",
       "    </tr>\n",
       "  </tbody>\n",
       "</table>\n",
       "</div>"
      ],
      "text/plain": [
       "Genres    Action  Adventure  Animation  Children's    Comedy     Crime  \\\n",
       "UserID                                                                   \n",
       "1       4.200000   4.000000   4.111111    4.250000  4.142857  4.000000   \n",
       "2       3.500000   3.736842        NaN         NaN  3.560000  3.583333   \n",
       "3       3.956522   4.000000   4.000000    4.000000  3.766667       NaN   \n",
       "4       4.157895   3.833333        NaN    4.000000       NaN  5.000000   \n",
       "5       2.612903   3.000000   4.000000    3.833333  3.410714  3.285714   \n",
       "\n",
       "Genres  Documentary     Drama  Fantasy  Film-Noir    Horror   Musical  \\\n",
       "UserID                                                                  \n",
       "1               NaN  4.428571      4.0        NaN       NaN  4.285714   \n",
       "2               NaN  3.898734      3.0        4.0  3.000000       NaN   \n",
       "3               NaN  4.000000      4.5        NaN  2.666667  4.000000   \n",
       "4               NaN  4.166667      4.5        NaN  4.333333       NaN   \n",
       "5          3.666667  3.096154      NaN        4.0  2.800000  3.333333   \n",
       "\n",
       "Genres   Mystery   Romance    Sci-Fi  Thriller       War   Western  \n",
       "UserID                                                              \n",
       "1            NaN  3.666667  4.333333  3.666667  5.000000       NaN  \n",
       "2       3.333333  3.708333  3.588235  3.483871  3.733333  4.333333  \n",
       "3       3.000000  3.800000  3.833333  3.800000  4.000000  4.666667  \n",
       "4            NaN  4.000000  3.555556  3.500000  3.333333  4.500000  \n",
       "5       3.125000  3.100000  3.066667  2.846154  3.500000  4.000000  "
      ]
     },
     "execution_count": 5,
     "metadata": {},
     "output_type": "execute_result"
    }
   ],
   "source": [
    "ratings = merged_df1.pivot_table(values='Rating', index='UserID', columns='Genres', aggfunc='mean')\n",
    "ratings.head()"
   ]
  },
  {
   "cell_type": "code",
   "execution_count": 6,
   "id": "6bcabeb7-47e8-4d10-a0ef-8fb8e93165a7",
   "metadata": {},
   "outputs": [
    {
     "name": "stdout",
     "output_type": "stream",
     "text": [
      "[[4.2        4.         4.11111111 ... 3.66666667 5.         0.        ]\n",
      " [3.5        3.73684211 0.         ... 3.48387097 3.73333333 4.33333333]\n",
      " [3.95652174 4.         4.         ... 3.8        4.         4.66666667]\n",
      " ...\n",
      " [3.         4.         3.66666667 ... 0.         4.         0.        ]\n",
      " [4.         4.1        3.61538462 ... 4.14285714 4.11111111 4.5       ]\n",
      " [2.97619048 2.81818182 3.         ... 3.92682927 3.69565217 4.        ]]\n"
     ]
    }
   ],
   "source": [
    "ratings_array = ratings.to_numpy()\n",
    "ratings_array[np.isnan(ratings_array)] = 0\n",
    "print(ratings_array)"
   ]
  },
  {
   "cell_type": "code",
   "execution_count": 7,
   "id": "f9aa67e8-c378-42c0-9a30-e5fd5304a8e5",
   "metadata": {},
   "outputs": [
    {
     "name": "stdout",
     "output_type": "stream",
     "text": [
      "[[4.2        4.         4.11111111 ... 3.66666667 5.         2.5       ]\n",
      " [3.5        3.73684211 2.5        ... 3.48387097 3.73333333 4.33333333]\n",
      " [3.95652174 4.         4.         ... 3.8        4.         4.66666667]\n",
      " ...\n",
      " [3.         4.         3.66666667 ... 2.5        4.         2.5       ]\n",
      " [4.         4.1        3.61538462 ... 4.14285714 4.11111111 4.5       ]\n",
      " [2.97619048 2.81818182 3.         ... 3.92682927 3.69565217 4.        ]]\n"
     ]
    }
   ],
   "source": [
    "ratings_array[ratings_array == 0] = 2.5\n",
    "print(ratings_array)"
   ]
  },
  {
   "cell_type": "code",
   "execution_count": 8,
   "id": "d4538d24-c6f2-44fe-8578-f4f078948e6e",
   "metadata": {},
   "outputs": [],
   "source": [
    "new_ratings_array=ratings_array[:6040, :]"
   ]
  },
  {
   "cell_type": "code",
   "execution_count": 9,
   "id": "a46f7303-15bd-4a91-9af2-b38e320524b3",
   "metadata": {},
   "outputs": [],
   "source": [
    "aat = np.dot(new_ratings_array, new_ratings_array.T)\n",
    "ata = np.dot(new_ratings_array.T, new_ratings_array)"
   ]
  },
  {
   "cell_type": "markdown",
   "id": "eb443951",
   "metadata": {},
   "source": [
    "## Function to perform QR algorithm to find eigenvalues"
   ]
  },
  {
   "cell_type": "code",
   "execution_count": 10,
   "id": "c34c4002-1be0-47ca-ab9a-ca1e6abeaa32",
   "metadata": {},
   "outputs": [],
   "source": [
    "def qr_decomposition(A):\n",
    "    n = A.shape[0]\n",
    "    Q = np.zeros((n, n))\n",
    "    R = np.zeros((n, n))\n",
    "    for j in range(n):\n",
    "        v = A[:, j]\n",
    "        for i in range(j):\n",
    "            R[i, j] = np.dot(Q[:, i], A[:, j])\n",
    "            v -= R[i, j] * Q[:, i]\n",
    "        R[j, j] = np.linalg.norm(v)\n",
    "        Q[:, j] = v / R[j, j]\n",
    "    return Q, R"
   ]
  },
  {
   "cell_type": "code",
   "execution_count": 11,
   "id": "b1787ae1",
   "metadata": {},
   "outputs": [],
   "source": [
    "def qr_algorithm_eigenvalues(A, num_iterations):\n",
    "    n = A.shape[0]\n",
    "    B = A.copy()\n",
    "    eigenvalues = np.zeros(n)\n",
    "    for _ in range(num_iterations):\n",
    "        Q, R = qr_decomposition(B)\n",
    "        B = np.dot(R, Q)\n",
    "    for i in range(n):\n",
    "        eigenvalues[i] = B[i, i]\n",
    "    return eigenvalues"
   ]
  },
  {
   "cell_type": "code",
   "execution_count": 12,
   "id": "86376844",
   "metadata": {},
   "outputs": [],
   "source": [
    "# Number of iterations for QR algorithm\n",
    "num_iterations = 100\n",
    "\n",
    "eigenvalues = qr_algorithm_eigenvalues(ata, num_iterations)\n",
    "sqrt_eigenvalues = np.sqrt(eigenvalues)"
   ]
  },
  {
   "cell_type": "code",
   "execution_count": 13,
   "id": "d1719f4a-816d-43de-87d0-b1988f8578c3",
   "metadata": {},
   "outputs": [
    {
     "name": "stdout",
     "output_type": "stream",
     "text": [
      "[1170.50078804   79.59180734   75.57988596   64.92827349   61.12110597\n",
      "   57.66221788   55.21407569   53.38711737   49.13200646   46.78150513\n",
      "   40.60023751   39.34681267   37.59729173   32.04974416   29.07846749\n",
      "   25.95769878   22.31850138   21.04043081]\n"
     ]
    }
   ],
   "source": [
    "print(sqrt_eigenvalues)"
   ]
  },
  {
   "cell_type": "code",
   "execution_count": 14,
   "id": "164a92af-d32c-48b3-b99d-3a73047bdc46",
   "metadata": {},
   "outputs": [],
   "source": [
    "def create_diagonal_matrix(m, n, diagonal_values):\n",
    "    \n",
    "    diagonal_matrix = np.zeros((m, n))\n",
    "    min_dim = min(m, n)\n",
    "\n",
    "    for i in range(min_dim):\n",
    "        diagonal_matrix[i, i] = diagonal_values[i]\n",
    "\n",
    "    return diagonal_matrix\n",
    "\n",
    "num_rows, num_cols = new_ratings_array.shape\n",
    "    \n",
    "m = num_rows\n",
    "n = num_cols\n",
    "sigma = create_diagonal_matrix(m, n, sqrt_eigenvalues)"
   ]
  },
  {
   "cell_type": "code",
   "execution_count": 15,
   "id": "9e356498-fdd7-4912-b99a-723c1143aca6",
   "metadata": {},
   "outputs": [
    {
     "name": "stdout",
     "output_type": "stream",
     "text": [
      "[[1170.50078804    0.            0.         ...    0.\n",
      "     0.            0.        ]\n",
      " [   0.           79.59180734    0.         ...    0.\n",
      "     0.            0.        ]\n",
      " [   0.            0.           75.57988596 ...    0.\n",
      "     0.            0.        ]\n",
      " ...\n",
      " [   0.            0.            0.         ...    0.\n",
      "     0.            0.        ]\n",
      " [   0.            0.            0.         ...    0.\n",
      "     0.            0.        ]\n",
      " [   0.            0.            0.         ...    0.\n",
      "     0.            0.        ]]\n"
     ]
    }
   ],
   "source": [
    "print(sigma)"
   ]
  },
  {
   "cell_type": "markdown",
   "id": "35e6a77f",
   "metadata": {},
   "source": [
    "## Normalizing Vectors"
   ]
  },
  {
   "cell_type": "code",
   "execution_count": 16,
   "id": "80031c8b-6c2f-4e02-a572-2672ec7bc2c3",
   "metadata": {},
   "outputs": [],
   "source": [
    "# Function to perform power iteration method\n",
    "def power_iteration(A, num_iterations):\n",
    "    n = A.shape[0]\n",
    "    b_k = np.random.rand(n)\n",
    "    for _ in range(num_iterations):\n",
    "        b_k1 = np.dot(A, b_k)\n",
    "        b_k1_norm = np.linalg.norm(b_k1)\n",
    "        b_k = b_k1 / b_k1_norm\n",
    "    eigenvalue = np.dot(np.dot(b_k, A), b_k) / np.dot(b_k, b_k)\n",
    "    return eigenvalue, b_k"
   ]
  },
  {
   "cell_type": "code",
   "execution_count": 17,
   "id": "2c63d7ef",
   "metadata": {},
   "outputs": [],
   "source": [
    "# Function to find orthogonal eigenvectors\n",
    "def find_orthogonal_eigenvectors(A, num_iterations, num_eigenvectors):\n",
    "    eigenvectors = np.zeros((A.shape[0], num_eigenvectors))\n",
    "    for i in range(num_eigenvectors):\n",
    "        eigenvalue, eigenvector = power_iteration(A, num_iterations)\n",
    "        eigenvectors[:, i] = eigenvector\n",
    "        A -= eigenvalue * np.outer(eigenvector, eigenvector)\n",
    "    return eigenvectors"
   ]
  },
  {
   "cell_type": "code",
   "execution_count": 18,
   "id": "33ca8fb7",
   "metadata": {},
   "outputs": [],
   "source": [
    "num_iterations = 1000\n",
    "num_eigenvectors = ata.shape[0]\n",
    "\n",
    "V = find_orthogonal_eigenvectors(ata, num_iterations, num_eigenvectors)\n",
    "\n",
    "VT=V.T"
   ]
  },
  {
   "cell_type": "code",
   "execution_count": 19,
   "id": "8289ae24-41cf-4a6f-a280-5ba8457cbadc",
   "metadata": {},
   "outputs": [],
   "source": [
    "VTK = VT[:10, :]\n",
    "sigmak = sigma[:10, :10]"
   ]
  },
  {
   "cell_type": "code",
   "execution_count": 20,
   "id": "c7fdb69f-0f6f-4cd5-8df4-a53b625db9ff",
   "metadata": {},
   "outputs": [],
   "source": [
    "sigma_k_inverse = np.linalg.inv(sigmak)"
   ]
  },
  {
   "cell_type": "code",
   "execution_count": 21,
   "id": "54661db6-b920-4ec1-bed6-58d85aa3436b",
   "metadata": {},
   "outputs": [
    {
     "name": "stdout",
     "output_type": "stream",
     "text": [
      "Shape of the resulting array: (6040, 10)\n",
      "[[ 1.84837455e+04 -1.78435090e+02 -3.49028278e+01 ... -2.43211142e+00\n",
      "   2.94317097e+01 -7.32511495e+00]\n",
      " [ 1.67340446e+04  4.51567159e+01  9.69575314e+01 ...  1.79580552e+01\n",
      "   2.38674675e+01  1.76755101e+00]\n",
      " [ 1.80765834e+04 -1.55770343e+02 -4.62601748e+01 ...  1.06608526e+01\n",
      "  -1.56695475e+01  2.84465341e+01]\n",
      " ...\n",
      " [ 1.55449489e+04 -9.42039519e+01  3.45368285e+00 ...  3.67346662e+01\n",
      "   3.46465244e+01  4.86097365e+01]\n",
      " [ 1.94106206e+04  2.02718052e+01  4.02601399e+01 ... -2.93568354e+00\n",
      "   6.54052524e+00  3.94089182e+00]\n",
      " [ 1.80059848e+04  1.15018193e+02 -6.69116513e+01 ... -9.25596734e+00\n",
      "  -4.79526199e+01 -9.45915120e+00]]\n"
     ]
    }
   ],
   "source": [
    "# Initialize a list to store the resulting 1x15 matrices for each row\n",
    "result_list = []\n",
    "\n",
    "next_ratings=ratings_array\n",
    "V1=VTK.T\n",
    "\n",
    "for row in ratings_array:\n",
    "    # Perform matrix multiplication: (1x18) * (18x10) * (10x10)\n",
    "    intermediate_result = np.dot(row, V1)\n",
    "    final_result = np.dot(intermediate_result, sigmak)\n",
    "    \n",
    "    # Append the resulting 1x10 matrix to the result list\n",
    "    result_list.append(final_result)\n",
    "\n",
    "result_array = np.array(result_list)\n",
    "\n",
    "print(\"Shape of the resulting array:\", result_array.shape)\n",
    "print(result_array)"
   ]
  },
  {
   "cell_type": "code",
   "execution_count": 22,
   "id": "24191391-8f30-4ad8-84b4-f4ff92e5797a",
   "metadata": {},
   "outputs": [
    {
     "data": {
      "image/png": "[encoded data removed]",
      "text/plain": [
       "<Figure size 640x480 with 1 Axes>"
      ]
     },
     "metadata": {},
     "output_type": "display_data"
    }
   ],
   "source": [
    "import numpy as np\n",
    "import matplotlib.pyplot as plt\n",
    "from sklearn.cluster import KMeans\n",
    "\n",
    "wcss = []\n",
    "for k in range(1, 11):\n",
    "    kmeans = KMeans(n_clusters=k, init='k-means++', max_iter=300, n_init=10, random_state=0)\n",
    "    kmeans.fit(result_array)\n",
    "    wcss.append(kmeans.inertia_)  \n",
    "\n",
    "# Plot the elbow curve\n",
    "plt.plot(range(1, 11), wcss)\n",
    "plt.title('Elbow Method')\n",
    "plt.xlabel('Number of clusters')\n",
    "plt.ylabel('WCSS')\n",
    "plt.show()"
   ]
  },
  {
   "cell_type": "code",
   "execution_count": 23,
   "id": "d59f719d",
   "metadata": {},
   "outputs": [
    {
     "name": "stdout",
     "output_type": "stream",
     "text": [
      "Cluster labels: [2 1 2 ... 4 2 2]\n",
      "(6040,)\n"
     ]
    }
   ],
   "source": [
    "class KMeans:\n",
    "    def __init__(self, n_clusters=5, max_iter=300):\n",
    "        self.n_clusters = n_clusters\n",
    "        self.max_iter = max_iter\n",
    "\n",
    "    def fit(self, X):\n",
    "        self.centroids = X[np.random.choice(X.shape[0], self.n_clusters, replace=False)]\n",
    "        \n",
    "        for _ in range(self.max_iter):\n",
    "            labels = self._assign_labels(X)\n",
    "            new_centroids = self._update_centroids(X, labels)            \n",
    "            if np.allclose(self.centroids, new_centroids):\n",
    "                break            \n",
    "            self.centroids = new_centroids\n",
    "        \n",
    "        self.labels_ = self._assign_labels(X)\n",
    "    \n",
    "    def _assign_labels(self, X):\n",
    "        distances = np.sqrt(((X - self.centroids[:, np.newaxis])**2).sum(axis=2))\n",
    "        return np.argmin(distances, axis=0)\n",
    "    \n",
    "    def _update_centroids(self, X, labels):\n",
    "        new_centroids = np.zeros_like(self.centroids)\n",
    "        for i in range(self.n_clusters):\n",
    "            new_centroids[i] = np.mean(X[labels == i], axis=0)\n",
    "        return new_centroids\n",
    "\n",
    "    \n",
    "    \n",
    "kmeans = KMeans(n_clusters=5)\n",
    "\n",
    "kmeans.fit(result_array)\n",
    "\n",
    "cluster_labels=kmeans.labels_\n",
    "# Get cluster labels\n",
    "print(\"Cluster labels:\", cluster_labels)\n",
    "print(cluster_labels.shape)"
   ]
  },
  {
   "cell_type": "code",
   "execution_count": 24,
   "id": "e095fe7d-7f08-4b58-8742-5217a5ca0a8c",
   "metadata": {},
   "outputs": [],
   "source": [
    "cluster_labels_with_index = [(index+1, cluster_id) for index, cluster_id in enumerate(cluster_labels)]"
   ]
  },
  {
   "cell_type": "code",
   "execution_count": 25,
   "id": "983f23f0-1e38-4fb9-9b71-e4ccc0952f82",
   "metadata": {},
   "outputs": [],
   "source": [
    "user_item_matrix = ratings_df.pivot(index='UserID', columns='MovieID', values='Rating')"
   ]
  },
  {
   "cell_type": "code",
   "execution_count": 26,
   "id": "5f1c8805-28de-40f7-a5df-e35f11f1b754",
   "metadata": {},
   "outputs": [],
   "source": [
    "user_item_matrix[np.isnan(user_item_matrix)] = 0"
   ]
  },
  {
   "cell_type": "code",
   "execution_count": 27,
   "id": "5e54d848-03bf-49df-9e87-3979864645c6",
   "metadata": {},
   "outputs": [],
   "source": [
    "movies_not_rated_by_user=[]\n",
    "movies_rated_by_user=[]\n",
    "ratings_by_user=[]\n",
    "people_in_same_cluster = []\n",
    "\n",
    "target_user_id = 47\n",
    "\n",
    "for col in user_item_matrix.columns:\n",
    "    if user_item_matrix.loc[target_user_id, col]!=0:\n",
    "        movies_rated_by_user.append(col)\n",
    "        ratings_by_user.append([col,user_item_matrix.loc[target_user_id, col]])\n",
    "\n",
    "for col in user_item_matrix.columns:\n",
    "    if user_item_matrix.loc[target_user_id, col]==0:\n",
    "        movies_not_rated_by_user.append(col)\n",
    "\n",
    "# Identify users in the same cluster as the target user\n",
    "target_user_cluster = cluster_labels[target_user_id - 1]\n",
    "\n",
    "#Finding People in the same cluster as the target user\n",
    "for user_id, cluster in cluster_labels_with_index:\n",
    "    if cluster == target_user_cluster and user_id != target_user_id:\n",
    "        people_in_same_cluster.append(user_id)"
   ]
  },
  {
   "cell_type": "code",
   "execution_count": 28,
   "id": "f649ddb5-3224-4cf1-b52d-c75fb1b28657",
   "metadata": {},
   "outputs": [
    {
     "name": "stdout",
     "output_type": "stream",
     "text": [
      "[[17, 5.0], [34, 4.0], [36, 5.0], [58, 3.0], [249, 4.0], [318, 4.0], [527, 5.0], [593, 2.0], [608, 3.0], [858, 4.0], [902, 4.0], [1041, 5.0], [1089, 3.0], [1193, 4.0], [1208, 4.0], [1213, 4.0], [1221, 4.0], [1247, 4.0], [1949, 4.0], [1956, 4.0], [2406, 3.0], [2804, 4.0]]\n"
     ]
    }
   ],
   "source": [
    "print(ratings_by_user)"
   ]
  },
  {
   "cell_type": "markdown",
   "id": "4b3f92f4",
   "metadata": {},
   "source": [
    "## EXTRA"
   ]
  },
  {
   "cell_type": "raw",
   "id": "d99e1082",
   "metadata": {},
   "source": [
    "import random\n",
    "random_users = [random.randint(1, 6040) for _ in range(50)]\n",
    "print(random_users)"
   ]
  },
  {
   "cell_type": "raw",
   "id": "71515dad",
   "metadata": {},
   "source": [
    "movies_not_rated_by_user=[]\n",
    "movies_rated_by_user=[]\n",
    "ratings_by_user=[]\n",
    "people_in_same_cluster = []\n",
    "\n",
    "# Example target user\n",
    "# target_user_id = random_users\n",
    "\n",
    "for target_user_id in random_users:\n",
    "    for col in user_item_matrix.columns:\n",
    "        if user_item_matrix.loc[target_user_id, col]!=0:\n",
    "            movies_rated_by_user.append(col)\n",
    "            ratings_by_user.append([col,user_item_matrix.loc[target_user_id, col]])\n",
    "\n",
    "#     for col in user_item_matrix.columns:\n",
    "#         if user_item_matrix.loc[target_user_id, col]==0:\n",
    "#             movies_not_rated_by_user.append(col)\n",
    "\n",
    "# # Identify users in the same cluster as the target user\n",
    "target_user_cluster = cluster_labels[target_user_id - 1]  # Adjust index since user_id starts from 1\n",
    "\n",
    "for user_id, cluster in cluster_labels_with_index:\n",
    "    if cluster == target_user_cluster and user_id != target_user_id:\n",
    "        people_in_same_cluster.append(user_id)"
   ]
  },
  {
   "cell_type": "markdown",
   "id": "8ad6ec6e",
   "metadata": {},
   "source": [
    "## Movies Rated By User (For Finding Error)"
   ]
  },
  {
   "cell_type": "code",
   "execution_count": 29,
   "id": "48c19ba6-4a41-46bc-9b72-da5e29022589",
   "metadata": {},
   "outputs": [
    {
     "name": "stdout",
     "output_type": "stream",
     "text": [
      "[[17, 3.75177304964539], [34, 3.5018867924528303], [36, 3.7011494252873565], [58, 3.75], [249, 3.58974358974359], [318, 4.457478005865102], [527, 4.326530612244898], [593, 4.155502392344498], [608, 3.9564102564102566], [858, 4.264406779661017], [902, 3.7264150943396226], [1041, 3.7288135593220337], [1089, 3.9513513513513514], [1193, 4.215613382899628], [1208, 4.03030303030303], [1213, 4.1203319502074685], [1221, 4.067796610169491], [1247, 3.9520958083832336], [1949, 3.962962962962963], [1956, 3.5569620253164556], [2406, 3.280952380952381], [2804, 4.0353535353535355]]\n"
     ]
    }
   ],
   "source": [
    "# Compute recommendations for movies not rated by the target user\n",
    "import math\n",
    "\n",
    "def special_round(num):\n",
    "    if num - math.floor(num) >= 0.5:\n",
    "        return math.ceil(num)\n",
    "    else:\n",
    "        return math.floor(num)\n",
    "        \n",
    "result_list2 = []\n",
    "\n",
    "for movie in movies_rated_by_user:\n",
    "    s = 0\n",
    "    c = 0\n",
    "    for user in people_in_same_cluster:\n",
    "        if user_item_matrix.loc[user,movie] > 0:\n",
    "            s += user_item_matrix.loc[user,movie]\n",
    "            c += 1\n",
    "    if c >=1:\n",
    "        val = s / c\n",
    "        result_list2.append([movie,val])\n",
    "\n",
    "print(result_list2)"
   ]
  },
  {
   "cell_type": "code",
   "execution_count": 30,
   "id": "c65d060b-7271-42e6-a758-dfc1d0f97d5e",
   "metadata": {},
   "outputs": [
    {
     "name": "stdout",
     "output_type": "stream",
     "text": [
      "Mean Squared Error (MSE): 0.6118240723562978\n"
     ]
    }
   ],
   "source": [
    "actual_values = np.array([item[1] for item in ratings_by_user])\n",
    "predicted_values = np.array([item[1] for item in result_list2])\n",
    "\n",
    "mse = np.mean((actual_values - predicted_values) ** 2)\n",
    "\n",
    "print(f\"Mean Squared Error (MSE): {mse}\")"
   ]
  },
  {
   "cell_type": "markdown",
   "id": "7f799928",
   "metadata": {},
   "source": [
    "## Making Predictions"
   ]
  },
  {
   "cell_type": "code",
   "execution_count": 31,
   "id": "2823cafb-f660-429b-a2bb-63528684e8ee",
   "metadata": {},
   "outputs": [],
   "source": [
    "# Compute recommendations for movies not rated by the target user\n",
    "result_list = []\n",
    "\n",
    "for movie in movies_not_rated_by_user:\n",
    "    s = 0\n",
    "    c = 0\n",
    "    for user in people_in_same_cluster:\n",
    "        if user_item_matrix.loc[user,movie] > 0:\n",
    "            s += user_item_matrix.loc[user,movie]\n",
    "            c += 1\n",
    "    if c >= 10:\n",
    "        val = s / c\n",
    "        result_list.append([val,movie])"
   ]
  },
  {
   "cell_type": "code",
   "execution_count": 32,
   "id": "e5b8f52b-2350-4a47-9e74-d2460c72365a",
   "metadata": {},
   "outputs": [
    {
     "name": "stdout",
     "output_type": "stream",
     "text": [
      "[[4.583333333333333, 1178], [4.35361216730038, 50], [4.333333333333333, 3470], [4.324675324675325, 2019], [4.2727272727272725, 2905], [4.266666666666667, 2607], [4.25, 3089], [4.240259740259741, 2324], [4.215346534653466, 2762], [4.189473684210526, 1204], [4.186915887850467, 1148], [4.181818181818182, 1046], [4.181818181818182, 3746], [4.178571428571429, 3307], [4.175438596491228, 922], [4.172413793103448, 913], [4.168539325842697, 745], [4.167630057803469, 750], [4.166666666666667, 2351], [4.16, 678], [4.153846153846154, 2360], [4.153846153846154, 3091], [4.1449044585987265, 2858], [4.139344262295082, 2329], [4.138888888888889, 1189], [4.133802816901408, 923], [4.127659574468085, 306], [4.123287671232877, 1223], [4.117647058823529, 1250], [4.116945107398568, 2028], [4.116071428571429, 904], [4.115151515151515, 908], [4.113095238095238, 1198], [4.111111111111111, 1233], [4.1020408163265305, 1212], [4.100961538461538, 260], [4.100840336134453, 1276], [4.1, 3188], [4.096774193548387, 1218], [4.092233009708738, 2571], [4.090909090909091, 599], [4.08235294117647, 1262], [4.081632653061225, 1254], [4.080357142857143, 1207], [4.076923076923077, 3030], [4.074074074074074, 2186], [4.072463768115942, 1248], [4.071428571428571, 2726], [4.0675675675675675, 1284], [4.0576923076923075, 720], [4.0576923076923075, 3083], [4.055813953488372, 912], [4.052631578947368, 296], [4.052083333333333, 1267], [4.0519480519480515, 3683], [4.051282051282051, 1209], [4.043478260869565, 932], [4.043478260869565, 1176], [4.037037037037037, 950], [4.037037037037037, 1172], [4.026666666666666, 3435], [4.022222222222222, 1252], [4.020408163265306, 741], [4.0184049079754605, 2692], [4.016949152542373, 3949], [4.007025761124122, 110], [4.0, 1136], [4.0, 1147], [4.0, 1237], [4.0, 2066], [4.0, 2721], [4.0, 3000], [4.0, 3134], [4.0, 3310], [4.0, 3801], [4.0, 3851], [4.0, 3859], [3.9901960784313726, 903], [3.989247311827957, 1272], [3.9838709677419355, 2318], [3.9836065573770494, 1104], [3.9836065573770494, 1704], [3.981818181818182, 1197], [3.981132075471698, 926], [3.977777777777778, 3265], [3.9767441860465116, 1217], [3.9722222222222223, 2966], [3.971830985915493, 1196], [3.970149253731343, 1449], [3.968152866242038, 3897], [3.967741935483871, 1203], [3.967391304347826, 111], [3.9583333333333335, 951], [3.9583333333333335, 3634], [3.9548022598870056, 1358], [3.95, 1260], [3.9491525423728815, 1719], [3.948717948717949, 3429], [3.9473684210526314, 1236], [3.9456521739130435, 3911], [3.942528735632184, 1225], [3.9411764705882355, 41], [3.9393939393939394, 2788], [3.9375, 3469], [3.935483870967742, 3783], [3.933333333333333, 1545], [3.9310344827586206, 1361], [3.930817610062893, 3006], [3.9306930693069306, 953], [3.9302325581395348, 1280], [3.9285714285714284, 2731], [3.925925925925926, 1734], [3.9241877256317688, 2959], [3.923076923076923, 3925], [3.9182561307901906, 3578], [3.9166666666666665, 541], [3.9166666666666665, 1788], [3.9166666666666665, 2132], [3.9166666666666665, 2618], [3.9148936170212765, 954], [3.9047619047619047, 1935], [3.904109589041096, 1256], [3.903225806451613, 2203], [3.9026548672566372, 1201], [3.902439024390244, 446], [3.902439024390244, 1234], [3.901639344262295, 3468], [3.9, 1293], [3.899408284023669, 1304], [3.895, 1394], [3.8947368421052633, 1224], [3.8947368421052633, 1946], [3.89247311827957, 1269], [3.8908045977011496, 1242], [3.8907563025210083, 3114], [3.888888888888889, 2624], [3.888888888888889, 2859], [3.8876404494382024, 1610], [3.8860759493670884, 3095], [3.8857142857142857, 1927], [3.8846153846153846, 1446], [3.8846153846153846, 2357], [3.8846153846153846, 3147], [3.8823529411764706, 1266], [3.88, 1132], [3.8777777777777778, 246], [3.876923076923077, 2728], [3.87598944591029, 2997], [3.875, 955], [3.875, 1131], [3.8737864077669903, 47], [3.8733333333333335, 1288], [3.873015873015873, 1945], [3.8703703703703702, 916], [3.87, 1299], [3.8666666666666667, 3467], [3.8620689655172415, 1289], [3.8613861386138613, 2761], [3.857142857142857, 3022], [3.857142857142857, 3606], [3.856164383561644, 1240], [3.8555555555555556, 1952], [3.853801169590643, 2396], [3.85, 1069], [3.8493150684931505, 2300], [3.847457627118644, 930], [3.8461538461538463, 1303], [3.8461538461538463, 1617], [3.8448275862068964, 3035], [3.844155844155844, 1235], [3.8440366972477062, 1263], [3.8434782608695652, 969], [3.8421052631578947, 82], [3.8404255319148937, 910], [3.8392857142857144, 1214], [3.8365019011406845, 1200], [3.834254143646409, 1090], [3.8333333333333335, 97], [3.8333333333333335, 1950], [3.8333333333333335, 2940], [3.8333333333333335, 3741], [3.8333333333333335, 3831], [3.831460674157303, 1253], [3.830670926517572, 457], [3.8297872340425534, 3196], [3.827731092436975, 1036], [3.826923076923077, 3198], [3.825870646766169, 356], [3.822429906542056, 1228], [3.8209876543209877, 2908], [3.8181818181818183, 803], [3.8181818181818183, 3090], [3.816, 1080], [3.8155339805825244, 1961], [3.8118811881188117, 2064], [3.810810810810811, 307], [3.81, 1222], [3.8098159509202456, 1278], [3.8095238095238093, 581], [3.8076923076923075, 293], [3.803921568627451, 940], [3.8, 994], [3.8, 1111], [3.8, 1264], [3.8, 1827], [3.8, 2285], [3.8, 3339], [3.7966101694915255, 1283], [3.7966101694915255, 2010], [3.7948717948717947, 3365], [3.7936507936507935, 1294], [3.7925531914893615, 1219], [3.792452830188679, 1245], [3.791044776119403, 3508], [3.7906976744186047, 3317], [3.7906976744186047, 3730], [3.789473684210526, 2336], [3.7872340425531914, 101], [3.7848101265822787, 2501], [3.784090909090909, 800], [3.7787610619469025, 2918], [3.7777777777777777, 1199], [3.7777777777777777, 2171], [3.775, 3916], [3.773480662983425, 1258], [3.772727272727273, 1230], [3.772727272727273, 3728], [3.769230769230769, 2029], [3.769230769230769, 3077], [3.7666666666666666, 3629], [3.764957264957265, 1291], [3.764705882352941, 2612], [3.7635658914728682, 1784], [3.763157894736842, 942], [3.763157894736842, 3811], [3.76271186440678, 3681], [3.761904761904762, 3088], [3.760869565217391, 1300], [3.76, 535], [3.76, 945], [3.76, 1273], [3.7586206896551726, 1301], [3.7555555555555555, 3037], [3.7551020408163267, 1997], [3.7547169811320753, 538], [3.7545454545454544, 589], [3.754385964912281, 2921], [3.753623188405797, 3334], [3.75, 2682], [3.7465753424657535, 2248], [3.746268656716418, 162], [3.7452830188679247, 1287], [3.744075829383886, 3160], [3.7419354838709675, 1387], [3.740740740740741, 898], [3.740740740740741, 3475], [3.736842105263158, 314], [3.736842105263158, 1244], [3.735294117647059, 1953], [3.735294117647059, 3079], [3.7333333333333334, 928], [3.7333333333333334, 2437], [3.727272727272727, 279], [3.727272727272727, 897], [3.727272727272727, 917], [3.727272727272727, 2935], [3.7264150943396226, 3178], [3.725, 911], [3.7241379310344827, 290], [3.7222222222222223, 556], [3.7222222222222223, 2575], [3.7191011235955056, 1206], [3.71875, 1251], [3.717948717948718, 1079], [3.717391304347826, 899], [3.7172131147540983, 924], [3.716417910447761, 2917], [3.7142857142857144, 1023], [3.7142857142857144, 1411], [3.7142857142857144, 3408], [3.7127659574468086, 628], [3.711864406779661, 3148], [3.7111111111111112, 905], [3.710526315789474, 1249], [3.710526315789474, 2303], [3.707317073170732, 914], [3.707317073170732, 1963], [3.7045454545454546, 194], [3.7045454545454546, 3007], [3.704081632653061, 1921], [3.7027027027027026, 176], [3.7, 1259], [3.7, 2611], [3.7, 2757], [3.698744769874477, 1307], [3.6982758620689653, 529], [3.696629213483146, 1084], [3.6953642384105962, 1210], [3.6944444444444446, 921], [3.6923076923076925, 150], [3.6923076923076925, 2295], [3.6923076923076925, 2585], [3.6923076923076925, 2820], [3.6907216494845363, 1231], [3.6875, 308], [3.6875, 941], [3.684931506849315, 1274], [3.684931506849315, 2313], [3.6842105263157894, 2020], [3.6818181818181817, 28], [3.6794871794871793, 3671], [3.6788990825688073, 2944], [3.6785714285714284, 2973], [3.6785714285714284, 3814], [3.67816091954023, 2664], [3.6774193548387095, 1797], [3.676767676767677, 2686], [3.6724137931034484, 3551], [3.672185430463576, 1], [3.6714285714285713, 3836], [3.6666666666666665, 892], [3.6666666666666665, 1941], [3.6666666666666665, 2801], [3.6666666666666665, 3150], [3.6666666666666665, 3347], [3.6666666666666665, 3462], [3.6636363636363636, 508], [3.6601123595505616, 1265], [3.6592592592592594, 2289], [3.659090909090909, 3910], [3.6575342465753424, 515], [3.657142857142857, 3507], [3.6554054054054053, 1625], [3.6551724137931036, 2677], [3.6538461538461537, 2206], [3.6530612244897958, 553], [3.652173913043478, 6], [3.652173913043478, 223], [3.6511627906976742, 2819], [3.6493506493506493, 3510], [3.6483516483516483, 3504], [3.6470588235294117, 1730], [3.6470588235294117, 3246], [3.6470588235294117, 3723], [3.646153846153846, 3952], [3.642857142857143, 714], [3.642857142857143, 1211], [3.642857142857143, 1693], [3.642857142857143, 2204], [3.642458100558659, 3421], [3.640449438202247, 1188], [3.64, 555], [3.64, 1187], [3.64, 1931], [3.64, 3451], [3.6363636363636362, 1939], [3.6363636363636362, 2766], [3.6363636363636362, 2970], [3.6363636363636362, 3074], [3.6363636363636362, 3654], [3.6352459016393444, 1923], [3.6341463414634148, 1392], [3.6320754716981134, 2795], [3.630434782608696, 2268], [3.6301369863013697, 919], [3.627450980392157, 3271], [3.626865671641791, 2599], [3.6261682242990654, 2871], [3.625, 3086], [3.625, 3521], [3.625, 3872], [3.621794871794872, 1246], [3.6206896551724137, 1281], [3.6205533596837944, 733], [3.619047619047619, 3350], [3.6179775280898876, 1257], [3.6176470588235294, 971], [3.6176470588235294, 1292], [3.6176470588235294, 2745], [3.6153846153846154, 117], [3.6153846153846154, 2943], [3.6153846153846154, 3363], [3.6153846153846154, 3735], [3.6140350877192984, 29], [3.613861386138614, 2333], [3.613259668508287, 1641], [3.61271676300578, 2194], [3.6122448979591835, 1680], [3.611111111111111, 425], [3.611111111111111, 3789], [3.610526315789474, 2662], [3.608695652173913, 1086], [3.608695652173913, 1243], [3.608695652173913, 2948], [3.608294930875576, 2395], [3.6082089552238807, 1968], [3.608, 778], [3.607843137254902, 3498], [3.607142857142857, 2310], [3.607142857142857, 2654], [3.607142857142857, 2660], [3.6056338028169015, 247], [3.6044776119402986, 2791], [3.6041666666666665, 1944], [3.603305785123967, 2947], [3.6031746031746033, 3359], [3.6027397260273974, 2067], [3.6, 321], [3.6, 1060], [3.6, 1162], [3.6, 1175], [3.6, 1516], [3.6, 2330], [3.6, 3289], [3.6, 3471], [3.5970149253731343, 1124], [3.5962732919254656, 3552], [3.5961538461538463, 232], [3.5949367088607596, 1270], [3.5945945945945947, 2176], [3.5945945945945947, 3788], [3.5945945945945947, 3819], [3.593220338983051, 1275], [3.5925925925925926, 3481], [3.5918367346938775, 428], [3.591549295774648, 2951], [3.58974358974359, 1348], [3.58974358974359, 1643], [3.5871559633027523, 497], [3.5869565217391304, 562], [3.5833333333333335, 32], [3.5833333333333335, 964], [3.5833333333333335, 2202], [3.5833333333333335, 2442], [3.5833333333333335, 2939], [3.5806451612903225, 2183], [3.58, 1594], [3.5793357933579335, 3793], [3.5789473684210527, 213], [3.5789473684210527, 1277], [3.577777777777778, 3328], [3.576923076923077, 2580], [3.576923076923077, 3364], [3.573529411764706, 3019], [3.573529411764706, 3668], [3.5733333333333333, 1674], [3.5714285714285716, 474], [3.5714285714285716, 909], [3.5714285714285716, 936], [3.5714285714285716, 943], [3.5714285714285716, 2068], [3.5714285714285716, 3097], [3.5714285714285716, 3379], [3.5714285714285716, 3406], [3.5686274509803924, 3384], [3.568527918781726, 1500], [3.568345323741007, 1302], [3.5675675675675675, 3516], [3.5671641791044775, 16], [3.566666666666667, 262], [3.566666666666667, 1099], [3.566666666666667, 1678], [3.566666666666667, 3742], [3.566371681415929, 2109], [3.5652173913043477, 3357], [3.56, 866], [3.5594405594405596, 2706], [3.559322033898305, 3505], [3.557142857142857, 1834], [3.557142857142857, 1955], [3.5569105691056913, 3753], [3.5555555555555554, 1103], [3.5522388059701493, 1663], [3.5510204081632653, 125], [3.5510204081632653, 1537], [3.5510204081632653, 3062], [3.55, 2570], [3.5483870967741935, 2071], [3.547222222222222, 2716], [3.5462962962962963, 1271], [3.546218487394958, 1393], [3.5454545454545454, 1261], [3.5454545454545454, 1279], [3.5454545454545454, 1962], [3.5454545454545454, 2621], [3.5454545454545454, 2932], [3.5454545454545454, 2969], [3.5454545454545454, 3713], [3.5434782608695654, 2355], [3.543307086614173, 1282], [3.5428571428571427, 3420], [3.5416666666666665, 1227], [3.5396825396825395, 1466], [3.5377358490566038, 2076], [3.536723163841808, 1954], [3.5365853658536586, 2872], [3.5357142857142856, 2398], [3.5357142857142856, 3135], [3.5357142857142856, 3727], [3.5341614906832297, 440], [3.533333333333333, 613], [3.532567049808429, 2000], [3.5319148936170213, 3366], [3.53125, 2693], [3.5306122448979593, 1096], [3.5294117647058822, 3543], [3.5294117647058822, 3720], [3.527638190954774, 1220], [3.526315789473684, 449], [3.526315789473684, 1066], [3.526315789473684, 3182], [3.5260663507109005, 1673], [3.5254237288135593, 2288], [3.5233644859813085, 1885], [3.522727272727273, 1907], [3.5217391304347827, 2436], [3.5217391304347827, 2542], [3.5208333333333335, 1615], [3.5203252032520327, 337], [3.52, 2208], [3.519774011299435, 1682], [3.519607843137255, 1960], [3.5194805194805197, 1296], [3.519230769230769, 2138], [3.519230769230769, 2565], [3.51875, 920], [3.5185185185185186, 2125], [3.5185185185185186, 3747], [3.5172413793103448, 1845], [3.515463917525773, 1947], [3.514705882352941, 2648], [3.5145631067961167, 3751], [3.5142857142857142, 2302], [3.5135135135135136, 2670], [3.513227513227513, 1215], [3.5126050420168067, 265], [3.5126050420168067, 590], [3.5123456790123457, 3499], [3.512, 2391], [3.511904761904762, 1095], [3.511627906976744, 2502], [3.511111111111111, 3512], [3.508771929824561, 492], [3.506666666666667, 2912], [3.5047169811320753, 1374], [3.5041322314049586, 3105], [3.5037593984962405, 3210], [3.5031847133757963, 3361], [3.5, 155], [3.5, 156], [3.5, 309], [3.5, 838], [3.5, 1357], [3.5, 1563], [3.5, 2070], [3.5, 2596], [3.5, 2889], [3.5, 2922], [3.5, 3067], [3.5, 3068], [3.5, 3200], [3.5, 3201], [3.5, 3275], [3.5, 3358], [3.5, 3360], [3.5, 3424], [3.5, 3929], [3.4962406015037595, 3039], [3.4948453608247423, 2841], [3.4948453608247423, 3060], [3.4919786096256686, 1408], [3.4909090909090907, 3545], [3.490740740740741, 1097], [3.490566037735849, 1012], [3.490566037735849, 1517], [3.489795918367347, 3179], [3.489795918367347, 3362], [3.4881889763779528, 1333], [3.4878048780487805, 1635], [3.4878048780487805, 3244], [3.487562189054726, 11], [3.484536082474227, 3098], [3.4838709677419355, 1732], [3.4827586206896552, 1897], [3.4814814814814814, 728], [3.4814814814814814, 1305], [3.4814814814814814, 2952], [3.480916030534351, 1285], [3.480769230769231, 2401], [3.48, 3624], [3.48, 3794], [3.4782608695652173, 280], [3.4782608695652173, 2370], [3.4782608695652173, 3546], [3.477272727272727, 475], [3.4767441860465116, 3536], [3.4761904761904763, 373], [3.4761904761904763, 1150], [3.475177304964539, 161], [3.473684210526316, 319], [3.4716981132075473, 3129], [3.4705882352941178, 534], [3.4705882352941178, 635], [3.4705882352941178, 2725], [3.4705882352941178, 3932], [3.4696969696969697, 1914], [3.467289719626168, 3100], [3.467032967032967, 2890], [3.466666666666667, 431], [3.466666666666667, 1161], [3.466666666666667, 2880], [3.4634146341463414, 1873], [3.462962962962963, 480], [3.462962962962963, 915], [3.462962962962963, 2114], [3.4615384615384617, 1344], [3.4615384615384617, 2467], [3.4615384615384617, 3487], [3.4583333333333335, 2750], [3.4571428571428573, 345], [3.4571428571428573, 3871], [3.4565217391304346, 1025], [3.456140350877193, 933], [3.4545454545454546, 268], [3.4545454545454546, 348], [3.4545454545454546, 906], [3.4545454545454546, 1942], [3.4523809523809526, 73], [3.4523809523809526, 322], [3.4523809523809526, 2130], [3.4516129032258065, 1226], [3.451178451178451, 3175], [3.45, 2178], [3.45, 3405], [3.4482758620689653, 1185], [3.4482758620689653, 3256], [3.4461538461538463, 2231], [3.4461538461538463, 2282], [3.445945945945946, 1694], [3.445859872611465, 1912], [3.4444444444444446, 949], [3.4444444444444446, 2729], [3.4444444444444446, 3071], [3.4444444444444446, 3682], [3.4444444444444446, 3823], [3.443548387096774, 2359], [3.443243243243243, 3052], [3.4423076923076925, 233], [3.4415584415584415, 3479], [3.44, 1077], [3.44, 2212], [3.439252336448598, 671], [3.4375, 388], [3.4375, 1648], [3.4375, 3658], [3.4363636363636365, 1633], [3.43609022556391, 3386], [3.4358974358974357, 1994], [3.4347826086956523, 851], [3.4347826086956523, 1904], [3.4344262295081966, 2352], [3.4305555555555554, 2137], [3.4302325581395348, 1653], [3.4295302013422817, 2671], [3.4285714285714284, 190], [3.4285714285714284, 456], [3.4285714285714284, 650], [3.4285714285714284, 944], [3.4285714285714284, 1050], [3.4285714285714284, 1192], [3.4262295081967213, 272], [3.4262295081967213, 3556], [3.425, 1683], [3.423076923076923, 1177], [3.423076923076923, 3152], [3.4225352112676055, 3397], [3.4224137931034484, 1982], [3.422222222222222, 3044], [3.422110552763819, 597], [3.4210526315789473, 947], [3.4210526315789473, 1171], [3.4207920792079207, 539], [3.4201680672268906, 471], [3.4201183431952664, 1639], [3.42, 2312], [3.4177215189873418, 2301], [3.417525773195876, 3448], [3.4171122994652405, 2353], [3.4166666666666665, 978], [3.4166666666666665, 1940], [3.4166666666666665, 3185], [3.4146341463414633, 1032], [3.4123711340206184, 3186], [3.410138248847926, 2700], [3.4098360655737703, 3461], [3.409090909090909, 1179], [3.409090909090909, 2919], [3.4074074074074074, 1034], [3.40625, 3093], [3.40625, 3342], [3.4054054054054053, 1542], [3.4050632911392404, 3260], [3.4039408866995076, 349], [3.403314917127072, 364], [3.403225806451613, 2993], [3.4029850746268657, 69], [3.402439024390244, 52], [3.402222222222222, 1580], [3.4, 808], [3.4, 965], [3.4, 973], [3.4, 1362], [3.4, 1814], [3.4, 2069], [3.4, 2243], [3.4, 2511], [3.4, 2812], [3.4, 2936], [3.4, 2983], [3.4, 3790], [3.3974358974358974, 235], [3.395348837209302, 2739], [3.3947368421052633, 2891], [3.393939393939394, 14], [3.3934426229508197, 531], [3.392857142857143, 3189], [3.3902439024390243, 281], [3.3896103896103895, 3101], [3.388888888888889, 483], [3.3877551020408165, 1033], [3.3877551020408165, 3203], [3.3873873873873874, 3104], [3.3870967741935485, 2078], [3.3870967741935485, 2852], [3.3846153846153846, 927], [3.3846153846153846, 1854], [3.3846153846153846, 3034], [3.3833333333333333, 493], [3.382716049382716, 3108], [3.3823529411764706, 2916], [3.3816425120772946, 357], [3.381443298969072, 509], [3.381443298969072, 1407], [3.380952380952381, 594], [3.380952380952381, 948], [3.380952380952381, 1484], [3.380952380952381, 3341], [3.3807106598984773, 1396], [3.3793103448275863, 931], [3.3793103448275863, 2730], [3.3783783783783785, 62], [3.3783783783783785, 2863], [3.377049180327869, 2117], [3.3768115942028984, 3159], [3.375, 3096], [3.375, 3915], [3.3737373737373737, 2949], [3.372093023255814, 1035], [3.3716814159292037, 3252], [3.3714285714285714, 2583], [3.370967741935484, 1672], [3.3703703703703702, 3011], [3.369565217391304, 86], [3.3684210526315788, 1824], [3.36734693877551, 2644], [3.3666666666666667, 441], [3.3655172413793104, 104], [3.3652694610778444, 25], [3.3646616541353382, 380], [3.3636363636363638, 21], [3.3636363636363638, 78], [3.3636363636363638, 299], [3.3636363636363638, 2073], [3.360248447204969, 595], [3.358974358974359, 3639], [3.3577981651376145, 524], [3.357142857142857, 261], [3.357142857142857, 523], [3.357142857142857, 1019], [3.356164383561644, 2690], [3.3541666666666665, 3125], [3.3529411764705883, 482], [3.3529411764705883, 946], [3.3513513513513513, 1061], [3.3513513513513513, 1660], [3.35, 968], [3.35, 2232], [3.35, 2236], [3.3495934959349594, 3396], [3.3492063492063493, 2139], [3.3484848484848486, 3526], [3.3482142857142856, 3255], [3.347826086956522, 2108], [3.347826086956522, 3936], [3.3473684210526318, 3555], [3.34640522875817, 2572], [3.3446601941747574, 1073], [3.3442622950819674, 1078], [3.3434343434343434, 1345], [3.343283582089552, 2707], [3.3427230046948355, 2763], [3.3421052631578947, 94], [3.34, 1527], [3.3392857142857144, 1584], [3.3389830508474576, 2115], [3.3380281690140845, 1957], [3.3378378378378377, 1356], [3.3374233128834354, 1183], [3.336448598130841, 1059], [3.3353658536585367, 454], [3.3333333333333335, 334], [3.3333333333333335, 501], [3.3333333333333335, 549], [3.3333333333333335, 680], [3.3333333333333335, 759], [3.3333333333333335, 766], [3.3333333333333335, 907], [3.3333333333333335, 1085], [3.3333333333333335, 1184], [3.3333333333333335, 1343], [3.3333333333333335, 2347], [3.3333333333333335, 2390], [3.3333333333333335, 2439], [3.3333333333333335, 2443], [3.3333333333333335, 2879], [3.3333333333333335, 2967], [3.3333333333333335, 3075], [3.3333333333333335, 3548], [3.3333333333333335, 3598], [3.3333333333333335, 3613], [3.3333333333333335, 3822], [3.3303964757709252, 1608], [3.326923076923077, 3576], [3.3260869565217392, 412], [3.3260869565217392, 3163], [3.3244444444444445, 3081], [3.324324324324324, 1340], [3.323529411764706, 164], [3.3225806451612905, 805], [3.3225806451612905, 3078], [3.3220338983050848, 222], [3.3214285714285716, 918], [3.32, 605], [3.3191489361702127, 2144], [3.3181818181818183, 2272], [3.3181818181818183, 3213], [3.3178807947019866, 2058], [3.317073170731707, 342], [3.317073170731707, 3418], [3.3157894736842106, 171], [3.3157894736842106, 507], [3.3157894736842106, 3594], [3.315151515151515, 3072], [3.315068493150685, 588], [3.3149606299212597, 3298], [3.313953488372093, 3267], [3.3125, 929], [3.3125, 2738], [3.3125, 3813], [3.310344827586207, 1401], [3.3098591549295775, 361], [3.3095238095238093, 1290], [3.308641975308642, 3168], [3.3085106382978724, 1120], [3.3076923076923075, 269], [3.3076923076923075, 2314], [3.3076923076923075, 2488], [3.3076923076923075, 3920], [3.3070866141732282, 3868], [3.3065693430656933, 1748], [3.3043478260869565, 1554], [3.3043478260869565, 3028], [3.3043478260869565, 3604], [3.303448275862069, 1721], [3.3020833333333335, 2321], [3.3015873015873014, 934], [3.3, 2210], [3.3, 2991], [3.3, 3539], [3.3, 3844], [3.2994011976047903, 253], [3.2982456140350878, 2348], [3.2980132450331126, 3948], [3.2962962962962963, 215], [3.2962962962962963, 986], [3.2954545454545454, 1964], [3.2941176470588234, 2988], [3.2937853107344632, 551], [3.2934782608695654, 1186], [3.292929292929293, 3893], [3.2928571428571427, 266], [3.2925531914893615, 1094], [3.2916666666666665, 2181], [3.29, 1321], [3.289473684210526, 1414], [3.288135593220339, 300], [3.287878787878788, 1701], [3.287769784172662, 1028], [3.2875, 3635], [3.2857142857142856, 3466], [3.2857142857142856, 3494], [3.284313725490196, 1127], [3.284313725490196, 1967], [3.284090909090909, 2529], [3.283582089552239, 514], [3.2830188679245285, 861], [3.2824858757062145, 1101], [3.2816901408450705, 141], [3.28125, 1729], [3.28, 3174], [3.28, 3812], [3.2790697674418605, 1354], [3.2780269058295963, 3527], [3.2777777777777777, 3066], [3.2777777777777777, 3412], [3.2758620689655173, 1948], [3.2758620689655173, 2160], [3.2753623188405796, 3618], [3.272727272727273, 207], [3.272727272727273, 347], [3.272727272727273, 391], [3.272727272727273, 1310], [3.272727272727273, 1612], [3.2714285714285714, 2112], [3.2708333333333335, 180], [3.2708333333333335, 2022], [3.2708333333333335, 2764], [3.27027027027027, 339], [3.269230769230769, 3296], [3.269230769230769, 3554], [3.2685185185185186, 1959], [3.268292682926829, 574], [3.268292682926829, 1297], [3.2681159420289854, 2273], [3.2666666666666666, 893], [3.2661290322580645, 2140], [3.2653061224489797, 1238], [3.260869565217391, 1938], [3.2583892617449663, 377], [3.2583333333333333, 2797], [3.2580645161290325, 1966], [3.2577319587628866, 151], [3.252808988764045, 1376], [3.25, 1125], [3.25, 1295], [3.25, 1350], [3.25, 1929], [3.25, 2037], [3.25, 2182], [3.25, 2349], [3.25, 2649], [3.25, 2736], [3.25, 2883], [3.25, 3368], [3.25, 3370], [3.25, 3480], [3.25, 3496], [3.25, 3538], [3.2454545454545456, 1476], [3.2448979591836733, 1485], [3.244186046511628, 1569], [3.2439024390243905, 2490], [3.2435897435897436, 368], [3.2432432432432434, 289], [3.2432432432432434, 848], [3.2432432432432434, 2118], [3.2432432432432434, 3700], [3.2427184466019416, 3107], [3.242424242424242, 991], [3.2419354838709675, 39], [3.2409638554216866, 3176], [3.24, 2669], [3.24, 2732], [3.2395833333333335, 3798], [3.239130434782609, 1194], [3.238095238095238, 1051], [3.235294117647059, 3726], [3.234375, 1916], [3.2338709677419355, 2080], [3.2325581395348837, 837], [3.2318840579710146, 2539], [3.230769230769231, 1365], [3.230769230769231, 2341], [3.230769230769231, 3138], [3.230769230769231, 3882], [3.2291666666666665, 333], [3.2291666666666665, 3102], [3.2285714285714286, 3155], [3.227642276422764, 2161], [3.227272727272727, 354], [3.227272727272727, 647], [3.227272727272727, 2340], [3.227272727272727, 2782], [3.2267441860465116, 780], [3.225806451612903, 521], [3.225806451612903, 3167], [3.2253521126760565, 2096], [3.225, 2423], [3.2231404958677685, 2366], [3.2202380952380953, 165], [3.21875, 663], [3.21875, 1892], [3.2183406113537116, 592], [3.2171052631578947, 3703], [3.2169811320754715, 2371], [3.2162162162162162, 2971], [3.215686274509804, 2968], [3.2153846153846155, 1092], [3.2151898734177213, 1298], [3.2142857142857144, 72], [3.2142857142857144, 2550], [3.213872832369942, 2006], [3.2127659574468086, 1057], [3.2111111111111112, 1022], [3.210526315789474, 764], [3.210526315789474, 2240], [3.210526315789474, 3046], [3.210526315789474, 3111], [3.208955223880597, 1810], [3.207317073170732, 2403], [3.2051282051282053, 1875], [3.2051282051282053, 2065], [3.2045454545454546, 3827], [3.202127659574468, 3450], [3.201219512195122, 353], [3.2, 10], [3.2, 43], [3.2, 199], [3.2, 390], [3.2, 900], [3.2, 1017], [3.2, 1794], [3.2, 1865], [3.2, 1934], [3.2, 1937], [3.2, 2104], [3.2, 2345], [3.2, 2661], [3.2, 3008], [3.2, 3020], [3.2, 3117], [3.2, 3204], [3.2, 3372], [3.2, 3375], [3.2, 3858], [3.198830409356725, 2424], [3.196969696969697, 2687], [3.196969696969697, 3633], [3.195767195767196, 1645], [3.1956521739130435, 2025], [3.1956521739130435, 3169], [3.1954022988505746, 1029], [3.1944444444444446, 2915], [3.1924398625429555, 2987], [3.1923076923076925, 2024], [3.1923076923076925, 2166], [3.1923076923076925, 2361], [3.191919191919192, 1441], [3.191780821917808, 596], [3.1904761904761907, 123], [3.1904761904761907, 1190], [3.1904761904761907, 1619], [3.189189189189189, 3733], [3.1875, 7], [3.1875, 1419], [3.1875, 2097], [3.1875, 3259], [3.1875, 3896], [3.1870503597122304, 2193], [3.1862745098039214, 1047], [3.18562874251497, 785], [3.185185185185185, 85], [3.1846153846153844, 481], [3.182965299684543, 2683], [3.1818181818181817, 99], [3.1818181818181817, 959], [3.1818181818181817, 1180], [3.1818181818181817, 1922], [3.1818181818181817, 2075], [3.1818181818181817, 2180], [3.1818181818181817, 2271], [3.1818181818181817, 3571], [3.1818181818181817, 3852], [3.180327868852459, 1965], [3.180327868852459, 2857], [3.1773049645390072, 3005], [3.176470588235294, 421], [3.176470588235294, 2663], [3.1758241758241756, 1909], [3.1752577319587627, 2085], [3.1739130434782608, 154], [3.1739130434782608, 2290], [3.1739130434782608, 2414], [3.172727272727273, 163], [3.1724137931034484, 3513], [3.1721311475409837, 832], [3.1714285714285713, 2633], [3.169230769230769, 3398], [3.1690140845070425, 230], [3.167487684729064, 3253], [3.1666666666666665, 30], [3.1666666666666665, 735], [3.1666666666666665, 1518], [3.1666666666666665, 1758], [3.1666666666666665, 1913], [3.1666666666666665, 1936], [3.1666666666666665, 2924], [3.1666666666666665, 3456], [3.1666666666666665, 3599], [3.1666666666666665, 3771], [3.164383561643836, 224], [3.1636363636363636, 3740], [3.1627906976744184, 1805], [3.1624365482233503, 3755], [3.1609756097560977, 2985], [3.160919540229885, 3617], [3.1604938271604937, 2278], [3.160377358490566, 3087], [3.1603053435114505, 2150], [3.16, 57], [3.159090909090909, 3928], [3.158536585365854, 3261], [3.158333333333333, 2174], [3.1578947368421053, 2714], [3.1578947368421053, 2774], [3.1578947368421053, 3675], [3.1566265060240966, 1747], [3.15625, 2779], [3.15625, 3061], [3.155844155844156, 1129], [3.1550387596899223, 3763], [3.154185022026432, 1370], [3.1538461538461537, 3181], [3.152941176470588, 2018], [3.152173913043478, 2159], [3.15, 506], [3.15, 1686], [3.15, 3653], [3.1481481481481484, 1649], [3.1481481481481484, 2077], [3.1481481481481484, 3566], [3.1470588235294117, 448], [3.1470588235294117, 1597], [3.146153846153846, 3476], [3.146067415730337, 2291], [3.1447368421052633, 799], [3.1446540880503147, 2081], [3.1444444444444444, 1958], [3.142857142857143, 417], [3.142857142857143, 1173], [3.142857142857143, 1735], [3.142857142857143, 1799], [3.142857142857143, 2287], [3.142857142857143, 2294], [3.142857142857143, 3685], [3.1403508771929824, 3760], [3.13953488372093, 616], [3.1379310344827585, 1587], [3.135265700483092, 1777], [3.134831460674157, 2087], [3.134831460674157, 2167], [3.1341463414634148, 3702], [3.1333333333333333, 2749], [3.1333333333333333, 2860], [3.1333333333333333, 2899], [3.1333333333333333, 2928], [3.1333333333333333, 3082], [3.1333333333333333, 3266], [3.13125, 2427], [3.130434782608696, 352], [3.130434782608696, 1031], [3.130434782608696, 2083], [3.130434782608696, 2280], [3.130434782608696, 3250], [3.13, 145], [3.129032258064516, 2866], [3.127659574468085, 175], [3.125, 31], [3.125, 147], [3.125, 350], [3.125, 2331], [3.1233766233766236, 2023], [3.1219512195121952, 1821], [3.121495327102804, 2046], [3.12, 2165], [3.12, 2946], [3.1194029850746268, 3770], [3.1186440677966103, 2457], [3.1176470588235294, 3301], [3.1176470588235294, 3729], [3.1160714285714284, 3409], [3.1153846153846154, 1082], [3.1147540983606556, 2001], [3.111111111111111, 453], [3.111111111111111, 695], [3.111111111111111, 1753], [3.111111111111111, 1951], [3.111111111111111, 2867], [3.111111111111111, 3430], [3.1052631578947367, 1480], [3.1052631578947367, 2528], [3.1052631578947367, 3643], [3.1041666666666665, 2394], [3.1009174311926606, 2431], [3.1, 500], [3.1, 1013], [3.1, 1317], [3.0977443609022557, 708], [3.095890410958904, 1380], [3.0952380952380953, 1621], [3.0925925925925926, 383], [3.092250922509225, 1573], [3.090909090909091, 302], [3.090909090909091, 1620], [3.090909090909091, 3417], [3.090909090909091, 3718], [3.090909090909091, 3792], [3.088888888888889, 3145], [3.088372093023256, 587], [3.0869565217391304, 543], [3.0869565217391304, 3865], [3.085714285714286, 1464], [3.0833333333333335, 513], [3.0833333333333335, 627], [3.0833333333333335, 2048], [3.0833333333333335, 2622], [3.082706766917293, 1711], [3.0785714285714287, 2021], [3.077777777777778, 2734], [3.076923076923077, 522], [3.076923076923077, 1083], [3.076923076923077, 2476], [3.076923076923077, 2696], [3.0757575757575757, 2433], [3.0754716981132075, 3501], [3.074074074074074, 835], [3.0738916256157633, 2640], [3.0737327188940093, 316], [3.0714285714285716, 2134], [3.0714285714285716, 2239], [3.0709219858156027, 1093], [3.0697674418604652, 277], [3.0697674418604652, 3251], [3.0689655172413794, 2337], [3.0675675675675675, 2474], [3.066666666666667, 1535], [3.066666666666667, 1713], [3.066666666666667, 1836], [3.066666666666667, 2099], [3.066666666666667, 2977], [3.066666666666667, 3055], [3.066193853427896, 2628], [3.065934065934066, 144], [3.0655737704918034, 852], [3.065, 2455], [3.064935064935065, 1835], [3.0636363636363635, 3300], [3.0625, 3118], [3.0606060606060606, 159], [3.0606060606060606, 2420], [3.0606060606060606, 3519], [3.0602409638554215, 2861], [3.0597014925373136, 3565], [3.0588235294117645, 1688], [3.0588235294117645, 2173], [3.0588235294117645, 2432], [3.0588235294117645, 3550], [3.0576923076923075, 3809], [3.056497175141243, 2003], [3.056179775280899, 1049], [3.056179775280899, 2407], [3.0555555555555554, 140], [3.0555555555555554, 938], [3.0555555555555554, 2143], [3.0555555555555554, 2495], [3.0555555555555554, 2929], [3.0555555555555554, 2941], [3.0551181102362204, 3591], [3.054054054054054, 3506], [3.0533333333333332, 1459], [3.0526315789473686, 2184], [3.0526315789473686, 2672], [3.0517241379310347, 1378], [3.0510204081632653, 610], [3.05, 901], [3.05, 2261], [3.0476190476190474, 2005], [3.0476190476190474, 2784], [3.0476190476190474, 3153], [3.0470588235294116, 2463], [3.045685279187817, 2770], [3.0454545454545454, 781], [3.0454545454545454, 1008], [3.0454545454545454, 3425], [3.0451612903225804, 3608], [3.044776119402985, 2111], [3.0441176470588234, 2541], [3.0434782608695654, 3502], [3.0434782608695654, 3524], [3.0425531914893615, 3032], [3.0409356725146197, 1722], [3.0408163265306123, 1286], [3.0408163265306123, 2553], [3.0392156862745097, 802], [3.0384615384615383, 1425], [3.0375, 2009], [3.036363636363636, 1884], [3.0357142857142856, 26], [3.0352941176470587, 494], [3.0347222222222223, 3699], [3.0344827586206895, 2870], [3.033333333333333, 3015], [3.033333333333333, 3445], [3.0327868852459017, 112], [3.032258064516129, 3744], [3.03125, 2518], [3.0294117647058822, 477], [3.028776978417266, 1883], [3.0285714285714285, 18], [3.0277777777777777, 1785], [3.0272727272727273, 1042], [3.024390243902439, 3706], [3.0240963855421685, 2989], [3.0238095238095237, 2702], [3.0224719101123596, 1754], [3.021978021978022, 2245], [3.021978021978022, 2311], [3.021276595744681, 3745], [3.020618556701031, 2100], [3.02, 2506], [3.01980198019802, 1589], [3.019230769230769, 3707], [3.0185185185185186, 1611], [3.017857142857143, 2346], [3.017543859649123, 292], [3.0172413793103448, 1416], [3.014925373134328, 3712], [3.013888888888889, 3535], [3.013333333333333, 3615], [3.013157894736842, 2110], [3.0114942528735633, 2718], [3.010752688172043, 2759], [3.00990099009901, 2013], [3.0095238095238095, 2454], [3.0063291139240507, 1339], [3.005524861878453, 2694], [3.0, 38], [3.0, 205], [3.0, 210], [3.0, 369], [3.0, 458], [3.0, 465], [3.0, 517], [3.0, 952], [3.0, 1268], [3.0, 1337], [3.0, 1398], [3.0, 1399], [3.0, 1447], [3.0, 1582], [3.0, 1654], [3.0, 1919], [3.0, 2033], [3.0, 2059], [3.0, 2102], [3.0, 2249], [3.0, 2344], [3.0, 2434], [3.0, 2441], [3.0, 2647], [3.0, 2665], [3.0, 2753], [3.0, 2780], [3.0, 3076], [3.0, 3214], [3.0, 3230], [3.0, 3330], [3.0, 3628], [3.0, 3632], [3.0, 3724], [3.0, 3806], [3.0, 3807], [3.0, 3863], [3.0, 3914], [2.99438202247191, 2605], [2.990740740740741, 45], [2.9904761904761905, 1347], [2.989399293286219, 648], [2.9878048780487805, 1020], [2.9834710743801653, 1385], [2.982456140350877, 450], [2.9814814814814814, 2546], [2.9814814814814814, 3927], [2.980392156862745, 1552], [2.979591836734694, 2089], [2.979591836734694, 2709], [2.979591836734694, 3861], [2.9782608695652173, 3686], [2.9779411764705883, 2976], [2.977777777777778, 1866], [2.977272727272727, 381], [2.9761904761904763, 2320], [2.975609756097561, 2560], [2.975609756097561, 3272], [2.975609756097561, 3422], [2.9739583333333335, 344], [2.973684210526316, 2475], [2.973333333333333, 2617], [2.972972972972973, 3769], [2.9714285714285715, 1081], [2.9714285714285715, 2519], [2.971014492753623, 2015], [2.9705882352941178, 1840], [2.9696969696969697, 2712], [2.9696969696969697, 2875], [2.9696969696969697, 3926], [2.9693877551020407, 372], [2.96875, 3452], [2.967741935483871, 1130], [2.967741935483871, 2002], [2.9672727272727273, 3623], [2.966666666666667, 216], [2.965909090909091, 1614], [2.965909090909091, 2413], [2.9655172413793105, 2846], [2.9651162790697674, 252], [2.9651162790697674, 2470], [2.962406015037594, 2145], [2.9622641509433962, 3426], [2.9615384615384617, 2496], [2.96, 451], [2.9591836734693877, 491], [2.9591836734693877, 3197], [2.958904109589041, 2567], [2.9583333333333335, 3270], [2.9583333333333335, 3441], [2.956896551724138, 3274], [2.9565217391304346, 998], [2.9565217391304346, 3235], [2.9555555555555557, 2724], [2.9545454545454546, 1727], [2.953125, 1588], [2.953020134228188, 3263], [2.9523809523809526, 27], [2.9523809523809526, 2363], [2.9523809523809526, 3404], [2.9518072289156625, 376], [2.9518072289156625, 661], [2.9508196721311477, 351], [2.95, 329], [2.945945945945946, 2195], [2.9444444444444446, 1465], [2.9444444444444446, 1670], [2.9444444444444446, 1858], [2.9431818181818183, 2600], [2.942857142857143, 1895], [2.942857142857143, 3206], [2.9411764705882355, 988], [2.9411764705882355, 2043], [2.9411764705882355, 3262], [2.9375, 1482], [2.9344262295081966, 2376], [2.9342105263157894, 105], [2.933333333333333, 1733], [2.933333333333333, 1769], [2.933333333333333, 2362], [2.9322033898305087, 3018], [2.9315068493150687, 2116], [2.9310344827586206, 2384], [2.9310344827586206, 3327], [2.9310344827586206, 3457], [2.9302325581395348, 218], [2.9302325581395348, 2090], [2.9298245614035086, 338], [2.9292035398230087, 2527], [2.928888888888889, 70], [2.9285714285714284, 328], [2.9285714285714284, 1703], [2.9285714285714284, 1801], [2.9285714285714284, 2356], [2.9285714285714284, 2485], [2.9285714285714284, 3217], [2.9285714285714284, 3738], [2.927536231884058, 2803], [2.925925925925926, 2587], [2.9245283018867925, 3478], [2.923076923076923, 580], [2.923076923076923, 3515], [2.9215686274509802, 1541], [2.9215686274509802, 3173], [2.9215686274509802, 3698], [2.9210526315789473, 2990], [2.9210526315789473, 3529], [2.92, 1372], [2.92, 2435], [2.92, 2634], [2.918032786885246, 2676], [2.9166666666666665, 229], [2.9166666666666665, 937], [2.9166666666666665, 1699], [2.9166666666666665, 3127], [2.9166666666666665, 3676], [2.9166666666666665, 3734], [2.915492957746479, 1429], [2.915492957746479, 2262], [2.9130434782608696, 2645], [2.911764705882353, 3784], [2.909090909090909, 22], [2.909090909090909, 35], [2.909090909090909, 806], [2.909090909090909, 1472], [2.909090909090909, 1917], [2.909090909090909, 1943], [2.909090909090909, 2168], [2.909090909090909, 2874], [2.909090909090909, 2885], [2.909090909090909, 2978], [2.909090909090909, 3318], [2.909090909090909, 3786], [2.907608695652174, 2881], [2.9074074074074074, 3099], [2.90625, 1390], [2.9047619047619047, 13], [2.9047619047619047, 118], [2.9047619047619047, 1600], [2.9047619047619047, 2888], [2.9047619047619047, 3427], [2.9025974025974026, 2688], [2.9, 24], [2.9, 81], [2.9, 295], [2.9, 1241], [2.9, 1255], [2.9, 2032], [2.9, 2756], [2.9, 3016], [2.898989898989899, 532], [2.8974358974358974, 46], [2.8970588235294117, 3053], [2.896551724137931, 1689], [2.8947368421052633, 461], [2.8933333333333335, 236], [2.892857142857143, 282], [2.892857142857143, 1409], [2.89010989010989, 1566], [2.8898678414096914, 367], [2.8897637795275593, 3614], [2.888888888888889, 271], [2.888888888888889, 469], [2.888888888888889, 691], [2.888888888888889, 1791], [2.888888888888889, 2062], [2.888888888888889, 2975], [2.888888888888889, 3029], [2.8877551020408165, 1888], [2.887179487179487, 1876], [2.8866666666666667, 586], [2.8863636363636362, 2135], [2.8846153846153846, 188], [2.8823529411764706, 1135], [2.8823529411764706, 1661], [2.8823529411764706, 2844], [2.8823529411764706, 3103], [2.880952380952381, 3846], [2.8807339449541285, 2409], [2.88, 3], [2.876923076923077, 2459], [2.875, 1010], [2.875, 1856], [2.8740740740740742, 3785], [2.8734177215189876, 170], [2.872093023255814, 2141], [2.871794871794872, 1792], [2.870967741935484, 662], [2.869565217391304, 231], [2.8688524590163933, 3684], [2.8684210526315788, 2011], [2.8666666666666667, 365], [2.8666666666666667, 422], [2.8666666666666667, 2106], [2.865168539325843, 2416], [2.8636363636363638, 3619], [2.8636363636363638, 3943], [2.861111111111111, 3194], [2.861111111111111, 3249], [2.860294117647059, 2581], [2.858695652173913, 2469], [2.8579545454545454, 2105], [2.856, 198], [2.8543046357615895, 288], [2.8529411764705883, 2561], [2.8524590163934427, 1479], [2.8518518518518516, 3033], [2.8516483516483517, 2746], [2.8507462686567164, 3040], [2.85, 408], [2.85, 2095], [2.85, 3157], [2.8492063492063493, 3638], [2.8488372093023258, 748], [2.8488372093023258, 1375], [2.8484848484848486, 490], [2.8484848484848486, 3917], [2.848101265822785, 2926], [2.847457627118644, 89], [2.847457627118644, 3308], [2.847457627118644, 3444], [2.8461538461538463, 113], [2.8461538461538463, 384], [2.8461538461538463, 3219], [2.8461538461538463, 3659], [2.8454545454545452, 552], [2.8448275862068964, 88], [2.8448275862068964, 2133], [2.844155844155844, 3525], [2.8421052631578947, 270], [2.8412698412698414, 2822], [2.840909090909091, 3269], [2.8405172413793105, 2012], [2.84, 653], [2.8392857142857144, 362], [2.838709677419355, 700], [2.838709677419355, 1330], [2.838235294117647, 783], [2.8353909465020575, 736], [2.8347826086956522, 3752], [2.8333333333333335, 187], [2.8333333333333335, 1006], [2.8333333333333335, 1404], [2.8333333333333335, 2179], [2.8333333333333335, 2625], [2.830508474576271, 2155], [2.8292682926829267, 3930], [2.828358208955224, 317], [2.8260869565217392, 1816], [2.825806451612903, 2826], [2.824324324324324, 60], [2.823529411764706, 1475], [2.823529411764706, 2325], [2.823529411764706, 2769], [2.823529411764706, 3503], [2.8205128205128207, 2836], [2.82, 371], [2.82, 1015], [2.819672131147541, 2802], [2.8193548387096774, 2393], [2.8181818181818183, 55], [2.8181818181818183, 278], [2.8181818181818183, 346], [2.8181818181818183, 1457], [2.8181818181818183, 1508], [2.8181818181818183, 2771], [2.816326530612245, 1009], [2.814814814814815, 3869], [2.813953488372093, 1353], [2.8125, 74], [2.8125, 1191], [2.8125, 3791], [2.811023622047244, 2405], [2.8095238095238093, 2419], [2.8095238095238093, 2651], [2.8076923076923075, 434], [2.8055555555555554, 2554], [2.8048780487804876, 2901], [2.803921568627451, 225], [2.8018018018018016, 3534], [2.801242236024845, 1918], [2.8, 382], [2.8, 801], [2.8, 1113], [2.8, 1366], [2.8, 2430], [2.8, 2472], [2.8, 3602], [2.8, 3732], [2.8, 3810], [2.797752808988764, 2840], [2.7962962962962963, 1395], [2.796116504854369, 3701], [2.795620437956204, 2124], [2.7954545454545454, 2148], [2.7941176470588234, 2453], [2.7941176470588234, 2540], [2.7941176470588234, 3879], [2.789473684210526, 2789], [2.7891156462585034, 3247], [2.78698224852071, 1513], [2.7857142857142856, 1024], [2.7857142857142856, 1456], [2.7857142857142856, 3886], [2.78494623655914, 1687], [2.7846153846153845, 237], [2.7846153846153845, 3264], [2.782608695652174, 1833], [2.78125, 3544], [2.78125, 3649], [2.7777777777777777, 511], [2.775, 3773], [2.7746478873239435, 2447], [2.774193548387097, 999], [2.7739726027397262, 2], [2.772727272727273, 2747], [2.7721518987341773, 5], [2.7719298245614037, 707], [2.769230769230769, 1341], [2.769230769230769, 1804], [2.769230769230769, 3596], [2.7681159420289854, 423], [2.767857142857143, 2710], [2.765765765765766, 724], [2.764705882352941, 2283], [2.76271186440678, 2613], [2.761904761904762, 340], [2.761904761904762, 1841], [2.76, 1205], [2.7590361445783134, 1974], [2.757575757575758, 1848], [2.757142857142857, 3528], [2.7567567567567566, 1027], [2.7567567567567566, 3436], [2.75625, 2094], [2.7560975609756095, 2252], [2.7555555555555555, 168], [2.7552742616033754, 1676], [2.75, 100], [2.75, 107], [2.75, 301], [2.75, 1746], [2.75, 2057], [2.75, 2641], [2.75, 3112], [2.75, 3141], [2.75, 3399], [2.75, 3549], [2.748322147651007, 2699], [2.7476635514018692, 3070], [2.746031746031746, 1422], [2.7450980392156863, 537], [2.742857142857143, 2996], [2.74, 2722], [2.739130434782609, 1442], [2.739130434782609, 2418], [2.737704918032787, 2558], [2.736842105263158, 2267], [2.7358490566037736, 2772], [2.735294117647059, 2335], [2.7346938775510203, 442], [2.7338709677419355, 2792], [2.7333333333333334, 409], [2.7333333333333334, 2590], [2.732394366197183, 2513], [2.732142857142857, 2517], [2.730769230769231, 1334], [2.72972972972973, 239], [2.727272727272727, 452], [2.727272727272727, 472], [2.727272727272727, 1428], [2.727272727272727, 2055], [2.727272727272727, 3276], [2.727272727272727, 3514], [2.727272727272727, 3743], [2.7222222222222223, 1355], [2.718232044198895, 2723], [2.7142857142857144, 1016], [2.7142857142857144, 1018], [2.7142857142857144, 1088], [2.7142857142857144, 1363], [2.7142857142857144, 2263], [2.7096774193548385, 2551], [2.7096774193548385, 3036], [2.7083333333333335, 257], [2.7083333333333335, 3142], [2.7071428571428573, 3704], [2.7058823529411766, 1410], [2.7058823529411766, 2136], [2.7058823529411766, 2582], [2.7043478260869565, 1405], [2.7037037037037037, 1014], [2.7037037037037037, 2297], [2.7032967032967035, 1603], [2.7028985507246377, 1586], [2.7027027027027026, 1342], [2.7017543859649122, 804], [2.7007299270072993, 1544], [2.7, 1463], [2.7, 2598], [2.7, 3120], [2.69811320754717, 1030], [2.696969696969697, 3287], [2.696969696969697, 3483], [2.696, 3717], [2.693877551020408, 2142], [2.6936936936936937, 786], [2.6933333333333334, 516], [2.6923076923076925, 869], [2.6923076923076925, 1806], [2.6923076923076925, 3780], [2.6904761904761907, 3326], [2.689655172413793, 3045], [2.6875, 603], [2.6875, 1440], [2.6865671641791047, 468], [2.6857142857142855, 3937], [2.6842105263157894, 550], [2.6842105263157894, 2639], [2.682926829268293, 1593], [2.6825396825396823, 3477], [2.68, 157], [2.6785714285714284, 1306], [2.6769230769230767, 2120], [2.676056338028169, 95], [2.675, 1487], [2.673076923076923, 303], [2.669421487603306, 1717], [2.6666666666666665, 48], [2.6666666666666665, 1627], [2.6666666666666665, 3225], [2.6666666666666665, 3509], [2.662721893491124, 1690], [2.6607142857142856, 2316], [2.66, 2060], [2.659090909090909, 479], [2.6580645161290324, 1371], [2.6578947368421053, 3051], [2.6578947368421053, 3873], [2.657142857142857, 2829], [2.657142857142857, 2956], [2.65625, 886], [2.6530612244897958, 330], [2.6527777777777777, 2942], [2.652173913043478, 2017], [2.6511627906976742, 2752], [2.6507936507936507, 2374], [2.65, 2378], [2.6470588235294117, 378], [2.6470588235294117, 1550], [2.6455696202531644, 44], [2.6451612903225805, 358], [2.6451612903225805, 2533], [2.6436781609195403, 520], [2.643410852713178, 185], [2.642857142857143, 23], [2.642857142857143, 499], [2.642857142857143, 2154], [2.642857142857143, 2250], [2.642857142857143, 3491], [2.641025641025641, 1064], [2.641025641025641, 2146], [2.64, 1646], [2.64, 1647], [2.638888888888889, 1367], [2.638888888888889, 3557], [2.6382978723404253, 2377], [2.6363636363636362, 982], [2.6363636363636362, 1829], [2.6363636363636362, 3714], [2.6341463414634148, 2038], [2.6341463414634148, 2787], [2.6296296296296298, 569], [2.628140703517588, 1320], [2.625, 426], [2.625, 2375], [2.625, 2478], [2.625, 2629], [2.6244343891402715, 788], [2.622448979591837, 784], [2.6205357142857144, 2657], [2.6194690265486726, 379], [2.619047619047619, 1128], [2.619047619047619, 3590], [2.618181818181818, 2805], [2.6176470588235294, 63], [2.6176470588235294, 370], [2.6176470588235294, 2520], [2.616822429906542, 585], [2.6153846153846154, 2387], [2.6153846153846154, 3765], [2.611111111111111, 1887], [2.6097560975609757, 512], [2.6094674556213016, 2369], [2.609090909090909, 1911], [2.608695652173913, 195], [2.608695652173913, 2084], [2.608490566037736, 1377], [2.608108108108108, 879], [2.6052631578947367, 2014], [2.6037735849056602, 2093], [2.6, 466], [2.6, 761], [2.6, 1896], [2.6, 2741], [2.6, 2781], [2.6, 3115], [2.6, 3355], [2.6, 3518], [2.597560975609756, 1379], [2.5974025974025974, 2334], [2.595744680851064, 2615], [2.5945945945945947, 1346], [2.5945945945945947, 2877], [2.5945945945945947, 3918], [2.59375, 3672], [2.5925925925925926, 2372], [2.5918367346938775, 2806], [2.591304347826087, 2126], [2.5901639344262297, 719], [2.588235294117647, 407], [2.588235294117647, 609], [2.588235294117647, 1642], [2.588235294117647, 1658], [2.588235294117647, 3428], [2.588235294117647, 3497], [2.5851063829787235, 1616], [2.5841584158415842, 2410], [2.5833333333333335, 1629], [2.5833333333333335, 1894], [2.582089552238806, 2961], [2.5789473684210527, 366], [2.5789473684210527, 1488], [2.576923076923077, 798], [2.576923076923077, 1043], [2.576923076923077, 3627], [2.5757575757575757, 387], [2.575, 1327], [2.575, 2247], [2.5714285714285716, 656], [2.5714285714285716, 2107], [2.5714285714285716, 3577], [2.5689655172413794, 1783], [2.568421052631579, 3156], [2.566666666666667, 42], [2.5657894736842106, 3146], [2.5636363636363635, 2735], [2.5625, 990], [2.56, 2072], [2.559322033898305, 273], [2.558139534883721, 2123], [2.5572519083969465, 2428], [2.5555555555555554, 203], [2.5555555555555554, 2188], [2.5555555555555554, 2505], [2.5531914893617023, 464], [2.5517241379310347, 1598], [2.5517241379310347, 3697], [2.550724637681159, 3208], [2.55, 1352], [2.5483870967741935, 1003], [2.5463917525773194, 2794], [2.5454545454545454, 158], [2.5454545454545454, 459], [2.5454545454545454, 467], [2.5454545454545454, 565], [2.5454545454545454, 2646], [2.5454545454545454, 2653], [2.5454545454545454, 3626], [2.5439330543933054, 1391], [2.5416666666666665, 725], [2.5416666666666665, 2597], [2.539473684210526, 3688], [2.5384615384615383, 2040], [2.5377358490566038, 1100], [2.5344827586206895, 2796], [2.533333333333333, 204], [2.533333333333333, 536], [2.533333333333333, 575], [2.53125, 1431], [2.5306122448979593, 1007], [2.5294117647058822, 1167], [2.5294117647058822, 2007], [2.5294117647058822, 2524], [2.5294117647058822, 2667], [2.5294117647058822, 3825], [2.5294117647058822, 3834], [2.5283018867924527, 186], [2.5272727272727273, 410], [2.526666666666667, 3257], [2.526315789473684, 276], [2.526315789473684, 433], [2.526315789473684, 709], [2.526315789473684, 1483], [2.526315789473684, 1523], [2.526315789473684, 2082], [2.525, 3177], [2.5245901639344264, 2269], [2.5238095238095237, 76], [2.5217391304347827, 830], [2.52, 674], [2.52, 1726], [2.5185185185185186, 3489], [2.5161290322580645, 996], [2.5142857142857142, 1999], [2.5142857142857142, 3324], [2.513888888888889, 1762], [2.513888888888889, 2279], [2.5135135135135136, 2491], [2.507936507936508, 2389], [2.5073529411764706, 3273], [2.5, 8], [2.5, 122], [2.5, 209], [2.5, 248], [2.5, 1054], [2.5, 1331], [2.5, 1498], [2.5, 1881], [2.5, 2098], [2.5, 2151], [2.5, 2260], [2.5, 2327], [2.5, 2589], [2.5, 2637], [2.5, 3014], [2.5, 3109], [2.5, 3316], [2.5, 3331], [2.5, 3511], [2.5, 3835], [2.4963503649635035, 196], [2.4948453608247423, 2402], [2.4901960784313726, 3693], [2.4895833333333335, 2468], [2.4895833333333335, 3285], [2.4878048780487805, 1438], [2.484848484848485, 558], [2.484848484848485, 1382], [2.48, 1667], [2.4782608695652173, 2052], [2.4782608695652173, 2328], [2.4761904761904763, 1332], [2.4761904761904763, 2862], [2.474747474747475, 3254], [2.473684210526316, 2530], [2.4727272727272727, 504], [2.4726027397260273, 2717], [2.4722222222222223, 2322], [2.4705882352941178, 1432], [2.4696969696969697, 3708], [2.4693877551020407, 818], [2.4693877551020407, 842], [2.46875, 547], [2.46875, 2241], [2.466666666666667, 54], [2.466666666666667, 61], [2.466666666666667, 325], [2.466666666666667, 3553], [2.466666666666667, 3821], [2.466666666666667, 3841], [2.4642857142857144, 2606], [2.4615384615384617, 438], [2.4615384615384617, 2259], [2.4594594594594597, 436], [2.4594594594594597, 3864], [2.4571428571428573, 227], [2.4571428571428573, 2793], [2.4545454545454546, 742], [2.4545454545454546, 992], [2.4516129032258065, 1665], [2.4516129032258065, 3584], [2.45, 152], [2.45, 267], [2.45, 2656], [2.4482758620689653, 2042], [2.4482758620689653, 2492], [2.4444444444444446, 870], [2.4444444444444446, 2177], [2.4444444444444446, 2354], [2.4444444444444446, 3063], [2.441860465116279, 2429], [2.440944881889764, 1644], [2.4395604395604398, 1091], [2.4375, 463], [2.4347826086956523, 3013], [2.4324324324324325, 2367], [2.4285714285714284, 533], [2.4285714285714284, 640], [2.4285714285714284, 2445], [2.423076923076923, 19], [2.4210526315789473, 2027], [2.4193548387096775, 3758], [2.418918918918919, 1920], [2.4166666666666665, 240], [2.4166666666666665, 313], [2.4166666666666665, 343], [2.4166666666666665, 840], [2.4166666666666665, 2034], [2.4166666666666665, 2417], [2.4166666666666665, 3901], [2.4166666666666665, 3913], [2.411764705882353, 2497], [2.411764705882353, 3459], [2.411764705882353, 3889], [2.409090909090909, 3660], [2.4074074074074074, 765], [2.4074074074074074, 3837], [2.4047619047619047, 2900], [2.403225806451613, 542], [2.401913875598086, 2054], [2.4, 1605], [2.4, 2170], [2.4, 3484], [2.4, 3764], [2.395348837209302, 891], [2.393939393939394, 1004], [2.392857142857143, 3017], [2.388888888888889, 1640], [2.388888888888889, 2504], [2.388888888888889, 3354], [2.3870967741935485, 2121], [2.3863636363636362, 177], [2.3846153846153846, 2035], [2.3846153846153846, 3838], [2.382978723404255, 3387], [2.381818181818182, 1359], [2.380952380952381, 881], [2.380952380952381, 1744], [2.380952380952381, 2835], [2.380952380952381, 3725], [2.3777777777777778, 2147], [2.375, 2500], [2.375, 2507], [2.371794871794872, 1970], [2.3684210526315788, 1601], [2.3684210526315788, 2458], [2.3684210526315788, 3423], [2.365079365079365, 2531], [2.364705882352941, 3258], [2.3636363636363638, 697], [2.3636363636363638, 1624], [2.361111111111111, 135], [2.361111111111111, 2851], [2.357142857142857, 92], [2.357142857142857, 1609], [2.3541666666666665, 332], [2.3541666666666665, 1983], [2.35, 487], [2.35, 882], [2.348314606741573, 153], [2.3442622950819674, 3004], [2.3404255319148937, 637], [2.3358208955223883, 485], [2.335664335664336, 1037], [2.3333333333333335, 9], [2.3333333333333335, 208], [2.3333333333333335, 1461], [2.3333333333333335, 1771], [2.3333333333333335, 2255], [2.3333333333333335, 2421], [2.3333333333333335, 3165], [2.3333333333333335, 3600], [2.3333333333333335, 3857], [2.3308823529411766, 3113], [2.328767123287671, 2815], [2.3260869565217392, 427], [2.323529411764706, 809], [2.3214285714285716, 3453], [2.3194444444444446, 1991], [2.3181818181818183, 2574], [2.3168316831683167, 2088], [2.3142857142857145, 2385], [2.3125, 3839], [2.311111111111111, 4], [2.311111111111111, 2373], [2.310344827586207, 1011], [2.306451612903226, 20], [2.3043478260869565, 2898], [2.303370786516854, 2471], [2.303030303030303, 2451], [2.3, 1388], [2.3, 1604], [2.3, 2849], [2.3, 3325], [2.3, 3884], [2.2982456140350878, 256], [2.297872340425532, 2411], [2.2941176470588234, 1515], [2.2916666666666665, 64], [2.2916666666666665, 3895], [2.2903225806451615, 79], [2.2875, 2532], [2.287037037037037, 1591], [2.2857142857142856, 836], [2.2857142857142856, 1454], [2.2857142857142856, 1581], [2.2847222222222223, 2616], [2.283582089552239, 1924], [2.278688524590164, 1752], [2.2735849056603774, 2004], [2.2734375, 2713], [2.272727272727273, 612], [2.272727272727273, 1460], [2.272727272727273, 1677], [2.272727272727273, 2638], [2.272727272727273, 2755], [2.272727272727273, 3431], [2.269230769230769, 2163], [2.2666666666666666, 1021], [2.2666666666666666, 3395], [2.2666666666666666, 3709], [2.2653061224489797, 2026], [2.2653061224489797, 2266], [2.264, 1373], [2.263157894736842, 544], [2.257142857142857, 2315], [2.256198347107438, 3438], [2.255813953488372, 3500], [2.2555555555555555, 432], [2.2542372881355934, 1779], [2.25, 694], [2.25, 1681], [2.25, 2016], [2.25, 2446], [2.25, 2479], [2.25, 2884], [2.25, 3388], [2.2452830188679247, 415], [2.2439024390243905, 3754], [2.2436974789915967, 1590], [2.2432432432432434, 1985], [2.2413793103448274, 445], [2.240740740740741, 2399], [2.24, 259], [2.24, 3394], [2.24, 3696], [2.2393162393162394, 673], [2.238095238095238, 1526], [2.238095238095238, 1839], [2.238095238095238, 2856], [2.2375, 413], [2.235294117647059, 3833], [2.230769230769231, 2264], [2.230769230769231, 3620], [2.230769230769231, 3923], [2.227272727272727, 3180], [2.225, 3840], [2.2222222222222223, 486], [2.2222222222222223, 528], [2.2222222222222223, 710], [2.2205882352941178, 2122], [2.22, 2253], [2.217391304347826, 414], [2.2142857142857144, 424], [2.2142857142857144, 510], [2.2142857142857144, 1855], [2.212121212121212, 2460], [2.2111111111111112, 2995], [2.2083333333333335, 3646], [2.206896551724138, 132], [2.2051282051282053, 3385], [2.2, 430], [2.2, 473], [2.2, 505], [2.2, 1798], [2.2, 2169], [2.2, 2477], [2.2, 2535], [2.2, 3909], [2.1956521739130435, 1468], [2.1944444444444446, 2041], [2.186046511627907, 2808], [2.185483870967742, 2719], [2.185185185185185, 3243], [2.1842105263157894, 455], [2.1842105263157894, 782], [2.1818181818181817, 172], [2.1818181818181817, 2392], [2.1818181818181817, 2876], [2.1818181818181817, 3674], [2.18, 420], [2.175, 2119], [2.1739130434782608, 275], [2.1714285714285713, 1702], [2.1707317073170733, 2365], [2.168539325842697, 2953], [2.1666666666666665, 3691], [2.1649484536082473, 3705], [2.164383561643836, 3802], [2.1639344262295084, 3248], [2.1578947368421053, 2790], [2.1538461538461537, 813], [2.15, 518], [2.15, 2379], [2.1481481481481484, 3826], [2.1470588235294117, 2364], [2.142857142857143, 639], [2.142857142857143, 2306], [2.142857142857143, 3286], [2.142857142857143, 3579], [2.13953488372093, 1975], [2.1370967741935485, 1882], [2.136986301369863, 2950], [2.1363636363636362, 360], [2.135135135135135, 3130], [2.1346153846153846, 1995], [2.1333333333333333, 315], [2.1333333333333333, 1837], [2.1333333333333333, 2882], [2.125, 258], [2.125, 2907], [2.125, 3946], [2.121212121212121, 2091], [2.12, 833], [2.1176470588235294, 312], [2.1176470588235294, 1453], [2.1153846153846154, 3048], [2.111111111111111, 489], [2.111111111111111, 2149], [2.111111111111111, 2404], [2.111111111111111, 2522], [2.108108108108108, 606], [2.1073825503355703, 1831], [2.1052631578947367, 429], [2.103448275862069, 2906], [2.1012658227848102, 2827], [2.1, 548], [2.1, 984], [2.1, 3804], [2.0952380952380953, 3715], [2.0925925925925926, 2448], [2.090909090909091, 829], [2.090909090909091, 1005], [2.090909090909091, 2408], [2.090909090909091, 2473], [2.0833333333333335, 849], [2.0833333333333335, 2307], [2.0814814814814815, 435], [2.08, 87], [2.0793650793650795, 1772], [2.076923076923077, 179], [2.076923076923077, 631], [2.0714285714285716, 419], [2.0714285714285716, 743], [2.0714285714285716, 1417], [2.0714285714285716, 1592], [2.0714285714285716, 1971], [2.0714285714285716, 2652], [2.0714285714285716, 3064], [2.0697674418604652, 12], [2.0697674418604652, 234], [2.0697674418604652, 839], [2.0689655172413794, 2526], [2.066666666666667, 1439], [2.0625, 217], [2.0588235294117645, 1869], [2.0555555555555554, 444], [2.0526315789473686, 1503], [2.05, 2668], [2.0476190476190474, 437], [2.0463576158940397, 160], [2.0434782608695654, 3616], [2.04, 355], [2.04, 1606], [2.036363636363636, 1499], [2.0357142857142856, 416], [2.0357142857142856, 2092], [2.0303030303030303, 1986], [2.026666666666667, 1969], [2.0238095238095237, 762], [2.0238095238095237, 3766], [2.0232558139534884, 540], [2.022222222222222, 3299], [2.0211267605633805, 173], [2.02, 2296], [2.016949152542373, 1973], [2.015625, 193], [2.0113636363636362, 2338], [2.0, 191], [2.0, 619], [2.0, 692], [2.0, 711], [2.0, 1427], [2.0, 1602], [2.0, 1977], [2.0, 1987], [2.0, 2050], [2.0, 2051], [2.0, 2386], [2.0, 2523], [2.0, 2525], [2.0, 2548], [2.0, 2552], [2.0, 3024], [2.0, 3692], [1.9850746268656716, 611], [1.984375, 2986], [1.981818181818182, 2642], [1.9705882352941178, 2036], [1.967741935483871, 305], [1.9642857142857142, 1979], [1.96, 3710], [1.96, 3919], [1.9583333333333333, 3669], [1.9565217391304348, 255], [1.9565217391304348, 1980], [1.9545454545454546, 2549], [1.9545454545454546, 3716], [1.950354609929078, 1562], [1.95, 2614], [1.9473684210526316, 2461], [1.9411764705882353, 2786], [1.94, 2902], [1.9361702127659575, 327], [1.9333333333333333, 1760], [1.9333333333333333, 2521], [1.9333333333333333, 2828], [1.9285714285714286, 1984], [1.9259259259259258, 1972], [1.9259259259259258, 2498], [1.9166666666666667, 1623], [1.9166666666666667, 2044], [1.9166666666666667, 2733], [1.9130434782608696, 1655], [1.9111111111111112, 1474], [1.9090909090909092, 3442], [1.9074074074074074, 2568], [1.9047619047619047, 667], [1.9, 867], [1.894736842105263, 1336], [1.8928571428571428, 174], [1.8928571428571428, 3391], [1.8909090909090909, 374], [1.8888888888888888, 15], [1.8888888888888888, 166], [1.8888888888888888, 291], [1.8888888888888888, 688], [1.8888888888888888, 2748], [1.8888888888888888, 2965], [1.8888888888888888, 3340], [1.8846153846153846, 1445], [1.8823529411764706, 1750], [1.8823529411764706, 3690], [1.8780487804878048, 3689], [1.8695652173913044, 3238], [1.8666666666666667, 564], [1.864864864864865, 2456], [1.86, 65], [1.8571428571428572, 3401], [1.8571428571428572, 3824], [1.85, 1863], [1.85, 2974], [1.84375, 2514], [1.8372093023255813, 1126], [1.8333333333333333, 460], [1.8333333333333333, 1525], [1.8333333333333333, 2286], [1.8297872340425532, 2053], [1.8265306122448979, 2701], [1.8225806451612903, 3439], [1.8181818181818181, 1626], [1.8181818181818181, 2751], [1.8181818181818181, 3054], [1.803921568627451, 2380], [1.8, 2979], [1.7894736842105263, 71], [1.7857142857142858, 93], [1.7857142857142858, 880], [1.7757009345794392, 2450], [1.7727272727272727, 3432], [1.75, 1679], [1.75, 1976], [1.75, 2113], [1.75, 2422], [1.75, 3774], [1.736842105263158, 3031], [1.7333333333333334, 1756], [1.7307692307692308, 3908], [1.7297297297297298, 3564], [1.7272727272727273, 737], [1.7272727272727273, 888], [1.7195121951219512, 2412], [1.7173913043478262, 3190], [1.7115384615384615, 502], [1.711340206185567, 1556], [1.709090909090909, 1862], [1.7073170731707317, 1707], [1.7058823529411764, 1988], [1.7037037037037037, 2720], [1.6923076923076923, 1497], [1.6875, 1731], [1.6857142857142857, 2162], [1.6842105263157894, 747], [1.6818181818181819, 1992], [1.6818181818181819, 2868], [1.679245283018868, 2798], [1.6724137931034482, 1389], [1.6666666666666667, 3694], [1.6571428571428573, 3392], [1.65625, 2807], [1.6538461538461537, 1978], [1.6511627906976745, 2816], [1.6486486486486487, 3662], [1.6470588235294117, 405], [1.6363636363636365, 3268], [1.6363636363636365, 3667], [1.6363636363636365, 3820], [1.6129032258064515, 1993], [1.6097560975609757, 2555], [1.608695652173913, 2265], [1.6, 2465], [1.6, 3673], [1.6, 3912], [1.5961538461538463, 3877], [1.5957446808510638, 2381], [1.59375, 3661], [1.5925925925925926, 3799], [1.5909090909090908, 3695], [1.588235294117647, 2643], [1.5862068965517242, 169], [1.5844155844155845, 1381], [1.5833333333333333, 220], [1.5833333333333333, 2878], [1.5833333333333333, 3043], [1.578125, 2153], [1.5714285714285714, 2982], [1.5666666666666667, 2903], [1.5656565656565657, 546], [1.565217391304348, 1981], [1.5588235294117647, 393], [1.5555555555555556, 2152], [1.5555555555555556, 2655], [1.5517241379310345, 3593], [1.55, 2515], [1.5483870967741935, 3572], [1.5333333333333334, 810], [1.5263157894736843, 3393], [1.52, 126], [1.5185185185185186, 3440], [1.5161290322580645, 1996], [1.5161290322580645, 1998], [1.5, 181], [1.5, 470], [1.5, 1335], [1.5, 1599], [1.5, 3433], [1.4782608695652173, 3767], [1.4761904761904763, 1595], [1.4761904761904763, 2462], [1.4583333333333333, 519], [1.4583333333333333, 2383], [1.4545454545454546, 2382], [1.4545454545454546, 3042], [1.4444444444444444, 66], [1.4375, 3945], [1.434782608695652, 3663], [1.4210526315789473, 3768], [1.4166666666666667, 3390], [1.4166666666666667, 3434], [1.4, 102], [1.380952380952381, 3041], [1.375, 2799], [1.35, 2368], [1.3333333333333333, 1739], [1.3125, 2818], [1.3055555555555556, 2817], [1.3043478260869565, 3664], [1.2941176470588236, 1326], [1.2941176470588236, 1495], [1.2727272727272727, 1325], [1.2727272727272727, 3665], [1.2, 1990], [1.2, 3573], [1.1875, 2516], [1.1428571428571428, 1105], [1.0, 1322], [1.0, 1323]]\n"
     ]
    }
   ],
   "source": [
    "result_list.sort(key=lambda x: x[0], reverse=True)\n",
    "print(result_list)"
   ]
  },
  {
   "cell_type": "code",
   "execution_count": 33,
   "id": "02423ad5-10ee-4fe3-87c0-c69f45a9575e",
   "metadata": {},
   "outputs": [
    {
     "name": "stdout",
     "output_type": "stream",
     "text": [
      "Top 5 rated movie IDs: [1178, 50, 3470, 2019, 2905]\n"
     ]
    }
   ],
   "source": [
    "top_5_movies = []\n",
    "\n",
    "for val, movie_id in result_list[:5]:\n",
    "    top_5_movies.append(movie_id)\n",
    "\n",
    "print(\"Top 5 rated movie IDs:\", top_5_movies)"
   ]
  },
  {
   "cell_type": "code",
   "execution_count": 34,
   "id": "eff28976-22fa-4307-ad1a-420587841731",
   "metadata": {},
   "outputs": [],
   "source": [
    "movie_id_to_name = dict(zip(movies_df['MovieID'], movies_df['Title']))"
   ]
  },
  {
   "cell_type": "code",
   "execution_count": 35,
   "id": "a1ac4a4c-c630-4a0f-81e4-93977f1e5b94",
   "metadata": {},
   "outputs": [
    {
     "name": "stdout",
     "output_type": "stream",
     "text": [
      "For User ID: 47, recommended movies are: \n",
      "- Movie Name: Paths of Glory (1957)                   \n",
      "- Movie Name: Usual Suspects, The (1995)              \n",
      "- Movie Name: Dersu Uzala (1974)                      \n",
      "- Movie Name: Seven Samurai (The Magnificent Seven) (Shichinin no samurai) (1954)\n",
      "- Movie Name: Sanjuro (1962)                          \n"
     ]
    }
   ],
   "source": [
    "print(f\"For User ID: {target_user_id}, recommended movies are: \")\n",
    "for movie_id in top_5_movies:\n",
    "    movie_name = movie_id_to_name.get(movie_id, \"Unknown Movie\")\n",
    "    print(f\"- Movie Name: {movie_name.ljust(40)}\")"
   ]
  },
  {
   "cell_type": "code",
   "execution_count": 36,
   "id": "288d4522",
   "metadata": {},
   "outputs": [
    {
     "name": "stdout",
     "output_type": "stream",
     "text": [
      "Enter User ID: 6041\n",
      "Enter the number of movies you want to rate: 3\n",
      "Enter movie name: Matrix, The (1999)\n",
      "Enter rating for Matrix, The (1999): 4\n",
      "Enter movie name: Silence of the Lambs, The (1991)\n",
      "Enter rating for Silence of the Lambs, The (1991): 3.5\n",
      "Enter movie name: Romeo and Juliet (1968)\n",
      "Enter rating for Romeo and Juliet (1968): 4.5\n",
      "   UserID  MovieID  Rating\n",
      "0    6040      593     4.0\n",
      "1    6040     2571     3.5\n",
      "2    6040     3668     4.5\n"
     ]
    }
   ],
   "source": [
    "# Take user input for user ID\n",
    "user_id_new = int(input(\"Enter User ID: \"))\n",
    "\n",
    "# Take the number of movies as input\n",
    "num_movies = int(input(\"Enter the number of movies you want to rate: \"))\n",
    "\n",
    "# Create empty lists to store movie names and ratings\n",
    "movie_names = []\n",
    "ratings_new = []\n",
    "\n",
    "# Use a loop to take input for each movie\n",
    "for _ in range(num_movies):\n",
    "    movie_name = input(\"Enter movie name: \")\n",
    "    \n",
    "    # Check if the entered movie name is in the DataFrame\n",
    "    if movie_name in movies_df['Title'].values:\n",
    "        rating = float(input(f\"Enter rating for {movie_name}: \"))\n",
    "        movie_names.append(movie_name)\n",
    "        ratings_new.append(rating)\n",
    "    else:\n",
    "        print(f\"{movie_name} not found in the movie database. Please enter a valid movie name.\")\n",
    "\n",
    "# Create a DataFrame with user input\n",
    "user_input_data = {'UserID': [user_id] * len(movie_names),\n",
    "                   'MovieID': movies_df[movies_df['Title'].isin(movie_names)]['MovieID'].tolist(),\n",
    "                   'Rating': ratings_new}\n",
    "\n",
    "user_input_df = pd.DataFrame(user_input_data)\n",
    "\n",
    "# Display the resulting DataFrame\n",
    "print(user_input_df)"
   ]
  },
  {
   "cell_type": "code",
   "execution_count": 37,
   "id": "1dbc8877",
   "metadata": {},
   "outputs": [
    {
     "name": "stdout",
     "output_type": "stream",
     "text": [
      "   UserID  MovieID  Rating\n",
      "0    6040      593     4.0\n",
      "1    6040     2571     3.5\n",
      "2    6040     3668     4.5\n"
     ]
    }
   ],
   "source": [
    "print(user_input_df)"
   ]
  },
  {
   "cell_type": "code",
   "execution_count": 38,
   "id": "b84405c2",
   "metadata": {},
   "outputs": [
    {
     "name": "stdout",
     "output_type": "stream",
     "text": [
      "[ 593 2571 3668]\n"
     ]
    }
   ],
   "source": [
    "movie_ids_array = user_input_df['MovieID'].values\n",
    "\n",
    "print(movie_ids_array)"
   ]
  },
  {
   "cell_type": "code",
   "execution_count": 39,
   "id": "0b0b151c",
   "metadata": {},
   "outputs": [
    {
     "name": "stdout",
     "output_type": "stream",
     "text": [
      "[3.5, 2.5, 2.5, 2.5, 2.5, 2.5, 2.5, 4.25, 2.5, 2.5, 2.5, 2.5, 2.5, 4.5, 3.5, 3.75, 2.5, 2.5]\n"
     ]
    }
   ],
   "source": [
    "genres_list = ['Action', 'Adventure', 'Animation', 'Children\\'s', 'Comedy', 'Crime', 'Documentary', 'Drama', 'Fantasy',\n",
    "          'Film-Noir', 'Horror', 'Musical', 'Mystery', 'Romance', 'Sci-Fi', 'Thriller', 'War', 'Western']\n",
    "\n",
    "# Merge new user ratings with movies data\n",
    "new_user_merged_df = pd.merge(user_input_df, movies_df, left_on='MovieID', right_on='MovieID')\n",
    "\n",
    "# Explode genres and create a pivot table for the new user\n",
    "new_user_genres_df = new_user_merged_df.assign(Genres=new_user_merged_df['Genres'].str.split('|')).explode('Genres').reset_index(drop=True)\n",
    "new_user_ratings_pivot = new_user_genres_df.pivot_table(values='Rating', index='UserID', columns='Genres', aggfunc='mean')\n",
    "\n",
    "# Fill NaN values with 0\n",
    "new_user_ratings_pivot = new_user_ratings_pivot.fillna(0)\n",
    "\n",
    "column_names_array = np.array(new_user_ratings_pivot.columns)\n",
    "\n",
    "# Create an empty list to store the values\n",
    "result_values = []\n",
    "\n",
    "# Iterate through genres_list\n",
    "for genre in genres_list:\n",
    "    # Check if the genre is present in column_names_array\n",
    "    if genre in column_names_array:\n",
    "        # If present, append the corresponding value from the DataFrame\n",
    "        result_values.append(new_user_ratings_pivot[genre].values[0])\n",
    "    else:\n",
    "        result_values.append(2.5)\n",
    "        \n",
    "# new_user_genere_matrix = np.array(result_values)\n",
    "# user_genre_matrix = ratings_array\n",
    "\n",
    "print(result_values)"
   ]
  },
  {
   "cell_type": "code",
   "execution_count": 40,
   "id": "097271c0",
   "metadata": {},
   "outputs": [],
   "source": [
    "ratings_array = np.vstack((ratings_array, result_values))"
   ]
  },
  {
   "cell_type": "code",
   "execution_count": 41,
   "id": "e810ba57",
   "metadata": {},
   "outputs": [
    {
     "data": {
      "text/plain": [
       "(6041, 18)"
      ]
     },
     "execution_count": 41,
     "metadata": {},
     "output_type": "execute_result"
    }
   ],
   "source": [
    "ratings_array.shape"
   ]
  },
  {
   "cell_type": "code",
   "execution_count": 42,
   "id": "5146d2da",
   "metadata": {},
   "outputs": [
    {
     "name": "stdout",
     "output_type": "stream",
     "text": [
      "Shape of the resulting array: (6041, 10)\n",
      "[[ 1.84837455e+04 -1.78435090e+02 -3.49028278e+01 ... -2.43211142e+00\n",
      "   2.94317097e+01 -7.32511495e+00]\n",
      " [ 1.67340446e+04  4.51567159e+01  9.69575314e+01 ...  1.79580552e+01\n",
      "   2.38674675e+01  1.76755101e+00]\n",
      " [ 1.80765834e+04 -1.55770343e+02 -4.62601748e+01 ...  1.06608526e+01\n",
      "  -1.56695475e+01  2.84465341e+01]\n",
      " ...\n",
      " [ 1.94106206e+04  2.02718052e+01  4.02601399e+01 ... -2.93568354e+00\n",
      "   6.54052524e+00  3.94089182e+00]\n",
      " [ 1.80059848e+04  1.15018193e+02 -6.69116513e+01 ... -9.25596734e+00\n",
      "  -4.79526199e+01 -9.45915120e+00]\n",
      " [ 1.44106970e+04 -3.18228380e+01  5.66211278e+01 ...  9.51964823e-01\n",
      "   2.14031147e+00  4.37992643e+00]]\n"
     ]
    }
   ],
   "source": [
    "# Initialize a list to store the resulting 1x15 matrices for each row\n",
    "result_list = []\n",
    "\n",
    "next_ratings=ratings_array\n",
    "V1=VTK.T\n",
    "\n",
    "for row in ratings_array:\n",
    "    # Perform matrix multiplication: (1x18) * (18x10) * (10x10)\n",
    "    intermediate_result = np.dot(row, V1)\n",
    "    final_result = np.dot(intermediate_result, sigmak)\n",
    "    \n",
    "    # Append the resulting 1x10 matrix to the result list\n",
    "    result_list.append(final_result)\n",
    "\n",
    "result_array = np.array(result_list)\n",
    "\n",
    "print(\"Shape of the resulting array:\", result_array.shape)\n",
    "print(result_array)"
   ]
  },
  {
   "cell_type": "code",
   "execution_count": 43,
   "id": "95bc0ebd",
   "metadata": {},
   "outputs": [
    {
     "name": "stdout",
     "output_type": "stream",
     "text": [
      "Cluster labels: [1 2 1 ... 1 2 4]\n",
      "(6041,)\n"
     ]
    }
   ],
   "source": [
    "class KMeans:\n",
    "    def __init__(self, n_clusters=5, max_iter=300):\n",
    "        self.n_clusters = n_clusters\n",
    "        self.max_iter = max_iter\n",
    "\n",
    "    def fit(self, X):\n",
    "        self.centroids = X[np.random.choice(X.shape[0], self.n_clusters, replace=False)]\n",
    "        \n",
    "        for _ in range(self.max_iter):\n",
    "            labels = self._assign_labels(X)\n",
    "            new_centroids = self._update_centroids(X, labels)            \n",
    "            if np.allclose(self.centroids, new_centroids):\n",
    "                break            \n",
    "            self.centroids = new_centroids\n",
    "        \n",
    "        self.labels_ = self._assign_labels(X)\n",
    "    \n",
    "    def _assign_labels(self, X):\n",
    "        distances = np.sqrt(((X - self.centroids[:, np.newaxis])**2).sum(axis=2))\n",
    "        return np.argmin(distances, axis=0)\n",
    "    \n",
    "    def _update_centroids(self, X, labels):\n",
    "        new_centroids = np.zeros_like(self.centroids)\n",
    "        for i in range(self.n_clusters):\n",
    "            new_centroids[i] = np.mean(X[labels == i], axis=0)\n",
    "        return new_centroids\n",
    "\n",
    "    \n",
    "    \n",
    "kmeans = KMeans(n_clusters=5)\n",
    "\n",
    "kmeans.fit(result_array)\n",
    "\n",
    "cluster_labels=kmeans.labels_\n",
    "# Get cluster labels\n",
    "print(\"Cluster labels:\", cluster_labels)\n",
    "print(cluster_labels.shape)"
   ]
  },
  {
   "cell_type": "code",
   "execution_count": 44,
   "id": "fe2b06cb",
   "metadata": {},
   "outputs": [],
   "source": [
    "cluster_labels_with_index = [(index+1, cluster_id) for index, cluster_id in enumerate(cluster_labels)]"
   ]
  },
  {
   "cell_type": "code",
   "execution_count": 45,
   "id": "82f8d8b6",
   "metadata": {},
   "outputs": [
    {
     "name": "stdout",
     "output_type": "stream",
     "text": [
      "6041\n"
     ]
    }
   ],
   "source": [
    "print(len(cluster_labels_with_index))"
   ]
  },
  {
   "cell_type": "code",
   "execution_count": 46,
   "id": "a8d1cbab",
   "metadata": {},
   "outputs": [],
   "source": [
    "movies_not_rated_by_user=[]\n",
    "movies_rated_by_user=[]\n",
    "ratings_by_user=[]\n",
    "people_in_same_cluster = []\n",
    "\n",
    "target_user_id = user_id_new\n",
    "\n",
    "for col in user_item_matrix.columns:\n",
    "    if col not in movie_ids_array:\n",
    "        movies_not_rated_by_user.append(col)\n",
    "\n",
    "# Identify users in the same cluster as the target user\n",
    "target_user_cluster = cluster_labels[target_user_id - 1]\n",
    "\n",
    "#Finding People in the same cluster as the target user\n",
    "for user_id, cluster in cluster_labels_with_index:\n",
    "    if cluster == target_user_cluster and user_id != target_user_id:\n",
    "        people_in_same_cluster.append(user_id)"
   ]
  },
  {
   "cell_type": "code",
   "execution_count": 47,
   "id": "57ec19f5",
   "metadata": {},
   "outputs": [],
   "source": [
    "# Compute recommendations for movies not rated by the target user\n",
    "result_list = []\n",
    "\n",
    "for movie in movies_not_rated_by_user:\n",
    "    s = 0\n",
    "    c = 0\n",
    "    for user in people_in_same_cluster:\n",
    "        if user<=6040 and user_item_matrix.loc[user,movie] > 0:\n",
    "            s += user_item_matrix.loc[user,movie]\n",
    "            c += 1\n",
    "    if c >= 10:\n",
    "        val = s / c\n",
    "        result_list.append([val,movie])"
   ]
  },
  {
   "cell_type": "code",
   "execution_count": 48,
   "id": "3a4bbdce",
   "metadata": {},
   "outputs": [
    {
     "name": "stdout",
     "output_type": "stream",
     "text": [
      "[[3.4201680672268906, 1], [2.6153846153846154, 2], [2.358490566037736, 3], [2.111111111111111, 4], [2.2580645161290325, 5], [3.3278688524590163, 6], [2.727272727272727, 7], [2.2, 8], [2.8507462686567164, 10], [3.0172413793103448, 11], [1.7894736842105263, 12], [1.75, 13], [2.8181818181818183, 14], [1.4761904761904763, 15], [3.25, 16], [3.388888888888889, 17], [2.8, 18], [1.8333333333333333, 19], [2.0, 20], [2.8105263157894735, 21], [2.4, 22], [2.0833333333333335, 23], [2.2711864406779663, 24], [3.1136363636363638, 25], [3.0, 26], [3.4615384615384617, 28], [3.6666666666666665, 29], [2.25, 31], [3.4835164835164836, 32], [3.020618556701031, 34], [3.2325581395348837, 36], [2.895348837209302, 39], [3.210526315789474, 41], [2.2758620689655173, 42], [2.8181818181818183, 43], [2.212121212121212, 44], [2.8857142857142857, 45], [2.7, 46], [3.59375, 47], [2.1470588235294117, 48], [4.141025641025641, 50], [3.0, 52], [3.6206896551724137, 58], [2.2666666666666666, 60], [2.95, 62], [2.6923076923076925, 63], [1.9090909090909092, 64], [1.736842105263158, 65], [1.3125, 66], [3.5, 69], [2.3529411764705883, 70], [1.2, 71], [2.923076923076923, 73], [2.1666666666666665, 74], [2.1052631578947367, 76], [2.142857142857143, 79], [2.0625, 81], [2.75, 85], [2.6875, 86], [1.4666666666666666, 87], [2.6, 88], [2.3181818181818183, 89], [1.6153846153846154, 92], [1.2727272727272727, 93], [3.2142857142857144, 94], [2.0, 95], [2.4, 100], [3.263157894736842, 101], [3.1492537313432836, 104], [2.6206896551724137, 105], [2.1944444444444446, 107], [3.723404255319149, 110], [3.564516129032258, 111], [2.888888888888889, 112], [2.217391304347826, 122], [3.4, 123], [2.9565217391304346, 125], [1.6666666666666667, 126], [1.8461538461538463, 132], [2.0526315789473686, 135], [2.0, 140], [2.82, 141], [3.0357142857142856, 144], [2.5128205128205128, 145], [3.142857142857143, 147], [3.19672131147541, 150], [2.902439024390244, 151], [2.6, 152], [1.9722222222222223, 153], [1.9444444444444444, 157], [2.16, 158], [2.5714285714285716, 159], [1.5483870967741935, 160], [2.9555555555555557, 161], [3.238095238095238, 162], [2.673469387755102, 163], [3.0416666666666665, 164], [2.6515151515151514, 165], [2.0526315789473686, 168], [1.3076923076923077, 169], [2.3846153846153846, 170], [1.8727272727272728, 172], [1.671875, 173], [1.5833333333333333, 174], [3.0, 175], [3.1538461538461537, 176], [1.625, 177], [3.2, 180], [1.3333333333333333, 181], [1.9841269841269842, 185], [2.2222222222222223, 186], [2.5, 188], [1.75, 193], [3.2142857142857144, 194], [2.3684210526315788, 195], [2.263157894736842, 196], [2.7169811320754715, 198], [2.2857142857142856, 203], [2.0588235294117645, 204], [2.3076923076923075, 207], [1.9666666666666666, 208], [2.8780487804878048, 216], [2.5714285714285716, 218], [3.235294117647059, 222], [3.766990291262136, 223], [2.5384615384615383, 224], [2.761904761904762, 225], [2.1578947368421053, 227], [2.4444444444444446, 230], [2.573529411764706, 231], [3.5, 232], [3.3333333333333335, 233], [1.7222222222222223, 234], [3.358490566037736, 235], [2.409090909090909, 236], [2.2666666666666666, 237], [1.9615384615384615, 239], [3.6774193548387095, 246], [3.413793103448276, 247], [1.7333333333333334, 248], [3.0, 249], [2.8857142857142857, 252], [2.9508196721311477, 253], [1.7142857142857142, 256], [2.3333333333333335, 257], [1.5925925925925926, 258], [2.2857142857142856, 259], [3.753846153846154, 260], [2.4166666666666665, 261], [2.8181818181818183, 262], [3.4571428571428573, 265], [2.6440677966101696, 266], [2.0, 267], [3.2, 272], [2.107142857142857, 273], [2.12, 276], [2.8, 277], [2.9545454545454546, 280], [1.9411764705882353, 282], [2.7868852459016393, 288], [2.8666666666666667, 289], [2.9, 290], [2.3692307692307693, 292], [3.4363636363636365, 293], [3.989795918367347, 296], [3.3255813953488373, 300], [2.0, 303], [3.8823529411764706, 306], [4.0, 307], [3.5625, 308], [1.5, 312], [3.5833333333333335, 314], [1.8095238095238095, 315], [2.783132530120482, 316], [2.3076923076923075, 317], [4.170212765957447, 318], [3.4, 319], [3.380952380952381, 322], [1.7, 325], [1.6216216216216217, 327], [2.5, 328], [2.710144927536232, 329], [1.8571428571428572, 330], [1.8, 332], [2.697674418604651, 333], [2.972972972972973, 337], [2.125, 338], [3.0, 339], [3.1, 340], [2.962962962962963, 342], [2.635135135135135, 344], [3.0625, 345], [3.0, 348], [2.9315068493150687, 349], [2.6875, 350], [2.5, 351], [2.2142857142857144, 352], [2.6923076923076925, 353], [1.7575757575757576, 355], [3.427480916030534, 356], [3.1343283582089554, 357], [3.1666666666666665, 358], [1.5, 360], [2.526315789473684, 361], [2.375, 362], [2.842857142857143, 364], [2.1666666666666665, 366], [2.4831460674157304, 367], [2.8125, 368], [2.290909090909091, 370], [2.75, 371], [2.6052631578947367, 372], [3.142857142857143, 373], [1.5555555555555556, 374], [2.3333333333333335, 376], [2.8857142857142857, 377], [2.0, 378], [2.0652173913043477, 379], [2.8958333333333335, 380], [2.357142857142857, 381], [2.3333333333333335, 382], [2.4761904761904763, 383], [2.8, 388], [1.6153846153846154, 393], [1.5769230769230769, 405], [2.1578947368421053, 407], [2.30188679245283, 410], [2.9444444444444446, 412], [2.1621621621621623, 413], [2.0, 414], [1.7916666666666667, 415], [2.7, 417], [1.4444444444444444, 419], [1.9069767441860466, 420], [2.1818181818181817, 421], [2.64, 423], [2.730769230769231, 426], [2.2, 427], [3.142857142857143, 428], [1.85, 429], [2.9393939393939394, 431], [1.85, 432], [2.370967741935484, 434], [1.9090909090909092, 435], [1.9285714285714286, 436], [1.7, 438], [3.2903225806451615, 440], [3.382978723404255, 441], [2.269230769230769, 442], [2.3846153846153846, 445], [3.6363636363636362, 446], [2.5, 448], [2.5, 450], [2.7222222222222223, 454], [1.7241379310344827, 455], [3.505050505050505, 457], [2.0, 458], [2.0555555555555554, 459], [1.84375, 464], [2.823529411764706, 465], [2.0153846153846153, 466], [2.772727272727273, 468], [3.125, 471], [2.1, 472], [1.2777777777777777, 473], [3.3492063492063493, 474], [3.1818181818181817, 475], [2.8333333333333335, 477], [2.1052631578947367, 479], [3.0372670807453415, 480], [3.0357142857142856, 481], [3.0625, 482], [1.7884615384615385, 485], [2.1666666666666665, 486], [1.8, 489], [2.652173913043478, 490], [2.44, 491], [3.3636363636363638, 492], [2.793103448275862, 493], [2.5555555555555554, 494], [3.606060606060606, 497], [2.557142857142857, 500], [1.2692307692307692, 502], [2.35, 504], [3.1, 506], [2.9285714285714284, 507], [3.212121212121212, 508], [2.7142857142857144, 509], [2.6, 511], [2.12, 512], [3.0689655172413794, 514], [3.2941176470588234, 515], [2.0, 516], [2.4375, 517], [2.0, 518], [1.625, 519], [2.3846153846153846, 520], [2.642857142857143, 521], [2.8125, 522], [3.1, 524], [3.8448275862068964, 527], [3.2954545454545454, 529], [2.588235294117647, 531], [2.225, 532], [2.1052631578947367, 533], [3.142857142857143, 534], [3.1818181818181817, 535], [1.6923076923076923, 537], [3.588235294117647, 538], [3.0, 539], [1.8095238095238095, 540], [3.6951219512195124, 541], [1.8095238095238095, 542], [2.4038461538461537, 543], [1.8823529411764706, 544], [1.462962962962963, 546], [1.7857142857142858, 547], [1.8333333333333333, 548], [2.235294117647059, 550], [3.0, 551], [2.6041666666666665, 552], [2.7419354838709675, 553], [3.595744680851064, 555], [2.0833333333333335, 558], [3.1142857142857143, 562], [2.142857142857143, 569], [2.769230769230769, 574], [1.9047619047619047, 575], [3.1, 581], [2.175, 585], [2.375, 586], [2.574712643678161, 587], [2.8210526315789473, 588], [3.5285714285714285, 589], [3.026666666666667, 590], [2.9069767441860463, 592], [2.488372093023256, 594], [2.806451612903226, 595], [2.4838709677419355, 596], [2.893939393939394, 597], [3.0, 599], [2.5238095238095237, 605], [1.9090909090909092, 606], [3.676470588235294, 608], [2.880952380952381, 610], [1.8928571428571428, 611], [1.7, 612], [2.0, 616], [3.0, 627], [3.0294117647058822, 628], [1.3333333333333333, 631], [1.8421052631578947, 637], [2.8, 647], [2.521276595744681, 648], [2.45, 653], [2.696969696969697, 661], [1.9090909090909092, 662], [3.1052631578947367, 663], [3.1666666666666665, 671], [2.0163934426229506, 673], [2.111111111111111, 674], [3.7142857142857144, 678], [2.5, 680], [1.5862068965517242, 688], [2.5, 691], [1.2941176470588236, 692], [1.6470588235294117, 694], [2.25, 695], [2.6666666666666665, 700], [2.3333333333333335, 707], [2.607843137254902, 708], [1.8695652173913044, 709], [3.4285714285714284, 714], [1.8888888888888888, 719], [3.6842105263157894, 720], [2.7333333333333334, 724], [3.076923076923077, 728], [2.8333333333333335, 733], [2.4, 735], [2.359550561797753, 736], [1.1904761904761905, 737], [3.7142857142857144, 741], [1.9615384615384615, 742], [2.1, 743], [4.190476190476191, 745], [2.4358974358974357, 748], [3.8793103448275863, 750], [2.0, 761], [1.8529411764705883, 762], [2.08, 765], [3.5384615384615383, 778], [2.7043478260869565, 780], [2.4, 781], [1.95, 782], [2.269230769230769, 783], [2.0208333333333335, 784], [2.9324324324324325, 785], [2.1555555555555554, 786], [2.2967032967032965, 788], [1.8888888888888888, 798], [2.7027027027027026, 799], [3.033333333333333, 800], [2.2777777777777777, 801], [2.515151515151515, 802], [2.1666666666666665, 804], [2.878787878787879, 805], [2.1333333333333333, 809], [1.1818181818181819, 810], [1.9130434782608696, 818], [1.7916666666666667, 829], [2.1875, 830], [2.5660377358490565, 832], [1.9090909090909092, 833], [2.0, 836], [2.4761904761904763, 837], [3.3636363636363638, 838], [1.6666666666666667, 839], [2.0, 842], [2.090909090909091, 848], [1.7142857142857142, 849], [3.2, 851], [2.6666666666666665, 852], [4.042105263157895, 858], [2.3684210526315788, 861], [3.261904761904762, 866], [2.3846153846153846, 879], [1.6046511627906976, 880], [1.6428571428571428, 881], [2.4, 886], [2.0625, 891], [3.28, 898], [3.896551724137931, 899], [3.1052631578947367, 900], [3.2325581395348837, 902], [3.5128205128205128, 903], [3.7906976744186047, 904], [3.4615384615384617, 905], [2.9285714285714284, 906], [3.7413793103448274, 908], [2.8666666666666667, 909], [3.638888888888889, 910], [3.076923076923077, 911], [3.5, 912], [3.6666666666666665, 913], [3.185185185185185, 914], [3.411764705882353, 915], [3.25, 916], [2.909090909090909, 918], [3.1012658227848102, 919], [3.0, 920], [3.0, 921], [4.173913043478261, 922], [4.054054054054054, 923], [3.493827160493827, 924], [3.176470588235294, 926], [3.2, 928], [3.619047619047619, 930], [3.125, 931], [2.8181818181818183, 932], [3.0, 933], [2.6842105263157894, 934], [2.3, 938], [2.7, 940], [3.7222222222222223, 942], [3.4615384615384617, 945], [2.357142857142857, 946], [2.8, 947], [3.357142857142857, 950], [3.611111111111111, 951], [2.5714285714285716, 952], [3.2972972972972974, 953], [3.6666666666666665, 954], [3.3043478260869565, 955], [3.1538461538461537, 965], [3.0384615384615383, 968], [3.193548387096774, 969], [3.1666666666666665, 971], [2.45, 986], [1.6666666666666667, 990], [3.0714285714285716, 991], [3.6, 994], [2.1379310344827585, 996], [2.1818181818181817, 998], [3.0476190476190474, 999], [2.1176470588235294, 1003], [1.6923076923076923, 1004], [1.55, 1005], [2.210526315789474, 1007], [2.4444444444444446, 1009], [2.176470588235294, 1010], [2.347826086956522, 1012], [2.6, 1013], [2.25, 1014], [2.142857142857143, 1015], [2.357142857142857, 1016], [2.7222222222222223, 1017], [2.1666666666666665, 1018], [2.5, 1019], [2.475, 1020], [1.9090909090909092, 1021], [2.5365853658536586, 1022], [2.6363636363636362, 1023], [2.1666666666666665, 1024], [2.4347826086956523, 1025], [2.375, 1027], [2.913793103448276, 1028], [2.484848484848485, 1029], [1.875, 1030], [2.56, 1031], [2.473684210526316, 1032], [2.24, 1033], [3.2142857142857144, 1034], [2.9782608695652173, 1035], [3.4210526315789473, 1036], [2.0454545454545454, 1037], [3.8421052631578947, 1041], [2.4285714285714284, 1042], [1.8, 1043], [2.473684210526316, 1047], [2.6842105263157894, 1049], [3.4615384615384617, 1050], [3.0, 1051], [2.8076923076923075, 1057], [2.5454545454545454, 1059], [3.239130434782609, 1060], [2.676470588235294, 1061], [2.0, 1064], [3.6, 1066], [3.0, 1069], [3.1666666666666665, 1073], [3.2777777777777777, 1077], [3.16, 1078], [3.1551724137931036, 1079], [3.4545454545454546, 1080], [2.4761904761904763, 1081], [3.4, 1082], [3.6, 1083], [3.7142857142857144, 1084], [3.25, 1086], [2.236842105263158, 1088], [3.676470588235294, 1089], [3.466666666666667, 1090], [2.09375, 1091], [2.6538461538461537, 1092], [2.933333333333333, 1093], [3.2033898305084745, 1094], [3.5, 1095], [3.238095238095238, 1096], [2.9152542372881354, 1097], [2.9285714285714284, 1099], [1.8695652173913044, 1100], [2.716666666666667, 1101], [2.9, 1103], [3.4444444444444446, 1104], [3.054054054054054, 1120], [2.619047619047619, 1124], [2.761904761904762, 1125], [1.6, 1126], [3.205607476635514, 1127], [2.4285714285714284, 1128], [2.892857142857143, 1129], [2.764705882352941, 1130], [3.5, 1132], [2.225806451612903, 1135], [3.7846153846153845, 1136], [3.7857142857142856, 1147], [3.972972972972973, 1148], [3.3076923076923075, 1171], [3.8, 1172], [3.0, 1173], [3.1176470588235294, 1175], [3.8333333333333335, 1176], [3.2, 1178], [3.3142857142857145, 1179], [2.803030303030303, 1183], [3.130434782608696, 1185], [2.888888888888889, 1186], [2.8181818181818183, 1187], [3.3513513513513513, 1188], [3.5714285714285716, 1189], [3.1, 1190], [2.1, 1191], [3.882978723404255, 1193], [3.1875, 1194], [3.6090225563909772, 1196], [3.6262626262626263, 1197], [3.8773584905660377, 1198], [3.9302325581395348, 1199], [3.5851063829787235, 1200], [3.289473684210526, 1201], [3.0833333333333335, 1203], [3.272727272727273, 1204], [2.1666666666666665, 1205], [3.7222222222222223, 1206], [3.533333333333333, 1207], [3.4655172413793105, 1208], [3.0, 1209], [3.158273381294964, 1210], [3.5, 1211], [3.8095238095238093, 1212], [3.863013698630137, 1213], [3.4361702127659575, 1214], [2.970149253731343, 1215], [3.2, 1217], [3.4375, 1218], [3.7288135593220337, 1219], [2.9836065573770494, 1220], [3.8518518518518516, 1221], [3.696969696969697, 1222], [4.071428571428571, 1223], [3.3181818181818183, 1224], [3.6296296296296298, 1225], [3.0, 1227], [3.75, 1228], [3.4642857142857144, 1230], [3.1379310344827585, 1231], [3.4615384615384617, 1233], [3.675, 1234], [3.263157894736842, 1235], [3.4705882352941178, 1237], [3.0, 1238], [3.595959595959596, 1240], [3.7037037037037037, 1242], [3.55, 1243], [3.9166666666666665, 1244], [3.5238095238095237, 1245], [3.391304347826087, 1246], [3.64, 1247], [3.3076923076923075, 1248], [3.4878048780487805, 1249], [3.4565217391304346, 1250], [3.6153846153846154, 1251], [3.82, 1252], [3.0625, 1253], [3.263157894736842, 1254], [3.2, 1256], [3.310344827586207, 1257], [3.7049180327868854, 1258], [3.4705882352941178, 1259], [3.9473684210526314, 1260], [2.825, 1261], [3.8285714285714287, 1262], [3.3333333333333335, 1263], [3.076923076923077, 1264], [3.491228070175439, 1265], [3.4375, 1266], [3.6666666666666665, 1267], [2.4285714285714284, 1268], [3.41025641025641, 1269], [3.2419354838709675, 1270], [2.9166666666666665, 1271], [3.4285714285714284, 1272], [3.6363636363636362, 1273], [3.466666666666667, 1274], [3.108108108108108, 1275], [3.3902439024390243, 1276], [3.2, 1277], [3.3392857142857144, 1278], [3.3636363636363638, 1279], [3.2, 1281], [2.923076923076923, 1282], [2.888888888888889, 1283], [3.857142857142857, 1284], [3.325, 1285], [2.533333333333333, 1286], [3.085714285714286, 1287], [3.5, 1288], [2.8333333333333335, 1289], [2.5454545454545454, 1290], [3.4864864864864864, 1291], [2.8636363636363638, 1292], [3.4347826086956523, 1293], [3.021276595744681, 1294], [3.125, 1295], [2.909090909090909, 1296], [2.9285714285714284, 1297], [2.96, 1298], [3.3157894736842106, 1299], [3.8666666666666667, 1300], [2.7142857142857144, 1301], [3.4, 1302], [3.411764705882353, 1304], [3.5714285714285716, 1305], [3.3384615384615386, 1307], [2.6206896551724137, 1320], [3.0526315789473686, 1321], [2.7142857142857144, 1327], [2.3636363636363638, 1330], [2.1538461538461537, 1332], [3.076923076923077, 1333], [2.40625, 1334], [2.5961538461538463, 1339], [2.625, 1340], [2.25, 1342], [3.230769230769231, 1343], [3.2, 1344], [3.0285714285714285, 1345], [2.5, 1346], [2.588235294117647, 1347], [3.3125, 1348], [3.0689655172413794, 1350], [2.3333333333333335, 1352], [2.0588235294117645, 1353], [3.125, 1354], [2.3, 1355], [2.9753086419753085, 1356], [2.9615384615384617, 1357], [3.596774193548387, 1358], [1.84, 1359], [2.4, 1363], [2.6363636363636362, 1366], [2.2954545454545454, 1367], [2.775, 1370], [2.4, 1371], [2.7142857142857144, 1372], [2.0384615384615383, 1373], [3.295774647887324, 1374], [2.5762711864406778, 1375], [2.727272727272727, 1376], [2.1704545454545454, 1377], [2.693877551020408, 1378], [2.173076923076923, 1379], [2.7735849056603774, 1380], [1.36, 1381], [1.9333333333333333, 1382], [2.7027027027027026, 1385], [3.5384615384615383, 1387], [1.9705882352941178, 1388], [1.3333333333333333, 1389], [2.3, 1390], [2.1789473684210527, 1391], [2.909090909090909, 1392], [3.380281690140845, 1393], [3.381818181818182, 1394], [2.4, 1395], [3.029850746268657, 1396], [2.909090909090909, 1399], [2.5, 1401], [2.0, 1404], [2.5869565217391304, 1405], [3.0136986301369864, 1407], [3.4029850746268657, 1408], [2.0256410256410255, 1409], [3.5, 1411], [3.0, 1414], [2.9166666666666665, 1416], [2.4242424242424243, 1422], [2.5833333333333335, 1425], [2.8947368421052633, 1429], [2.081081081081081, 1431], [2.1142857142857143, 1438], [2.7058823529411766, 1441], [1.5789473684210527, 1445], [3.5833333333333335, 1446], [3.9545454545454546, 1449], [1.7692307692307692, 1453], [1.7, 1456], [2.5454545454545454, 1457], [2.607142857142857, 1459], [2.0, 1460], [2.0869565217391304, 1461], [2.888888888888889, 1464], [2.8333333333333335, 1465], [3.073170731707317, 1466], [2.05, 1468], [1.3043478260869565, 1474], [3.024390243902439, 1476], [2.288135593220339, 1479], [2.55, 1480], [2.142857142857143, 1483], [2.8846153846153846, 1485], [1.8571428571428572, 1487], [2.0294117647058822, 1488], [1.6, 1489], [1.1428571428571428, 1497], [1.5384615384615385, 1499], [3.2615384615384615, 1500], [1.8076923076923077, 1503], [2.1911764705882355, 1513], [1.95, 1515], [3.023529411764706, 1517], [2.6666666666666665, 1518], [1.8333333333333333, 1526], [3.0707070707070705, 1527], [3.411764705882353, 1537], [2.3333333333333335, 1541], [2.7333333333333334, 1542], [2.230088495575221, 1544], [1.6, 1550], [2.554054054054054, 1552], [1.36, 1556], [1.5576923076923077, 1562], [2.2093023255813953, 1566], [2.8983050847457625, 1569], [2.656862745098039, 1573], [3.0588235294117645, 1580], [2.3, 1582], [3.0, 1584], [2.280701754385965, 1586], [2.5405405405405403, 1587], [2.4827586206896552, 1588], [2.72972972972973, 1589], [1.9285714285714286, 1590], [1.8518518518518519, 1591], [2.0, 1592], [2.0588235294117645, 1593], [3.25, 1594], [2.5, 1597], [2.0714285714285716, 1598], [1.0, 1599], [2.0833333333333335, 1601], [2.0833333333333335, 1603], [2.0, 1604], [1.4444444444444444, 1606], [2.8472222222222223, 1608], [3.1868131868131866, 1610], [3.0, 1611], [2.5, 1614], [2.7222222222222223, 1615], [2.4166666666666665, 1616], [3.4693877551020407, 1617], [2.6333333333333333, 1619], [2.3513513513513513, 1620], [2.5, 1621], [1.8333333333333333, 1623], [3.6065573770491803, 1625], [1.9230769230769231, 1626], [2.5, 1627], [2.6666666666666665, 1633], [3.375, 1635], [3.375, 1639], [2.1, 1640], [3.2794117647058822, 1641], [2.727272727272727, 1643], [2.0350877192982457, 1644], [2.6885245901639343, 1645], [2.090909090909091, 1647], [3.1176470588235294, 1648], [2.9, 1649], [3.027027027027027, 1653], [1.75, 1655], [2.727272727272727, 1658], [3.1, 1660], [3.0, 1663], [2.3, 1665], [2.0714285714285716, 1667], [3.074074074074074, 1672], [3.1052631578947367, 1673], [3.163265306122449, 1674], [2.310344827586207, 1676], [3.2903225806451615, 1678], [3.4166666666666665, 1680], [1.6470588235294117, 1681], [3.328358208955224, 1682], [3.1538461538461537, 1683], [2.0714285714285716, 1686], [2.5476190476190474, 1687], [2.55, 1688], [2.3214285714285716, 1689], [2.2857142857142856, 1690], [3.0, 1693], [2.8461538461538463, 1694], [2.7, 1701], [1.8529411764705883, 1702], [3.607594936708861, 1704], [1.5217391304347827, 1707], [2.5555555555555554, 1711], [2.3225806451612905, 1713], [2.4375, 1717], [3.611111111111111, 1719], [2.78, 1721], [2.6911764705882355, 1722], [2.076923076923077, 1726], [2.3076923076923075, 1727], [2.981132075471698, 1729], [2.933333333333333, 1730], [3.2666666666666666, 1732], [2.4285714285714284, 1734], [2.6666666666666665, 1735], [1.1818181818181819, 1739], [1.5384615384615385, 1744], [2.3, 1746], [3.0833333333333335, 1747], [3.15, 1748], [1.25, 1750], [1.76, 1752], [3.0454545454545454, 1753], [2.6744186046511627, 1754], [1.3448275862068966, 1760], [1.9696969696969697, 1762], [2.411764705882353, 1769], [1.9047619047619047, 1772], [2.986666666666667, 1777], [1.896551724137931, 1779], [1.9230769230769231, 1783], [3.3146067415730336, 1784], [2.6956521739130435, 1785], [2.38, 1792], [2.642857142857143, 1794], [2.4, 1799], [2.1714285714285713, 1801], [2.5384615384615383, 1804], [2.9347826086956523, 1805], [2.0, 1806], [3.1904761904761907, 1810], [2.3333333333333335, 1816], [2.2857142857142856, 1821], [3.2, 1824], [1.6142857142857143, 1831], [2.3214285714285716, 1833], [3.2666666666666666, 1834], [2.3684210526315788, 1835], [2.769230769230769, 1836], [3.210526315789474, 1840], [2.230769230769231, 1841], [2.7037037037037037, 1845], [1.9166666666666667, 1848], [1.6, 1855], [2.5625, 1858], [1.6, 1862], [1.4736842105263157, 1863], [2.590909090909091, 1866], [1.5384615384615385, 1869], [3.2941176470588234, 1873], [3.6, 1875], [2.402439024390244, 1876], [1.7333333333333334, 1882], [2.816326530612245, 1883], [3.4444444444444446, 1884], [2.9714285714285715, 1885], [2.1627906976744184, 1888], [2.6315789473684212, 1892], [2.1315789473684212, 1894], [2.4, 1895], [3.0, 1897], [2.5, 1904], [2.742857142857143, 1907], [3.0547945205479454, 1909], [2.2280701754385963, 1911], [3.2363636363636363, 1912], [2.9473684210526314, 1914], [3.142857142857143, 1916], [2.3608247422680413, 1917], [2.292307692307692, 1918], [1.853658536585366, 1920], [3.5609756097560976, 1921], [3.276595744680851, 1923], [2.238095238095238, 1924], [3.6153846153846154, 1927], [2.3, 1937], [2.7857142857142856, 1939], [2.8181818181818183, 1941], [2.8823529411764706, 1944], [3.3157894736842106, 1945], [3.054054054054054, 1947], [3.5454545454545454, 1949], [3.235294117647059, 1950], [2.6923076923076925, 1951], [3.5, 1952], [3.1025641025641026, 1953], [3.3333333333333335, 1954], [2.9565217391304346, 1955], [3.3461538461538463, 1956], [3.033333333333333, 1957], [2.6486486486486487, 1958], [2.9375, 1959], [3.138888888888889, 1960], [3.3, 1961], [3.206896551724138, 1962], [3.25, 1963], [3.3076923076923075, 1964], [2.9, 1965], [3.25, 1966], [2.975, 1967], [3.264367816091954, 1968], [2.064516129032258, 1969], [2.4, 1970], [2.1515151515151514, 1971], [1.8620689655172413, 1972], [1.9393939393939394, 1973], [2.4857142857142858, 1974], [2.1176470588235294, 1975], [2.033333333333333, 1976], [2.032258064516129, 1977], [2.0, 1978], [2.2666666666666666, 1979], [1.9230769230769231, 1980], [1.7333333333333334, 1981], [3.3529411764705883, 1982], [2.5555555555555554, 1983], [1.6363636363636365, 1984], [2.0, 1985], [1.9047619047619047, 1986], [2.32, 1991], [1.8333333333333333, 1992], [1.8461538461538463, 1993], [3.0555555555555554, 1994], [1.95, 1995], [1.4666666666666666, 1996], [3.608695652173913, 1997], [1.3076923076923077, 1998], [2.2, 1999], [3.024390243902439, 2000], [2.5806451612903225, 2001], [2.3055555555555554, 2002], [2.7313432835820897, 2003], [1.8333333333333333, 2004], [2.7058823529411766, 2005], [2.8260869565217392, 2006], [2.7241379310344827, 2009], [3.05, 2010], [2.518987341772152, 2011], [2.4361702127659575, 2012], [3.0, 2013], [2.375, 2014], [2.6551724137931036, 2015], [1.5, 2016], [2.3529411764705883, 2017], [2.3421052631578947, 2018], [3.75, 2019], [3.4642857142857144, 2020], [2.75, 2021], [2.736842105263158, 2022], [2.6470588235294117, 2023], [2.4, 2024], [2.764705882352941, 2025], [2.3157894736842106, 2026], [1.55, 2027], [3.762237762237762, 2028], [2.4347826086956523, 2033], [2.0454545454545454, 2034], [1.4705882352941178, 2036], [2.066666666666667, 2038], [2.0, 2040], [2.2, 2041], [1.6071428571428572, 2042], [2.0, 2043], [2.659090909090909, 2046], [2.3076923076923075, 2048], [1.4, 2050], [2.04, 2052], [1.510204081632653, 2053], [2.1139240506329116, 2054], [2.9838709677419355, 2058], [2.12, 2059], [2.4, 2060], [3.515151515151515, 2064], [2.9166666666666665, 2065], [3.0, 2067], [3.5384615384615383, 2068], [3.230769230769231, 2070], [3.7333333333333334, 2071], [2.4166666666666665, 2072], [3.3846153846153846, 2076], [2.888888888888889, 2078], [2.7346938775510203, 2080], [2.6615384615384614, 2081], [1.9411764705882353, 2082], [3.0, 2083], [2.1818181818181817, 2084], [2.488372093023256, 2085], [2.4857142857142858, 2087], [1.8333333333333333, 2088], [1.8461538461538463, 2089], [2.227272727272727, 2090], [1.8823529411764706, 2091], [1.75, 2092], [1.8484848484848484, 2093], [2.4126984126984126, 2094], [1.8, 2095], [2.3666666666666667, 2096], [2.875, 2097], [2.4375, 2099], [2.656716417910448, 2100], [2.5, 2102], [2.8392857142857144, 2105], [2.2, 2106], [2.269230769230769, 2107], [3.0392156862745097, 2108], [3.1627906976744184, 2109], [2.9047619047619047, 2110], [2.4, 2111], [2.727272727272727, 2112], [2.1818181818181817, 2113], [2.8421052631578947, 2114], [3.0392156862745097, 2115], [2.5185185185185186, 2116], [3.1666666666666665, 2117], [2.814814814814815, 2118], [1.8125, 2119], [2.2222222222222223, 2120], [2.0869565217391304, 2121], [2.2, 2122], [1.72, 2123], [2.3968253968253967, 2124], [2.7857142857142856, 2125], [1.82, 2126], [3.0588235294117645, 2130], [2.75, 2132], [2.3636363636363638, 2133], [2.7209302325581395, 2134], [2.2777777777777777, 2135], [2.409090909090909, 2136], [2.909090909090909, 2137], [3.0952380952380953, 2138], [3.0833333333333335, 2139], [3.066666666666667, 2140], [2.4545454545454546, 2141], [1.8, 2142], [2.2413793103448274, 2143], [2.9047619047619047, 2144], [2.422222222222222, 2145], [2.2916666666666665, 2146], [1.9473684210526316, 2147], [2.1904761904761907, 2148], [1.3125, 2149], [3.1052631578947367, 2150], [1.5714285714285714, 2152], [1.4, 2153], [2.3529411764705883, 2155], [3.0, 2159], [3.35, 2160], [2.6122448979591835, 2161], [1.7222222222222223, 2162], [1.8235294117647058, 2163], [2.5625, 2166], [2.8358208955223883, 2167], [1.8125, 2169], [1.9411764705882353, 2170], [2.9411764705882355, 2171], [2.5853658536585367, 2174], [3.3636363636363638, 2176], [3.1, 2182], [2.6363636363636362, 2183], [2.5714285714285716, 2184], [3.24, 2186], [2.15, 2188], [2.6808510638297873, 2193], [3.4339622641509435, 2194], [2.8125, 2195], [2.588235294117647, 2202], [3.4285714285714284, 2203], [3.263157894736842, 2206], [3.5384615384615383, 2208], [2.909090909090909, 2212], [2.857142857142857, 2231], [3.0434782608695654, 2232], [3.0, 2236], [2.3076923076923075, 2240], [2.0, 2241], [2.764705882352941, 2243], [2.6842105263157894, 2245], [1.8421052631578947, 2247], [3.230769230769231, 2248], [2.0454545454545454, 2249], [2.2, 2252], [1.5416666666666667, 2253], [1.8181818181818181, 2259], [2.2222222222222223, 2261], [2.1818181818181817, 2262], [2.764705882352941, 2263], [2.0, 2264], [2.6470588235294117, 2266], [1.9090909090909092, 2267], [3.2096774193548385, 2268], [2.3181818181818183, 2269], [2.75, 2273], [2.943396226415094, 2278], [2.0, 2279], [2.9583333333333335, 2282], [2.35, 2287], [2.980392156862745, 2288], [3.5853658536585367, 2289], [3.090909090909091, 2290], [2.967032967032967, 2291], [2.675, 2294], [2.0588235294117645, 2296], [2.24, 2297], [3.259259259259259, 2300], [2.8, 2301], [2.871794871794872, 2302], [3.2857142857142856, 2303], [2.0, 2306], [3.3, 2310], [2.72972972972973, 2311], [2.9166666666666665, 2312], [3.4615384615384617, 2313], [2.3, 2314], [2.2222222222222223, 2315], [1.9411764705882353, 2316], [3.2758620689655173, 2318], [2.3157894736842106, 2320], [3.3055555555555554, 2321], [2.411764705882353, 2322], [3.7954545454545454, 2324], [2.5, 2325], [2.3125, 2327], [1.6875, 2328], [3.717391304347826, 2329], [2.5384615384615383, 2331], [3.257142857142857, 2333], [2.5142857142857142, 2334], [2.38, 2335], [3.6923076923076925, 2336], [1.6585365853658536, 2338], [2.782608695652174, 2340], [2.5, 2344], [2.4444444444444446, 2346], [3.2142857142857144, 2348], [3.0, 2352], [2.835616438356164, 2353], [2.1818181818181817, 2354], [3.0714285714285716, 2355], [3.5, 2359], [2.9166666666666665, 2361], [2.5454545454545454, 2363], [2.5454545454545454, 2364], [2.685185185185185, 2366], [1.7407407407407407, 2367], [2.1551724137931036, 2369], [2.7096774193548385, 2371], [2.1176470588235294, 2372], [1.8636363636363635, 2373], [2.0555555555555554, 2374], [2.0606060606060606, 2375], [2.4545454545454546, 2376], [2.1578947368421053, 2377], [2.25, 2378], [2.2142857142857144, 2379], [1.6666666666666667, 2380], [1.6923076923076923, 2381], [1.4, 2382], [1.4, 2383], [2.72972972972973, 2384], [1.8, 2385], [2.5, 2387], [1.71875, 2389], [3.3333333333333335, 2390], [3.1818181818181817, 2391], [1.434782608695652, 2392], [2.5692307692307694, 2393], [2.658536585365854, 2394], [3.3956043956043955, 2395], [3.45, 2396], [3.1904761904761907, 2398], [2.142857142857143, 2399], [2.6, 2401], [2.0277777777777777, 2402], [3.0, 2403], [1.6896551724137931, 2404], [2.1333333333333333, 2405], [2.9565217391304346, 2406], [2.459016393442623, 2407], [1.64, 2408], [2.3529411764705883, 2409], [2.0277777777777777, 2410], [2.0344827586206895, 2411], [1.5, 2412], [2.4285714285714284, 2413], [2.769230769230769, 2414], [2.7, 2416], [2.1666666666666665, 2418], [2.4166666666666665, 2420], [1.825, 2421], [1.44, 2422], [2.973684210526316, 2423], [2.559322033898305, 2424], [2.875, 2427], [2.2686567164179103, 2428], [2.0416666666666665, 2429], [2.0, 2430], [2.574468085106383, 2431], [2.5454545454545454, 2432], [2.9375, 2433], [3.2, 2439], [3.466666666666667, 2442], [3.1666666666666665, 2443], [2.0, 2446], [2.6551724137931036, 2447], [1.6451612903225807, 2448], [1.358974358974359, 2450], [2.090909090909091, 2451], [2.5, 2453], [2.675675675675676, 2454], [2.7945205479452055, 2455], [1.9090909090909092, 2456], [2.4545454545454546, 2457], [1.4, 2458], [2.6666666666666665, 2459], [1.3333333333333333, 2460], [2.8484848484848486, 2463], [2.9285714285714284, 2467], [2.096774193548387, 2468], [2.323529411764706, 2469], [2.559322033898305, 2470], [1.7666666666666666, 2471], [1.8333333333333333, 2473], [2.7777777777777777, 2474], [2.8, 2475], [2.608695652173913, 2476], [2.27027027027027, 2478], [2.2448979591836733, 2485], [2.926470588235294, 2490], [2.1538461538461537, 2491], [2.411764705882353, 2492], [2.611111111111111, 2496], [2.0, 2497], [1.4375, 2498], [2.35, 2500], [3.269230769230769, 2501], [3.238095238095238, 2502], [2.35, 2504], [2.413793103448276, 2505], [2.8, 2506], [2.3333333333333335, 2513], [1.7647058823529411, 2514], [2.25, 2517], [2.5833333333333335, 2518], [2.8, 2519], [2.388888888888889, 2524], [1.6842105263157894, 2525], [2.0, 2526], [2.4594594594594597, 2527], [2.7027027027027026, 2528], [2.7704918032786887, 2529], [2.0, 2530], [1.875, 2531], [1.8888888888888888, 2532], [2.0, 2533], [2.659090909090909, 2539], [2.3043478260869565, 2540], [2.6666666666666665, 2541], [3.3255813953488373, 2542], [2.076923076923077, 2546], [1.8125, 2548], [1.5483870967741935, 2549], [2.6666666666666665, 2550], [2.7333333333333334, 2551], [2.4210526315789473, 2553], [2.473684210526316, 2554], [1.4782608695652173, 2555], [2.103448275862069, 2558], [2.8333333333333335, 2560], [1.9230769230769231, 2561], [2.7333333333333334, 2565], [2.7142857142857144, 2567], [1.5, 2568], [2.861111111111111, 2572], [2.2857142857142856, 2574], [3.8333333333333335, 2575], [3.3529411764705883, 2580], [2.7857142857142856, 2581], [3.1333333333333333, 2583], [3.2, 2596], [2.1875, 2598], [3.6458333333333335, 2599], [2.864864864864865, 2600], [2.306451612903226, 2605], [2.36, 2606], [2.24, 2613], [1.894736842105263, 2615], [1.9482758620689655, 2616], [2.746987951807229, 2617], [2.8285714285714287, 2622], [3.5, 2624], [2.604651162790698, 2628], [1.6666666666666667, 2629], [2.789473684210526, 2633], [2.5833333333333335, 2634], [2.3, 2639], [2.63768115942029, 2640], [2.3968253968253967, 2641], [1.4186046511627908, 2642], [1.40625, 2643], [2.85, 2644], [2.1538461538461537, 2645], [3.1724137931034484, 2648], [2.5, 2651], [3.1538461538461537, 2654], [2.5, 2657], [2.0, 2661], [2.7714285714285714, 2662], [2.9166666666666665, 2664], [1.8148148148148149, 2668], [2.9814814814814814, 2671], [2.3846153846153846, 2672], [2.5384615384615383, 2676], [3.5454545454545454, 2677], [2.9603174603174605, 2683], [3.2051282051282053, 2686], [2.8076923076923075, 2687], [2.6129032258064515, 2688], [2.96, 2690], [3.980392156862745, 2692], [3.0, 2693], [2.7906976744186047, 2694], [2.3949579831932772, 2699], [3.25531914893617, 2700], [1.3695652173913044, 2701], [2.375, 2702], [3.2338709677419355, 2706], [2.8548387096774195, 2707], [2.323529411764706, 2709], [2.803738317757009, 2710], [2.8292682926829267, 2712], [2.022222222222222, 2713], [3.2892561983471076, 2716], [2.2, 2717], [2.382978723404255, 2718], [1.7321428571428572, 2719], [1.6046511627906976, 2720], [2.3194444444444446, 2722], [2.4347826086956523, 2723], [2.4901960784313726, 2724], [3.4615384615384617, 2726], [3.4347826086956523, 2728], [3.7142857142857144, 2729], [2.6666666666666665, 2730], [3.1818181818181817, 2731], [3.0, 2734], [2.21875, 2735], [2.8, 2736], [3.0952380952380953, 2739], [3.3333333333333335, 2745], [2.5245901639344264, 2746], [2.2666666666666666, 2747], [1.3846153846153846, 2748], [3.235294117647059, 2750], [2.125, 2752], [2.6857142857142855, 2759], [2.973684210526316, 2761], [3.976923076923077, 2762], [2.9047619047619047, 2763], [2.875, 2764], [2.6363636363636362, 2770], [2.2916666666666665, 2771], [2.6774193548387095, 2772], [2.923076923076923, 2779], [2.388888888888889, 2787], [3.590909090909091, 2788], [2.533333333333333, 2789], [3.347826086956522, 2791], [2.697674418604651, 2792], [2.096774193548387, 2793], [1.962962962962963, 2794], [3.212121212121212, 2795], [2.1578947368421053, 2796], [2.8375, 2797], [1.3157894736842106, 2798], [1.3571428571428572, 2799], [2.3333333333333335, 2802], [2.2, 2803], [3.5396825396825395, 2804], [2.3513513513513513, 2805], [2.1724137931034484, 2806], [1.1764705882352942, 2807], [1.9545454545454546, 2808], [1.8846153846153846, 2815], [1.1818181818181819, 2816], [1.1666666666666667, 2817], [3.25, 2819], [2.388888888888889, 2822], [2.358974358974359, 2826], [1.7045454545454546, 2827], [1.5, 2828], [2.3076923076923075, 2829], [2.6956521739130435, 2836], [2.1627906976744184, 2840], [2.7083333333333335, 2841], [2.5, 2844], [2.2, 2846], [2.0, 2851], [2.782608695652174, 2857], [3.943127962085308, 2858], [3.7, 2859], [2.4705882352941178, 2860], [2.0303030303030303, 2861], [3.090909090909091, 2863], [3.0, 2866], [2.75, 2867], [3.3076923076923075, 2870], [3.25, 2871], [2.838709677419355, 2872], [1.9411764705882353, 2875], [2.3076923076923075, 2877], [3.1818181818181817, 2879], [2.4583333333333335, 2881], [2.2857142857142856, 2882], [2.6923076923076925, 2883], [1.2, 2886], [2.2, 2888], [2.7142857142857144, 2889], [3.0441176470588234, 2890], [2.8125, 2891], [2.1904761904761907, 2898], [2.5833333333333335, 2899], [2.1666666666666665, 2900], [2.1818181818181817, 2901], [1.9523809523809523, 2902], [1.9310344827586208, 2906], [2.3529411764705883, 2907], [3.55, 2908], [3.361111111111111, 2912], [2.8536585365853657, 2915], [2.9491525423728815, 2916], [3.04, 2917], [3.5342465753424657, 2918], [3.0, 2919], [2.4615384615384617, 2921], [3.2857142857142856, 2924], [2.4, 2926], [2.6923076923076925, 2929], [2.8181818181818183, 2941], [2.1666666666666665, 2942], [3.138888888888889, 2944], [3.6666666666666665, 2946], [3.1025641025641026, 2947], [2.972972972972973, 2948], [3.08, 2949], [1.8, 2950], [3.1923076923076925, 2951], [2.9285714285714284, 2952], [1.794871794871795, 2953], [2.3333333333333335, 2956], [3.6339285714285716, 2959], [2.375, 2961], [3.769230769230769, 2966], [2.9508196721311477, 2968], [2.8333333333333335, 2971], [3.588235294117647, 2973], [2.9166666666666665, 2975], [2.6842105263157894, 2976], [2.3636363636363638, 2978], [2.7971014492753623, 2985], [1.7258064516129032, 2986], [2.9292929292929295, 2987], [2.68, 2989], [2.2916666666666665, 2990], [2.75, 2991], [3.0, 2993], [1.775, 2995], [3.6923076923076925, 2997], [3.8636363636363638, 3000], [1.96875, 3004], [2.753846153846154, 3005], [3.6578947368421053, 3006], [3.2666666666666666, 3007], [2.5238095238095237, 3016], [2.857142857142857, 3018], [3.2777777777777777, 3019], [2.7555555555555555, 3020], [3.357142857142857, 3022], [1.6363636363636365, 3024], [2.6470588235294117, 3029], [3.6923076923076925, 3030], [2.3125, 3032], [2.5538461538461537, 3033], [2.3333333333333335, 3034], [2.789473684210526, 3035], [2.1, 3036], [3.3529411764705883, 3037], [3.0851063829787235, 3039], [2.4166666666666665, 3040], [3.2580645161290325, 3044], [2.3, 3051], [3.3098591549295775, 3052], [2.176470588235294, 3053], [1.5, 3054], [2.9393939393939394, 3060], [3.130434782608696, 3062], [2.25, 3063], [2.8333333333333335, 3066], [3.25, 3067], [2.9444444444444446, 3068], [2.6578947368421053, 3070], [3.0, 3071], [2.9583333333333335, 3072], [3.1, 3074], [2.769230769230769, 3078], [3.0609756097560976, 3081], [2.485294117647059, 3082], [3.6842105263157894, 3083], [2.7714285714285714, 3087], [3.230769230769231, 3088], [3.75, 3089], [3.0833333333333335, 3091], [2.9310344827586206, 3095], [3.1515151515151514, 3098], [2.3846153846153846, 3099], [3.085714285714286, 3100], [2.8222222222222224, 3101], [2.933333333333333, 3102], [2.925, 3104], [3.076923076923077, 3105], [2.723076923076923, 3107], [3.1379310344827585, 3108], [2.9, 3111], [2.0, 3113], [3.36046511627907, 3114], [2.8461538461538463, 3115], [2.4285714285714284, 3120], [3.3333333333333335, 3125], [3.5217391304347827, 3129], [3.9166666666666665, 3134], [2.7857142857142856, 3145], [2.4146341463414633, 3146], [3.4216867469879517, 3147], [3.5405405405405403, 3148], [3.533333333333333, 3152], [2.933333333333333, 3153], [2.5, 3155], [2.081081081081081, 3156], [2.235294117647059, 3157], [3.1875, 3159], [3.506849315068493, 3160], [3.769230769230769, 3163], [1.9, 3165], [3.0454545454545454, 3168], [3.0, 3169], [2.6739130434782608, 3173], [3.05, 3174], [3.0816326530612246, 3175], [3.031578947368421, 3176], [2.24, 3177], [3.3333333333333335, 3178], [3.107142857142857, 3179], [3.357142857142857, 3181], [2.9285714285714284, 3185], [2.9655172413793105, 3186], [3.238095238095238, 3189], [2.0526315789473686, 3190], [2.933333333333333, 3194], [2.8666666666666667, 3196], [2.375, 3197], [3.3076923076923075, 3198], [3.272727272727273, 3200], [3.3333333333333335, 3201], [3.0555555555555554, 3203], [2.130434782608696, 3208], [3.2142857142857144, 3210], [2.6842105263157894, 3213], [2.6, 3219], [2.7058823529411766, 3225], [1.825, 3238], [1.8823529411764706, 3243], [3.1785714285714284, 3246], [2.3333333333333335, 3247], [1.9696969696969697, 3248], [2.2666666666666666, 3249], [2.909090909090909, 3250], [2.3333333333333335, 3251], [3.189189189189189, 3252], [3.0533333333333332, 3253], [2.0652173913043477, 3254], [3.142857142857143, 3255], [3.0153846153846153, 3256], [2.0161290322580645, 3257], [2.0344827586206895, 3258], [2.566666666666667, 3259], [2.6666666666666665, 3260], [2.9411764705882355, 3261], [2.230769230769231, 3262], [2.619047619047619, 3263], [2.3541666666666665, 3264], [3.3636363636363638, 3265], [3.2666666666666666, 3266], [3.1025641025641026, 3267], [1.4166666666666667, 3268], [2.1142857142857143, 3269], [2.1538461538461537, 3270], [3.2580645161290325, 3271], [2.4, 3272], [2.125, 3273], [2.0952380952380953, 3274], [2.3207547169811322, 3285], [1.9411764705882353, 3286], [1.7058823529411764, 3287], [3.0833333333333335, 3296], [2.9193548387096775, 3298], [1.6666666666666667, 3299], [2.732142857142857, 3300], [2.795918367346939, 3301], [3.3846153846153846, 3307], [2.3333333333333335, 3308], [2.4166666666666665, 3316], [3.4285714285714284, 3317], [2.25, 3324], [1.4583333333333333, 3325], [2.5625, 3326], [2.75, 3327], [3.0454545454545454, 3328], [3.526315789473684, 3334], [3.3846153846153846, 3342], [3.3333333333333335, 3347], [2.1272727272727274, 3354], [2.066666666666667, 3355], [3.1, 3358], [3.130434782608696, 3359], [3.5, 3360], [3.0434782608695654, 3361], [3.4358974358974357, 3362], [3.2045454545454546, 3363], [2.933333333333333, 3365], [3.0833333333333335, 3366], [2.5, 3384], [3.0681818181818183, 3386], [2.0, 3387], [2.04, 3388], [1.9285714285714286, 3392], [1.9473684210526316, 3394], [3.1136363636363638, 3396], [3.0, 3397], [2.8214285714285716, 3398], [2.272727272727273, 3399], [1.5454545454545454, 3401], [2.0714285714285716, 3404], [3.2808988764044944, 3408], [2.5961538461538463, 3409], [2.3333333333333335, 3412], [2.8275862068965516, 3418], [3.142857142857143, 3420], [3.290909090909091, 3421], [3.3, 3422], [3.1951219512195124, 3424], [2.6666666666666665, 3425], [2.4761904761904763, 3426], [3.6666666666666665, 3429], [2.2941176470588234, 3430], [1.8333333333333333, 3431], [1.7272727272727273, 3432], [3.95, 3435], [2.3125, 3436], [1.8867924528301887, 3438], [1.3928571428571428, 3439], [1.3076923076923077, 3440], [2.757575757575758, 3441], [2.6315789473684212, 3444], [2.4545454545454546, 3445], [3.03125, 3448], [2.8378378378378377, 3450], [3.25, 3451], [2.5833333333333335, 3452], [2.0833333333333335, 3453], [2.5555555555555554, 3457], [2.6818181818181817, 3461], [3.3846153846153846, 3462], [2.7, 3466], [2.7142857142857144, 3467], [3.5294117647058822, 3468], [3.1, 3469], [3.246376811594203, 3471], [3.0943396226415096, 3476], [2.3513513513513513, 3477], [2.642857142857143, 3478], [3.0, 3479], [3.49438202247191, 3481], [2.466666666666667, 3483], [2.5277777777777777, 3484], [2.16, 3489], [2.857142857142857, 3494], [1.9166666666666667, 3497], [3.2142857142857144, 3498], [3.074074074074074, 3499], [2.3076923076923075, 3500], [2.611111111111111, 3501], [2.8461538461538463, 3503], [3.0689655172413794, 3504], [2.96, 3505], [3.25, 3506], [3.4285714285714284, 3507], [3.142857142857143, 3508], [2.0, 3509], [2.945945945945946, 3510], [1.9333333333333333, 3511], [3.121212121212121, 3512], [2.810810810810811, 3513], [2.4166666666666665, 3515], [3.3333333333333335, 3516], [2.6, 3519], [3.3076923076923075, 3521], [2.242424242424242, 3524], [2.25, 3525], [2.9069767441860463, 3526], [3.0, 3527], [2.5, 3528], [2.5416666666666665, 3534], [2.8095238095238093, 3535], [3.081081081081081, 3536], [3.142857142857143, 3543], [2.9473684210526314, 3545], [2.8823529411764706, 3546], [3.076923076923077, 3548], [2.9, 3549], [2.4166666666666665, 3550], [3.15, 3551], [2.938775510204082, 3552], [2.5, 3553], [2.3333333333333335, 3554], [3.073529411764706, 3555], [3.0, 3556], [2.2666666666666666, 3557], [1.2105263157894737, 3564], [2.4545454545454546, 3565], [2.6451612903225805, 3566], [3.1052631578947367, 3576], [3.5901639344262297, 3578], [2.5384615384615383, 3584], [2.477272727272727, 3591], [1.435897435897436, 3593], [2.7142857142857144, 3594], [2.2777777777777777, 3598], [2.5, 3608], [2.575, 3614], [2.4193548387096775, 3615], [2.1818181818181817, 3616], [2.717948717948718, 3617], [2.9642857142857144, 3618], [2.481132075471698, 3623], [2.9545454545454546, 3624], [2.2, 3628], [3.5625, 3629], [2.5, 3633], [2.5652173913043477, 3635], [2.4047619047619047, 3638], [2.9047619047619047, 3639], [2.6, 3646], [2.4210526315789473, 3649], [3.0, 3654], [2.0625, 3660], [1.8333333333333333, 3661], [1.7857142857142858, 3662], [1.8, 3664], [1.4, 3669], [3.1702127659574466, 3671], [1.8, 3672], [3.375, 3675], [2.857142857142857, 3681], [3.7241379310344827, 3683], [2.8260869565217392, 3684], [2.857142857142857, 3685], [2.5172413793103448, 3686], [1.9615384615384615, 3688], [1.8333333333333333, 3690], [1.875, 3693], [2.236111111111111, 3697], [2.5689655172413794, 3698], [2.5531914893617023, 3699], [2.2142857142857144, 3700], [2.4871794871794872, 3701], [2.9310344827586206, 3702], [2.8518518518518516, 3703], [2.7, 3704], [1.7674418604651163, 3705], [2.625, 3706], [2.2857142857142856, 3707], [2.36, 3708], [1.75, 3709], [1.5416666666666667, 3710], [2.3333333333333335, 3712], [2.389830508474576, 3717], [2.8461538461538463, 3718], [2.5833333333333335, 3719], [3.185185185185185, 3723], [2.8, 3724], [3.1818181818181817, 3727], [3.272727272727273, 3728], [2.5, 3729], [4.0, 3730], [3.125, 3733], [3.4444444444444446, 3735], [2.7567567567567566, 3740], [3.8, 3741], [3.4285714285714284, 3742], [2.0, 3743], [3.0, 3744], [2.977272727272727, 3745], [2.6, 3746], [3.1818181818181817, 3747], [3.2794117647058822, 3751], [2.493150684931507, 3752], [3.1443298969072164, 3753], [1.8125, 3754], [2.8666666666666667, 3755], [2.111111111111111, 3758], [2.652173913043478, 3760], [2.7777777777777777, 3763], [2.033333333333333, 3764], [1.5909090909090908, 3766], [1.5, 3767], [1.5384615384615385, 3768], [2.9166666666666665, 3769], [2.64, 3770], [2.388888888888889, 3773], [1.6428571428571428, 3774], [3.857142857142857, 3783], [2.0588235294117645, 3784], [2.725806451612903, 3785], [3.1, 3786], [2.0, 3791], [3.2523364485981308, 3793], [2.3636363636363638, 3794], [2.8666666666666667, 3798], [1.0714285714285714, 3799], [3.5, 3801], [1.7619047619047619, 3802], [2.9714285714285715, 3809], [3.5714285714285716, 3811], [2.9473684210526314, 3812], [3.1538461538461537, 3814], [3.5625, 3819], [2.08, 3821], [1.4285714285714286, 3824], [2.4545454545454546, 3825], [2.1914893617021276, 3826], [2.870967741935484, 3827], [3.0, 3831], [2.0, 3834], [2.0555555555555554, 3835], [3.4782608695652173, 3836], [2.35, 3840], [2.0588235294117645, 3841], [2.764705882352941, 3844], [2.857142857142857, 3846], [3.875, 3852], [2.772727272727273, 3861], [2.789473684210526, 3863], [1.8636363636363635, 3864], [2.8333333333333335, 3865], [2.980769230769231, 3868], [2.3684210526315788, 3869], [2.6363636363636362, 3871], [2.2, 3873], [1.6923076923076923, 3877], [2.210526315789474, 3879], [2.8461538461538463, 3882], [1.75, 3889], [2.8974358974358974, 3893], [3.0, 3896], [3.8392857142857144, 3897], [1.8571428571428572, 3901], [1.7894736842105263, 3908], [3.04, 3910], [3.6153846153846154, 3911], [2.15, 3915], [3.0232558139534884, 3916], [2.4285714285714284, 3917], [2.642857142857143, 3918], [1.8571428571428572, 3923], [3.230769230769231, 3925], [2.8421052631578947, 3927], [2.8125, 3928], [3.1, 3929], [1.9230769230769231, 3930], [2.9523809523809526, 3932], [2.7142857142857144, 3937], [2.5625, 3943], [1.5, 3945], [2.3333333333333335, 3946], [3.328767123287671, 3948], [4.0, 3949], [3.064516129032258, 3952]]\n"
     ]
    }
   ],
   "source": [
    "print(result_list)"
   ]
  },
  {
   "cell_type": "code",
   "execution_count": 49,
   "id": "ec10cf66",
   "metadata": {},
   "outputs": [
    {
     "name": "stdout",
     "output_type": "stream",
     "text": [
      "[[4.190476190476191, 745], [4.173913043478261, 922], [4.170212765957447, 318], [4.141025641025641, 50], [4.071428571428571, 1223], [4.054054054054054, 923], [4.042105263157895, 858], [4.0, 307], [4.0, 3730], [4.0, 3949], [3.989795918367347, 296], [3.980392156862745, 2692], [3.976923076923077, 2762], [3.972972972972973, 1148], [3.9545454545454546, 1449], [3.95, 3435], [3.9473684210526314, 1260], [3.943127962085308, 2858], [3.9302325581395348, 1199], [3.9166666666666665, 1244], [3.9166666666666665, 3134], [3.896551724137931, 899], [3.882978723404255, 1193], [3.8823529411764706, 306], [3.8793103448275863, 750], [3.8773584905660377, 1198], [3.875, 3852], [3.8666666666666667, 1300], [3.8636363636363638, 3000], [3.863013698630137, 1213], [3.857142857142857, 1284], [3.857142857142857, 3783], [3.8518518518518516, 1221], [3.8448275862068964, 527], [3.8421052631578947, 1041], [3.8392857142857144, 3897], [3.8333333333333335, 1176], [3.8333333333333335, 2575], [3.8285714285714287, 1262], [3.82, 1252], [3.8095238095238093, 1212], [3.8, 1172], [3.8, 3741], [3.7954545454545454, 2324], [3.7906976744186047, 904], [3.7857142857142856, 1147], [3.7846153846153845, 1136], [3.769230769230769, 2966], [3.769230769230769, 3163], [3.766990291262136, 223], [3.762237762237762, 2028], [3.753846153846154, 260], [3.75, 1228], [3.75, 2019], [3.75, 3089], [3.7413793103448274, 908], [3.7333333333333334, 2071], [3.7288135593220337, 1219], [3.7241379310344827, 3683], [3.723404255319149, 110], [3.7222222222222223, 942], [3.7222222222222223, 1206], [3.717391304347826, 2329], [3.7142857142857144, 678], [3.7142857142857144, 741], [3.7142857142857144, 1084], [3.7142857142857144, 2729], [3.7049180327868854, 1258], [3.7037037037037037, 1242], [3.7, 2859], [3.696969696969697, 1222], [3.6951219512195124, 541], [3.6923076923076925, 2336], [3.6923076923076925, 2997], [3.6923076923076925, 3030], [3.6842105263157894, 720], [3.6842105263157894, 3083], [3.6774193548387095, 246], [3.676470588235294, 608], [3.676470588235294, 1089], [3.675, 1234], [3.6666666666666665, 29], [3.6666666666666665, 913], [3.6666666666666665, 954], [3.6666666666666665, 1267], [3.6666666666666665, 2946], [3.6666666666666665, 3429], [3.6578947368421053, 3006], [3.6458333333333335, 2599], [3.64, 1247], [3.638888888888889, 910], [3.6363636363636362, 446], [3.6363636363636362, 1273], [3.6339285714285716, 2959], [3.6296296296296298, 1225], [3.6262626262626263, 1197], [3.6206896551724137, 58], [3.619047619047619, 930], [3.6153846153846154, 1251], [3.6153846153846154, 1927], [3.6153846153846154, 3911], [3.611111111111111, 951], [3.611111111111111, 1719], [3.6090225563909772, 1196], [3.608695652173913, 1997], [3.607594936708861, 1704], [3.6065573770491803, 1625], [3.606060606060606, 497], [3.6, 994], [3.6, 1066], [3.6, 1083], [3.6, 1875], [3.596774193548387, 1358], [3.595959595959596, 1240], [3.595744680851064, 555], [3.59375, 47], [3.590909090909091, 2788], [3.5901639344262297, 3578], [3.588235294117647, 538], [3.588235294117647, 2973], [3.5853658536585367, 2289], [3.5851063829787235, 1200], [3.5833333333333335, 314], [3.5833333333333335, 1446], [3.5714285714285716, 1189], [3.5714285714285716, 1305], [3.5714285714285716, 3811], [3.564516129032258, 111], [3.5625, 308], [3.5625, 3629], [3.5625, 3819], [3.5609756097560976, 1921], [3.55, 1243], [3.55, 2908], [3.5454545454545454, 1949], [3.5454545454545454, 2677], [3.5405405405405403, 3148], [3.5396825396825395, 2804], [3.5384615384615383, 778], [3.5384615384615383, 1387], [3.5384615384615383, 2068], [3.5384615384615383, 2208], [3.5342465753424657, 2918], [3.533333333333333, 1207], [3.533333333333333, 3152], [3.5294117647058822, 3468], [3.5285714285714285, 589], [3.526315789473684, 3334], [3.5238095238095237, 1245], [3.5217391304347827, 3129], [3.515151515151515, 2064], [3.5128205128205128, 903], [3.506849315068493, 3160], [3.505050505050505, 457], [3.5, 69], [3.5, 232], [3.5, 912], [3.5, 1095], [3.5, 1132], [3.5, 1211], [3.5, 1288], [3.5, 1411], [3.5, 1952], [3.5, 2359], [3.5, 2624], [3.5, 3360], [3.5, 3801], [3.49438202247191, 3481], [3.493827160493827, 924], [3.491228070175439, 1265], [3.4878048780487805, 1249], [3.4864864864864864, 1291], [3.4835164835164836, 32], [3.4782608695652173, 3836], [3.4705882352941178, 1237], [3.4705882352941178, 1259], [3.4693877551020407, 1617], [3.466666666666667, 1090], [3.466666666666667, 1274], [3.466666666666667, 2442], [3.4655172413793105, 1208], [3.4642857142857144, 1230], [3.4642857142857144, 2020], [3.4615384615384617, 28], [3.4615384615384617, 905], [3.4615384615384617, 945], [3.4615384615384617, 1050], [3.4615384615384617, 1233], [3.4615384615384617, 2313], [3.4615384615384617, 2726], [3.4571428571428573, 265], [3.4565217391304346, 1250], [3.4545454545454546, 1080], [3.45, 2396], [3.4444444444444446, 1104], [3.4444444444444446, 1884], [3.4444444444444446, 3735], [3.4375, 1218], [3.4375, 1266], [3.4363636363636365, 293], [3.4361702127659575, 1214], [3.4358974358974357, 3362], [3.4347826086956523, 1293], [3.4347826086956523, 2728], [3.4339622641509435, 2194], [3.4285714285714284, 714], [3.4285714285714284, 1272], [3.4285714285714284, 2203], [3.4285714285714284, 3317], [3.4285714285714284, 3507], [3.4285714285714284, 3742], [3.427480916030534, 356], [3.4216867469879517, 3147], [3.4210526315789473, 1036], [3.4201680672268906, 1], [3.4166666666666665, 1680], [3.413793103448276, 247], [3.411764705882353, 915], [3.411764705882353, 1304], [3.411764705882353, 1537], [3.41025641025641, 1269], [3.4029850746268657, 1408], [3.4, 123], [3.4, 319], [3.4, 1082], [3.4, 1302], [3.3956043956043955, 2395], [3.391304347826087, 1246], [3.3902439024390243, 1276], [3.388888888888889, 17], [3.3846153846153846, 2076], [3.3846153846153846, 3307], [3.3846153846153846, 3342], [3.3846153846153846, 3462], [3.382978723404255, 441], [3.381818181818182, 1394], [3.380952380952381, 322], [3.380281690140845, 1393], [3.375, 1635], [3.375, 1639], [3.375, 3675], [3.3636363636363638, 492], [3.3636363636363638, 838], [3.3636363636363638, 1279], [3.3636363636363638, 2176], [3.3636363636363638, 3265], [3.361111111111111, 2912], [3.36046511627907, 3114], [3.358490566037736, 235], [3.357142857142857, 950], [3.357142857142857, 3022], [3.357142857142857, 3181], [3.3529411764705883, 1982], [3.3529411764705883, 2580], [3.3529411764705883, 3037], [3.3513513513513513, 1188], [3.35, 2160], [3.3492063492063493, 474], [3.347826086956522, 2791], [3.3461538461538463, 1956], [3.3392857142857144, 1278], [3.3384615384615386, 1307], [3.3333333333333335, 233], [3.3333333333333335, 1263], [3.3333333333333335, 1954], [3.3333333333333335, 2390], [3.3333333333333335, 2745], [3.3333333333333335, 3125], [3.3333333333333335, 3178], [3.3333333333333335, 3201], [3.3333333333333335, 3347], [3.3333333333333335, 3516], [3.328767123287671, 3948], [3.328358208955224, 1682], [3.3278688524590163, 6], [3.3255813953488373, 300], [3.3255813953488373, 2542], [3.325, 1285], [3.3181818181818183, 1224], [3.3157894736842106, 1299], [3.3157894736842106, 1945], [3.3146067415730336, 1784], [3.3142857142857145, 1179], [3.3125, 1348], [3.310344827586207, 1257], [3.3098591549295775, 3052], [3.3076923076923075, 1171], [3.3076923076923075, 1248], [3.3076923076923075, 1964], [3.3076923076923075, 2870], [3.3076923076923075, 3198], [3.3076923076923075, 3521], [3.3055555555555554, 2321], [3.3043478260869565, 955], [3.3, 1961], [3.3, 2310], [3.3, 3422], [3.2972972972972974, 953], [3.295774647887324, 1374], [3.2954545454545454, 529], [3.2941176470588234, 515], [3.2941176470588234, 1873], [3.290909090909091, 3421], [3.2903225806451615, 440], [3.2903225806451615, 1678], [3.289473684210526, 1201], [3.2892561983471076, 2716], [3.2857142857142856, 2303], [3.2857142857142856, 2924], [3.2808988764044944, 3408], [3.28, 898], [3.2794117647058822, 1641], [3.2794117647058822, 3751], [3.2777777777777777, 1077], [3.2777777777777777, 3019], [3.276595744680851, 1923], [3.2758620689655173, 2318], [3.272727272727273, 1204], [3.272727272727273, 3200], [3.272727272727273, 3728], [3.269230769230769, 2501], [3.2666666666666666, 1732], [3.2666666666666666, 1834], [3.2666666666666666, 3007], [3.2666666666666666, 3266], [3.264367816091954, 1968], [3.263157894736842, 101], [3.263157894736842, 1235], [3.263157894736842, 1254], [3.263157894736842, 2206], [3.261904761904762, 866], [3.2615384615384615, 1500], [3.259259259259259, 2300], [3.2580645161290325, 3044], [3.2580645161290325, 3271], [3.257142857142857, 2333], [3.25531914893617, 2700], [3.2523364485981308, 3793], [3.25, 16], [3.25, 916], [3.25, 1086], [3.25, 1594], [3.25, 1963], [3.25, 1966], [3.25, 2819], [3.25, 2871], [3.25, 3067], [3.25, 3451], [3.25, 3506], [3.246376811594203, 3471], [3.2419354838709675, 1270], [3.24, 2186], [3.239130434782609, 1060], [3.238095238095238, 162], [3.238095238095238, 1096], [3.238095238095238, 2502], [3.238095238095238, 3189], [3.2363636363636363, 1912], [3.235294117647059, 222], [3.235294117647059, 1950], [3.235294117647059, 2750], [3.2338709677419355, 2706], [3.2325581395348837, 36], [3.2325581395348837, 902], [3.230769230769231, 1343], [3.230769230769231, 2070], [3.230769230769231, 2248], [3.230769230769231, 3088], [3.230769230769231, 3925], [3.2142857142857144, 94], [3.2142857142857144, 194], [3.2142857142857144, 1034], [3.2142857142857144, 2348], [3.2142857142857144, 3210], [3.2142857142857144, 3498], [3.212121212121212, 508], [3.212121212121212, 2795], [3.210526315789474, 41], [3.210526315789474, 1840], [3.2096774193548385, 2268], [3.206896551724138, 1962], [3.205607476635514, 1127], [3.2051282051282053, 2686], [3.2045454545454546, 3363], [3.2033898305084745, 1094], [3.2, 180], [3.2, 272], [3.2, 851], [3.2, 928], [3.2, 1178], [3.2, 1217], [3.2, 1256], [3.2, 1277], [3.2, 1281], [3.2, 1344], [3.2, 1824], [3.2, 2439], [3.2, 2596], [3.19672131147541, 150], [3.1951219512195124, 3424], [3.193548387096774, 969], [3.1923076923076925, 2951], [3.1904761904761907, 1810], [3.1904761904761907, 2398], [3.189189189189189, 3252], [3.1875, 1194], [3.1875, 3159], [3.1868131868131866, 1610], [3.185185185185185, 914], [3.185185185185185, 3723], [3.1818181818181817, 475], [3.1818181818181817, 535], [3.1818181818181817, 2391], [3.1818181818181817, 2731], [3.1818181818181817, 2879], [3.1818181818181817, 3727], [3.1818181818181817, 3747], [3.1785714285714284, 3246], [3.176470588235294, 926], [3.1724137931034484, 2648], [3.1702127659574466, 3671], [3.1666666666666665, 358], [3.1666666666666665, 671], [3.1666666666666665, 971], [3.1666666666666665, 1073], [3.1666666666666665, 2117], [3.1666666666666665, 2443], [3.163265306122449, 1674], [3.1627906976744184, 2109], [3.16, 1078], [3.158273381294964, 1210], [3.1551724137931036, 1079], [3.1538461538461537, 176], [3.1538461538461537, 965], [3.1538461538461537, 1683], [3.1538461538461537, 2654], [3.1538461538461537, 3814], [3.1515151515151514, 3098], [3.15, 1748], [3.15, 3551], [3.1492537313432836, 104], [3.1443298969072164, 3753], [3.142857142857143, 147], [3.142857142857143, 373], [3.142857142857143, 428], [3.142857142857143, 534], [3.142857142857143, 1916], [3.142857142857143, 3255], [3.142857142857143, 3420], [3.142857142857143, 3508], [3.142857142857143, 3543], [3.138888888888889, 1960], [3.138888888888889, 2944], [3.1379310344827585, 1231], [3.1379310344827585, 3108], [3.1343283582089554, 357], [3.1333333333333333, 2583], [3.130434782608696, 1185], [3.130434782608696, 3062], [3.130434782608696, 3359], [3.125, 471], [3.125, 931], [3.125, 1295], [3.125, 1354], [3.125, 3733], [3.121212121212121, 3512], [3.1176470588235294, 1175], [3.1176470588235294, 1648], [3.1142857142857143, 562], [3.1136363636363638, 25], [3.1136363636363638, 3396], [3.108108108108108, 1275], [3.107142857142857, 3179], [3.1052631578947367, 663], [3.1052631578947367, 900], [3.1052631578947367, 1673], [3.1052631578947367, 2150], [3.1052631578947367, 3576], [3.1025641025641026, 1953], [3.1025641025641026, 2947], [3.1025641025641026, 3267], [3.1012658227848102, 919], [3.1, 340], [3.1, 506], [3.1, 524], [3.1, 581], [3.1, 1190], [3.1, 1660], [3.1, 2182], [3.1, 3074], [3.1, 3358], [3.1, 3469], [3.1, 3786], [3.1, 3929], [3.0952380952380953, 2138], [3.0952380952380953, 2739], [3.0943396226415096, 3476], [3.090909090909091, 2290], [3.090909090909091, 2863], [3.085714285714286, 1287], [3.085714285714286, 3100], [3.0851063829787235, 3039], [3.0833333333333335, 1203], [3.0833333333333335, 1747], [3.0833333333333335, 2139], [3.0833333333333335, 3091], [3.0833333333333335, 3296], [3.0833333333333335, 3366], [3.0816326530612246, 3175], [3.081081081081081, 3536], [3.08, 2949], [3.076923076923077, 728], [3.076923076923077, 911], [3.076923076923077, 1264], [3.076923076923077, 1333], [3.076923076923077, 3105], [3.076923076923077, 3548], [3.074074074074074, 1672], [3.074074074074074, 3499], [3.073529411764706, 3555], [3.073170731707317, 1466], [3.0714285714285716, 991], [3.0714285714285716, 2355], [3.0707070707070705, 1527], [3.0689655172413794, 514], [3.0689655172413794, 1350], [3.0689655172413794, 3504], [3.0681818181818183, 3386], [3.066666666666667, 2140], [3.064516129032258, 3952], [3.0625, 345], [3.0625, 482], [3.0625, 1253], [3.0609756097560976, 3081], [3.0588235294117645, 1580], [3.0588235294117645, 2130], [3.0555555555555554, 1994], [3.0555555555555554, 3203], [3.0547945205479454, 1909], [3.054054054054054, 1120], [3.054054054054054, 1947], [3.0533333333333332, 3253], [3.0526315789473686, 1321], [3.05, 2010], [3.05, 3174], [3.0476190476190474, 999], [3.0454545454545454, 1753], [3.0454545454545454, 3168], [3.0454545454545454, 3328], [3.0441176470588234, 2890], [3.0434782608695654, 2232], [3.0434782608695654, 3361], [3.0416666666666665, 164], [3.04, 2917], [3.04, 3910], [3.0392156862745097, 2108], [3.0392156862745097, 2115], [3.0384615384615383, 968], [3.0372670807453415, 480], [3.0357142857142856, 144], [3.0357142857142856, 481], [3.033333333333333, 800], [3.033333333333333, 1957], [3.031578947368421, 3176], [3.03125, 3448], [3.029850746268657, 1396], [3.0294117647058822, 628], [3.0285714285714285, 1345], [3.027027027027027, 1653], [3.026666666666667, 590], [3.024390243902439, 1476], [3.024390243902439, 2000], [3.023529411764706, 1517], [3.0232558139534884, 3916], [3.021276595744681, 1294], [3.020618556701031, 34], [3.0172413793103448, 11], [3.0153846153846153, 3256], [3.0136986301369864, 1407], [3.0, 26], [3.0, 52], [3.0, 175], [3.0, 249], [3.0, 339], [3.0, 348], [3.0, 539], [3.0, 551], [3.0, 599], [3.0, 627], [3.0, 920], [3.0, 921], [3.0, 933], [3.0, 1051], [3.0, 1069], [3.0, 1173], [3.0, 1209], [3.0, 1227], [3.0, 1238], [3.0, 1414], [3.0, 1584], [3.0, 1611], [3.0, 1663], [3.0, 1693], [3.0, 1897], [3.0, 2013], [3.0, 2067], [3.0, 2083], [3.0, 2159], [3.0, 2236], [3.0, 2352], [3.0, 2403], [3.0, 2693], [3.0, 2734], [3.0, 2866], [3.0, 2919], [3.0, 2993], [3.0, 3071], [3.0, 3169], [3.0, 3397], [3.0, 3479], [3.0, 3527], [3.0, 3556], [3.0, 3654], [3.0, 3744], [3.0, 3831], [3.0, 3896], [2.986666666666667, 1777], [2.9838709677419355, 2058], [2.9836065573770494, 1220], [2.9814814814814814, 2671], [2.981132075471698, 1729], [2.980769230769231, 3868], [2.980392156862745, 2288], [2.9782608695652173, 1035], [2.977272727272727, 3745], [2.9753086419753085, 1356], [2.975, 1967], [2.973684210526316, 2423], [2.973684210526316, 2761], [2.972972972972973, 337], [2.972972972972973, 2948], [2.9714285714285715, 1885], [2.9714285714285715, 3809], [2.970149253731343, 1215], [2.967032967032967, 2291], [2.9655172413793105, 3186], [2.9642857142857144, 3618], [2.962962962962963, 342], [2.9615384615384617, 1357], [2.9603174603174605, 2683], [2.96, 1298], [2.96, 2690], [2.96, 3505], [2.9583333333333335, 2282], [2.9583333333333335, 3072], [2.9565217391304346, 125], [2.9565217391304346, 1955], [2.9565217391304346, 2406], [2.9555555555555557, 161], [2.9545454545454546, 280], [2.9545454545454546, 3624], [2.9523809523809526, 3932], [2.9508196721311477, 253], [2.9508196721311477, 2968], [2.95, 62], [2.9491525423728815, 2916], [2.9473684210526314, 1914], [2.9473684210526314, 3545], [2.9473684210526314, 3812], [2.945945945945946, 3510], [2.9444444444444446, 412], [2.9444444444444446, 3068], [2.943396226415094, 2278], [2.9411764705882355, 2171], [2.9411764705882355, 3261], [2.9393939393939394, 431], [2.9393939393939394, 3060], [2.938775510204082, 3552], [2.9375, 1959], [2.9375, 2433], [2.9347826086956523, 1805], [2.933333333333333, 1093], [2.933333333333333, 1730], [2.933333333333333, 3102], [2.933333333333333, 3153], [2.933333333333333, 3194], [2.933333333333333, 3365], [2.9324324324324325, 785], [2.9315068493150687, 349], [2.9310344827586206, 3095], [2.9310344827586206, 3702], [2.9292929292929295, 2987], [2.9285714285714284, 507], [2.9285714285714284, 906], [2.9285714285714284, 1099], [2.9285714285714284, 1297], [2.9285714285714284, 2467], [2.9285714285714284, 2952], [2.9285714285714284, 3185], [2.926470588235294, 2490], [2.925, 3104], [2.923076923076923, 73], [2.923076923076923, 1282], [2.923076923076923, 2779], [2.9193548387096775, 3298], [2.9166666666666665, 1271], [2.9166666666666665, 1416], [2.9166666666666665, 2065], [2.9166666666666665, 2312], [2.9166666666666665, 2361], [2.9166666666666665, 2664], [2.9166666666666665, 2975], [2.9166666666666665, 3769], [2.9152542372881354, 1097], [2.913793103448276, 1028], [2.909090909090909, 918], [2.909090909090909, 1296], [2.909090909090909, 1392], [2.909090909090909, 1399], [2.909090909090909, 2137], [2.909090909090909, 2212], [2.909090909090909, 3250], [2.9069767441860463, 592], [2.9069767441860463, 3526], [2.9047619047619047, 2110], [2.9047619047619047, 2144], [2.9047619047619047, 2763], [2.9047619047619047, 3639], [2.902439024390244, 151], [2.9, 290], [2.9, 1103], [2.9, 1649], [2.9, 1965], [2.9, 3111], [2.9, 3549], [2.8983050847457625, 1569], [2.8974358974358974, 3893], [2.8958333333333335, 380], [2.895348837209302, 39], [2.8947368421052633, 1429], [2.893939393939394, 597], [2.892857142857143, 1129], [2.888888888888889, 112], [2.888888888888889, 1186], [2.888888888888889, 1283], [2.888888888888889, 1464], [2.888888888888889, 2078], [2.8857142857142857, 45], [2.8857142857142857, 252], [2.8857142857142857, 377], [2.8846153846153846, 1485], [2.8823529411764706, 1944], [2.8823529411764706, 3546], [2.880952380952381, 610], [2.878787878787879, 805], [2.8780487804878048, 216], [2.875, 2097], [2.875, 2427], [2.875, 2764], [2.871794871794872, 2302], [2.870967741935484, 3827], [2.8666666666666667, 289], [2.8666666666666667, 909], [2.8666666666666667, 3196], [2.8666666666666667, 3755], [2.8666666666666667, 3798], [2.864864864864865, 2600], [2.8636363636363638, 1292], [2.861111111111111, 2572], [2.857142857142857, 2231], [2.857142857142857, 3018], [2.857142857142857, 3494], [2.857142857142857, 3681], [2.857142857142857, 3685], [2.857142857142857, 3846], [2.8548387096774195, 2707], [2.8536585365853657, 2915], [2.8518518518518516, 3703], [2.8507462686567164, 10], [2.85, 2644], [2.8484848484848486, 2463], [2.8472222222222223, 1608], [2.8461538461538463, 1694], [2.8461538461538463, 3115], [2.8461538461538463, 3503], [2.8461538461538463, 3718], [2.8461538461538463, 3882], [2.842857142857143, 364], [2.8421052631578947, 2114], [2.8421052631578947, 3927], [2.8392857142857144, 2105], [2.838709677419355, 2872], [2.8378378378378377, 3450], [2.8375, 2797], [2.8358208955223883, 2167], [2.835616438356164, 2353], [2.8333333333333335, 477], [2.8333333333333335, 733], [2.8333333333333335, 1289], [2.8333333333333335, 1465], [2.8333333333333335, 2560], [2.8333333333333335, 2971], [2.8333333333333335, 3066], [2.8333333333333335, 3865], [2.8292682926829267, 2712], [2.8285714285714287, 2622], [2.8275862068965516, 3418], [2.8260869565217392, 2006], [2.8260869565217392, 3684], [2.825, 1261], [2.823529411764706, 465], [2.8222222222222224, 3101], [2.8214285714285716, 3398], [2.8210526315789473, 588], [2.82, 141], [2.8181818181818183, 14], [2.8181818181818183, 43], [2.8181818181818183, 262], [2.8181818181818183, 932], [2.8181818181818183, 1187], [2.8181818181818183, 1941], [2.8181818181818183, 2941], [2.816326530612245, 1883], [2.814814814814815, 2118], [2.8125, 368], [2.8125, 522], [2.8125, 2195], [2.8125, 2891], [2.8125, 3928], [2.810810810810811, 3513], [2.8105263157894735, 21], [2.8095238095238093, 3535], [2.8076923076923075, 1057], [2.8076923076923075, 2687], [2.806451612903226, 595], [2.803738317757009, 2710], [2.803030303030303, 1183], [2.8, 18], [2.8, 277], [2.8, 388], [2.8, 647], [2.8, 947], [2.8, 2301], [2.8, 2475], [2.8, 2506], [2.8, 2519], [2.8, 2736], [2.8, 3724], [2.7971014492753623, 2985], [2.795918367346939, 3301], [2.7945205479452055, 2455], [2.793103448275862, 493], [2.7906976744186047, 2694], [2.789473684210526, 2633], [2.789473684210526, 3035], [2.789473684210526, 3863], [2.7868852459016393, 288], [2.7857142857142856, 1939], [2.7857142857142856, 2125], [2.7857142857142856, 2581], [2.7857142857142856, 3145], [2.783132530120482, 316], [2.782608695652174, 2340], [2.782608695652174, 2857], [2.78, 1721], [2.7777777777777777, 2474], [2.7777777777777777, 3763], [2.775, 1370], [2.7735849056603774, 1380], [2.772727272727273, 468], [2.772727272727273, 3861], [2.7714285714285714, 2662], [2.7714285714285714, 3087], [2.7704918032786887, 2529], [2.769230769230769, 574], [2.769230769230769, 1836], [2.769230769230769, 2414], [2.769230769230769, 3078], [2.764705882352941, 1130], [2.764705882352941, 2025], [2.764705882352941, 2243], [2.764705882352941, 2263], [2.764705882352941, 3844], [2.761904761904762, 225], [2.761904761904762, 1125], [2.757575757575758, 3441], [2.7567567567567566, 3740], [2.7555555555555555, 3020], [2.753846153846154, 3005], [2.75, 85], [2.75, 371], [2.75, 2021], [2.75, 2132], [2.75, 2273], [2.75, 2867], [2.75, 2991], [2.75, 3327], [2.746987951807229, 2617], [2.742857142857143, 1907], [2.7419354838709675, 553], [2.736842105263158, 2022], [2.7346938775510203, 2080], [2.7333333333333334, 724], [2.7333333333333334, 1542], [2.7333333333333334, 2551], [2.7333333333333334, 2565], [2.732142857142857, 3300], [2.7313432835820897, 2003], [2.730769230769231, 426], [2.72972972972973, 1589], [2.72972972972973, 2311], [2.72972972972973, 2384], [2.727272727272727, 7], [2.727272727272727, 1376], [2.727272727272727, 1643], [2.727272727272727, 1658], [2.727272727272727, 2112], [2.725806451612903, 3785], [2.7241379310344827, 2009], [2.723076923076923, 3107], [2.7222222222222223, 454], [2.7222222222222223, 1017], [2.7222222222222223, 1615], [2.7209302325581395, 2134], [2.717948717948718, 3617], [2.7169811320754715, 198], [2.716666666666667, 1101], [2.7142857142857144, 509], [2.7142857142857144, 1301], [2.7142857142857144, 1327], [2.7142857142857144, 1372], [2.7142857142857144, 2567], [2.7142857142857144, 2889], [2.7142857142857144, 3467], [2.7142857142857144, 3594], [2.7142857142857144, 3937], [2.710144927536232, 329], [2.7096774193548385, 2371], [2.7083333333333335, 2841], [2.7058823529411766, 1441], [2.7058823529411766, 2005], [2.7058823529411766, 3225], [2.7043478260869565, 780], [2.7037037037037037, 1845], [2.7027027027027026, 799], [2.7027027027027026, 1385], [2.7027027027027026, 2528], [2.7, 46], [2.7, 417], [2.7, 940], [2.7, 1701], [2.7, 2416], [2.7, 3466], [2.7, 3704], [2.697674418604651, 333], [2.697674418604651, 2792], [2.696969696969697, 661], [2.6956521739130435, 1785], [2.6956521739130435, 2836], [2.693877551020408, 1378], [2.6923076923076925, 63], [2.6923076923076925, 353], [2.6923076923076925, 1951], [2.6923076923076925, 2883], [2.6923076923076925, 2929], [2.6911764705882355, 1722], [2.6885245901639343, 1645], [2.6875, 86], [2.6875, 350], [2.6857142857142855, 2759], [2.685185185185185, 2366], [2.6842105263157894, 934], [2.6842105263157894, 1049], [2.6842105263157894, 2245], [2.6842105263157894, 2976], [2.6842105263157894, 3213], [2.6818181818181817, 3461], [2.6808510638297873, 2193], [2.68, 2989], [2.6774193548387095, 2772], [2.676470588235294, 1061], [2.675675675675676, 2454], [2.675, 2294], [2.6744186046511627, 1754], [2.6739130434782608, 3173], [2.673469387755102, 163], [2.6666666666666665, 700], [2.6666666666666665, 852], [2.6666666666666665, 1518], [2.6666666666666665, 1633], [2.6666666666666665, 1735], [2.6666666666666665, 2459], [2.6666666666666665, 2541], [2.6666666666666665, 2550], [2.6666666666666665, 2730], [2.6666666666666665, 3260], [2.6666666666666665, 3425], [2.6615384615384614, 2081], [2.659090909090909, 2046], [2.659090909090909, 2539], [2.658536585365854, 2394], [2.6578947368421053, 3070], [2.656862745098039, 1573], [2.656716417910448, 2100], [2.6551724137931036, 2015], [2.6551724137931036, 2447], [2.6538461538461537, 1092], [2.652173913043478, 490], [2.652173913043478, 3760], [2.6515151515151514, 165], [2.6486486486486487, 1958], [2.6470588235294117, 2023], [2.6470588235294117, 2266], [2.6470588235294117, 3029], [2.6451612903225805, 3566], [2.6440677966101696, 266], [2.642857142857143, 521], [2.642857142857143, 1794], [2.642857142857143, 3478], [2.642857142857143, 3918], [2.64, 423], [2.64, 3770], [2.63768115942029, 2640], [2.6363636363636362, 1023], [2.6363636363636362, 1366], [2.6363636363636362, 2183], [2.6363636363636362, 2770], [2.6363636363636362, 3871], [2.635135135135135, 344], [2.6333333333333333, 1619], [2.6315789473684212, 1892], [2.6315789473684212, 3444], [2.625, 1340], [2.625, 3706], [2.6206896551724137, 105], [2.6206896551724137, 1320], [2.619047619047619, 1124], [2.619047619047619, 3263], [2.6153846153846154, 2], [2.6129032258064515, 2688], [2.6122448979591835, 2161], [2.611111111111111, 2496], [2.611111111111111, 3501], [2.608695652173913, 2476], [2.607843137254902, 708], [2.607142857142857, 1459], [2.6052631578947367, 372], [2.604651162790698, 2628], [2.6041666666666665, 552], [2.6, 88], [2.6, 152], [2.6, 511], [2.6, 1013], [2.6, 2401], [2.6, 3219], [2.6, 3519], [2.6, 3646], [2.6, 3746], [2.5961538461538463, 1339], [2.5961538461538463, 3409], [2.590909090909091, 1866], [2.588235294117647, 531], [2.588235294117647, 1347], [2.588235294117647, 2202], [2.5869565217391304, 1405], [2.5853658536585367, 2174], [2.5833333333333335, 1425], [2.5833333333333335, 2518], [2.5833333333333335, 2634], [2.5833333333333335, 2899], [2.5833333333333335, 3452], [2.5833333333333335, 3719], [2.5806451612903225, 2001], [2.5762711864406778, 1375], [2.575, 3614], [2.574712643678161, 587], [2.574468085106383, 2431], [2.573529411764706, 231], [2.5714285714285716, 159], [2.5714285714285716, 218], [2.5714285714285716, 952], [2.5714285714285716, 2184], [2.5692307692307694, 2393], [2.5689655172413794, 3698], [2.566666666666667, 3259], [2.5660377358490565, 832], [2.5652173913043477, 3635], [2.5625, 1858], [2.5625, 2166], [2.5625, 3326], [2.5625, 3943], [2.56, 1031], [2.559322033898305, 2424], [2.559322033898305, 2470], [2.557142857142857, 500], [2.5555555555555554, 494], [2.5555555555555554, 1711], [2.5555555555555554, 1983], [2.5555555555555554, 3457], [2.554054054054054, 1552], [2.5538461538461537, 3033], [2.5531914893617023, 3699], [2.55, 1480], [2.55, 1688], [2.5476190476190474, 1687], [2.5454545454545454, 1059], [2.5454545454545454, 1290], [2.5454545454545454, 1457], [2.5454545454545454, 2363], [2.5454545454545454, 2364], [2.5454545454545454, 2432], [2.5416666666666665, 3534], [2.5405405405405403, 1587], [2.5384615384615383, 224], [2.5384615384615383, 1804], [2.5384615384615383, 2331], [2.5384615384615383, 2676], [2.5384615384615383, 3584], [2.5365853658536586, 1022], [2.533333333333333, 1286], [2.533333333333333, 2789], [2.5277777777777777, 3484], [2.526315789473684, 361], [2.5245901639344264, 2746], [2.5238095238095237, 605], [2.5238095238095237, 3016], [2.521276595744681, 648], [2.518987341772152, 2011], [2.5185185185185186, 2116], [2.5172413793103448, 3686], [2.515151515151515, 802], [2.5142857142857142, 2334], [2.5128205128205128, 145], [2.5, 188], [2.5, 328], [2.5, 351], [2.5, 448], [2.5, 450], [2.5, 680], [2.5, 691], [2.5, 1019], [2.5, 1346], [2.5, 1401], [2.5, 1597], [2.5, 1614], [2.5, 1621], [2.5, 1627], [2.5, 1904], [2.5, 2102], [2.5, 2325], [2.5, 2344], [2.5, 2387], [2.5, 2453], [2.5, 2651], [2.5, 2657], [2.5, 2844], [2.5, 3155], [2.5, 3384], [2.5, 3528], [2.5, 3553], [2.5, 3608], [2.5, 3633], [2.5, 3729], [2.493150684931507, 3752], [2.4901960784313726, 2724], [2.488372093023256, 594], [2.488372093023256, 2085], [2.4871794871794872, 3701], [2.4857142857142858, 1974], [2.4857142857142858, 2087], [2.485294117647059, 3082], [2.484848484848485, 1029], [2.4838709677419355, 596], [2.4831460674157304, 367], [2.4827586206896552, 1588], [2.481132075471698, 3623], [2.477272727272727, 3591], [2.4761904761904763, 383], [2.4761904761904763, 837], [2.4761904761904763, 1081], [2.4761904761904763, 3426], [2.475, 1020], [2.473684210526316, 1032], [2.473684210526316, 1047], [2.473684210526316, 2554], [2.4705882352941178, 2860], [2.466666666666667, 3483], [2.4615384615384617, 2921], [2.4594594594594597, 2527], [2.459016393442623, 2407], [2.4583333333333335, 2881], [2.4545454545454546, 2141], [2.4545454545454546, 2376], [2.4545454545454546, 2457], [2.4545454545454546, 3445], [2.4545454545454546, 3565], [2.4545454545454546, 3825], [2.45, 653], [2.45, 986], [2.4444444444444446, 230], [2.4444444444444446, 1009], [2.4444444444444446, 2346], [2.44, 491], [2.4375, 517], [2.4375, 1717], [2.4375, 2099], [2.4361702127659575, 2012], [2.4358974358974357, 748], [2.4347826086956523, 1025], [2.4347826086956523, 2033], [2.4347826086956523, 2723], [2.4285714285714284, 1042], [2.4285714285714284, 1128], [2.4285714285714284, 1268], [2.4285714285714284, 1734], [2.4285714285714284, 2413], [2.4285714285714284, 3120], [2.4285714285714284, 3917], [2.4242424242424243, 1422], [2.422222222222222, 2145], [2.4210526315789473, 2553], [2.4210526315789473, 3649], [2.4193548387096775, 3615], [2.4166666666666665, 261], [2.4166666666666665, 1616], [2.4166666666666665, 2072], [2.4166666666666665, 2420], [2.4166666666666665, 3040], [2.4166666666666665, 3316], [2.4166666666666665, 3515], [2.4166666666666665, 3550], [2.4146341463414633, 3146], [2.413793103448276, 2505], [2.4126984126984126, 2094], [2.411764705882353, 1769], [2.411764705882353, 2322], [2.411764705882353, 2492], [2.409090909090909, 236], [2.409090909090909, 2136], [2.40625, 1334], [2.4047619047619047, 3638], [2.4038461538461537, 543], [2.402439024390244, 1876], [2.4, 22], [2.4, 100], [2.4, 735], [2.4, 781], [2.4, 886], [2.4, 1363], [2.4, 1371], [2.4, 1395], [2.4, 1799], [2.4, 1895], [2.4, 1970], [2.4, 2024], [2.4, 2060], [2.4, 2111], [2.4, 2926], [2.4, 3272], [2.3968253968253967, 2124], [2.3968253968253967, 2641], [2.3949579831932772, 2699], [2.389830508474576, 3717], [2.388888888888889, 2524], [2.388888888888889, 2787], [2.388888888888889, 2822], [2.388888888888889, 3773], [2.3846153846153846, 170], [2.3846153846153846, 445], [2.3846153846153846, 520], [2.3846153846153846, 879], [2.3846153846153846, 2672], [2.3846153846153846, 3099], [2.382978723404255, 2718], [2.38, 1792], [2.38, 2335], [2.375, 362], [2.375, 586], [2.375, 1027], [2.375, 2014], [2.375, 2702], [2.375, 2961], [2.375, 3197], [2.370967741935484, 434], [2.3692307692307693, 292], [2.3684210526315788, 195], [2.3684210526315788, 861], [2.3684210526315788, 1835], [2.3684210526315788, 3869], [2.3666666666666667, 2096], [2.3636363636363638, 1330], [2.3636363636363638, 2133], [2.3636363636363638, 2978], [2.3636363636363638, 3794], [2.3608247422680413, 1917], [2.36, 2606], [2.36, 3708], [2.359550561797753, 736], [2.358974358974359, 2826], [2.358490566037736, 3], [2.357142857142857, 381], [2.357142857142857, 946], [2.357142857142857, 1016], [2.3541666666666665, 3264], [2.3529411764705883, 70], [2.3529411764705883, 2017], [2.3529411764705883, 2155], [2.3529411764705883, 2409], [2.3529411764705883, 2907], [2.3513513513513513, 1620], [2.3513513513513513, 2805], [2.3513513513513513, 3477], [2.35, 504], [2.35, 2287], [2.35, 2500], [2.35, 2504], [2.35, 3840], [2.347826086956522, 1012], [2.3421052631578947, 2018], [2.3333333333333335, 257], [2.3333333333333335, 376], [2.3333333333333335, 382], [2.3333333333333335, 707], [2.3333333333333335, 1352], [2.3333333333333335, 1541], [2.3333333333333335, 1816], [2.3333333333333335, 2513], [2.3333333333333335, 2802], [2.3333333333333335, 2956], [2.3333333333333335, 3034], [2.3333333333333335, 3247], [2.3333333333333335, 3251], [2.3333333333333335, 3308], [2.3333333333333335, 3412], [2.3333333333333335, 3554], [2.3333333333333335, 3712], [2.3333333333333335, 3946], [2.323529411764706, 2469], [2.323529411764706, 2709], [2.3225806451612905, 1713], [2.3214285714285716, 1689], [2.3214285714285716, 1833], [2.3207547169811322, 3285], [2.32, 1991], [2.3194444444444446, 2722], [2.3181818181818183, 89], [2.3181818181818183, 2269], [2.3157894736842106, 2026], [2.3157894736842106, 2320], [2.3125, 2327], [2.3125, 3032], [2.3125, 3436], [2.310344827586207, 1676], [2.3076923076923075, 207], [2.3076923076923075, 317], [2.3076923076923075, 1727], [2.3076923076923075, 2048], [2.3076923076923075, 2240], [2.3076923076923075, 2829], [2.3076923076923075, 2877], [2.3076923076923075, 3500], [2.306451612903226, 2605], [2.3055555555555554, 2002], [2.3043478260869565, 2540], [2.30188679245283, 410], [2.3, 938], [2.3, 1355], [2.3, 1390], [2.3, 1582], [2.3, 1665], [2.3, 1746], [2.3, 1937], [2.3, 2314], [2.3, 2639], [2.3, 3051], [2.2967032967032965, 788], [2.2954545454545454, 1367], [2.2941176470588234, 3430], [2.292307692307692, 1918], [2.2916666666666665, 2146], [2.2916666666666665, 2771], [2.2916666666666665, 2990], [2.290909090909091, 370], [2.288135593220339, 1479], [2.2857142857142856, 203], [2.2857142857142856, 259], [2.2857142857142856, 1690], [2.2857142857142856, 1821], [2.2857142857142856, 2574], [2.2857142857142856, 2882], [2.2857142857142856, 3707], [2.280701754385965, 1586], [2.2777777777777777, 801], [2.2777777777777777, 2135], [2.2777777777777777, 3598], [2.2758620689655173, 42], [2.272727272727273, 3399], [2.2711864406779663, 24], [2.27027027027027, 2478], [2.269230769230769, 442], [2.269230769230769, 783], [2.269230769230769, 2107], [2.2686567164179103, 2428], [2.2666666666666666, 60], [2.2666666666666666, 237], [2.2666666666666666, 1979], [2.2666666666666666, 2747], [2.2666666666666666, 3249], [2.2666666666666666, 3557], [2.263157894736842, 196], [2.2580645161290325, 5], [2.25, 31], [2.25, 695], [2.25, 1014], [2.25, 1342], [2.25, 2378], [2.25, 2517], [2.25, 3063], [2.25, 3324], [2.25, 3525], [2.2448979591836733, 2485], [2.242424242424242, 3524], [2.2413793103448274, 2143], [2.24, 1033], [2.24, 2297], [2.24, 2613], [2.24, 3177], [2.238095238095238, 1924], [2.236842105263158, 1088], [2.236111111111111, 3697], [2.235294117647059, 550], [2.235294117647059, 3157], [2.230769230769231, 1841], [2.230769230769231, 3262], [2.230088495575221, 1544], [2.2280701754385963, 1911], [2.227272727272727, 2090], [2.225806451612903, 1135], [2.225, 532], [2.2222222222222223, 186], [2.2222222222222223, 2120], [2.2222222222222223, 2261], [2.2222222222222223, 2315], [2.21875, 2735], [2.217391304347826, 122], [2.2142857142857144, 352], [2.2142857142857144, 2379], [2.2142857142857144, 3700], [2.212121212121212, 44], [2.210526315789474, 1007], [2.210526315789474, 3879], [2.2093023255813953, 1566], [2.2, 8], [2.2, 427], [2.2, 1999], [2.2, 2041], [2.2, 2106], [2.2, 2122], [2.2, 2252], [2.2, 2717], [2.2, 2803], [2.2, 2846], [2.2, 2888], [2.2, 3628], [2.2, 3873], [2.1944444444444446, 107], [2.1914893617021276, 3826], [2.1911764705882355, 1513], [2.1904761904761907, 2148], [2.1904761904761907, 2898], [2.1875, 830], [2.1875, 2598], [2.1818181818181817, 421], [2.1818181818181817, 998], [2.1818181818181817, 2084], [2.1818181818181817, 2113], [2.1818181818181817, 2262], [2.1818181818181817, 2354], [2.1818181818181817, 2901], [2.1818181818181817, 3616], [2.1789473684210527, 1391], [2.176470588235294, 1010], [2.176470588235294, 3053], [2.175, 585], [2.173076923076923, 1379], [2.1724137931034484, 2806], [2.1714285714285713, 1801], [2.1704545454545454, 1377], [2.1666666666666665, 74], [2.1666666666666665, 366], [2.1666666666666665, 486], [2.1666666666666665, 804], [2.1666666666666665, 1018], [2.1666666666666665, 1024], [2.1666666666666665, 1205], [2.1666666666666665, 2418], [2.1666666666666665, 2900], [2.1666666666666665, 2942], [2.1627906976744184, 1888], [2.1627906976744184, 2840], [2.1621621621621623, 413], [2.16, 158], [2.16, 3489], [2.1578947368421053, 227], [2.1578947368421053, 407], [2.1578947368421053, 2377], [2.1578947368421053, 2796], [2.1555555555555554, 786], [2.1551724137931036, 2369], [2.1538461538461537, 1332], [2.1538461538461537, 2491], [2.1538461538461537, 2645], [2.1538461538461537, 3270], [2.1515151515151514, 1971], [2.15, 2188], [2.15, 3915], [2.1470588235294117, 48], [2.142857142857143, 79], [2.142857142857143, 569], [2.142857142857143, 1015], [2.142857142857143, 1483], [2.142857142857143, 2399], [2.1379310344827585, 996], [2.1333333333333333, 809], [2.1333333333333333, 2405], [2.1315789473684212, 1894], [2.130434782608696, 3208], [2.1272727272727274, 3354], [2.125, 338], [2.125, 2752], [2.125, 3273], [2.12, 276], [2.12, 512], [2.12, 2059], [2.1176470588235294, 1003], [2.1176470588235294, 1975], [2.1176470588235294, 2372], [2.1142857142857143, 1438], [2.1142857142857143, 3269], [2.1139240506329116, 2054], [2.111111111111111, 4], [2.111111111111111, 674], [2.111111111111111, 3758], [2.107142857142857, 273], [2.1052631578947367, 76], [2.1052631578947367, 479], [2.1052631578947367, 533], [2.103448275862069, 2558], [2.1, 472], [2.1, 743], [2.1, 1191], [2.1, 1640], [2.1, 3036], [2.096774193548387, 2468], [2.096774193548387, 2793], [2.0952380952380953, 3274], [2.09375, 1091], [2.090909090909091, 848], [2.090909090909091, 1647], [2.090909090909091, 2451], [2.0869565217391304, 1461], [2.0869565217391304, 2121], [2.0833333333333335, 23], [2.0833333333333335, 558], [2.0833333333333335, 1601], [2.0833333333333335, 1603], [2.0833333333333335, 3453], [2.081081081081081, 1431], [2.081081081081081, 3156], [2.08, 765], [2.08, 3821], [2.076923076923077, 1726], [2.076923076923077, 2546], [2.0714285714285716, 1598], [2.0714285714285716, 1667], [2.0714285714285716, 1686], [2.0714285714285716, 3404], [2.066666666666667, 2038], [2.066666666666667, 3355], [2.0652173913043477, 379], [2.0652173913043477, 3254], [2.064516129032258, 1969], [2.0625, 81], [2.0625, 891], [2.0625, 3660], [2.0606060606060606, 2375], [2.0588235294117645, 204], [2.0588235294117645, 1353], [2.0588235294117645, 1593], [2.0588235294117645, 2296], [2.0588235294117645, 3784], [2.0588235294117645, 3841], [2.0555555555555554, 459], [2.0555555555555554, 2374], [2.0555555555555554, 3835], [2.0526315789473686, 135], [2.0526315789473686, 168], [2.0526315789473686, 3190], [2.05, 1468], [2.0454545454545454, 1037], [2.0454545454545454, 2034], [2.0454545454545454, 2249], [2.0416666666666665, 2429], [2.04, 2052], [2.04, 3388], [2.0384615384615383, 1373], [2.0350877192982457, 1644], [2.0344827586206895, 2411], [2.0344827586206895, 3258], [2.033333333333333, 1976], [2.033333333333333, 3764], [2.032258064516129, 1977], [2.0303030303030303, 2861], [2.0294117647058822, 1488], [2.0277777777777777, 2402], [2.0277777777777777, 2410], [2.0256410256410255, 1409], [2.022222222222222, 2713], [2.0208333333333335, 784], [2.0163934426229506, 673], [2.0161290322580645, 3257], [2.0153846153846153, 466], [2.0, 20], [2.0, 95], [2.0, 140], [2.0, 267], [2.0, 303], [2.0, 378], [2.0, 414], [2.0, 458], [2.0, 516], [2.0, 518], [2.0, 616], [2.0, 761], [2.0, 836], [2.0, 842], [2.0, 1064], [2.0, 1404], [2.0, 1460], [2.0, 1592], [2.0, 1604], [2.0, 1806], [2.0, 1978], [2.0, 1985], [2.0, 2040], [2.0, 2043], [2.0, 2241], [2.0, 2264], [2.0, 2279], [2.0, 2306], [2.0, 2430], [2.0, 2446], [2.0, 2497], [2.0, 2526], [2.0, 2530], [2.0, 2533], [2.0, 2661], [2.0, 2851], [2.0, 3113], [2.0, 3387], [2.0, 3509], [2.0, 3743], [2.0, 3791], [2.0, 3834], [1.9841269841269842, 185], [1.9722222222222223, 153], [1.9705882352941178, 1388], [1.9696969696969697, 1762], [1.9696969696969697, 3248], [1.96875, 3004], [1.9666666666666666, 208], [1.962962962962963, 2794], [1.9615384615384615, 239], [1.9615384615384615, 742], [1.9615384615384615, 3688], [1.9545454545454546, 2808], [1.9523809523809523, 2902], [1.95, 782], [1.95, 1515], [1.95, 1995], [1.9482758620689655, 2616], [1.9473684210526316, 2147], [1.9473684210526316, 3394], [1.9444444444444444, 157], [1.9411764705882353, 282], [1.9411764705882353, 2082], [1.9411764705882353, 2170], [1.9411764705882353, 2316], [1.9411764705882353, 2875], [1.9411764705882353, 3286], [1.9393939393939394, 1973], [1.9333333333333333, 1382], [1.9333333333333333, 3511], [1.9310344827586208, 2906], [1.9285714285714286, 436], [1.9285714285714286, 1590], [1.9285714285714286, 3392], [1.9230769230769231, 1626], [1.9230769230769231, 1783], [1.9230769230769231, 1980], [1.9230769230769231, 2561], [1.9230769230769231, 3930], [1.9166666666666667, 1848], [1.9166666666666667, 3497], [1.9130434782608696, 818], [1.9090909090909092, 64], [1.9090909090909092, 435], [1.9090909090909092, 606], [1.9090909090909092, 662], [1.9090909090909092, 833], [1.9090909090909092, 1021], [1.9090909090909092, 2267], [1.9090909090909092, 2456], [1.9069767441860466, 420], [1.9047619047619047, 575], [1.9047619047619047, 1772], [1.9047619047619047, 1986], [1.9, 3165], [1.896551724137931, 1779], [1.894736842105263, 2615], [1.8928571428571428, 611], [1.8888888888888888, 719], [1.8888888888888888, 798], [1.8888888888888888, 2532], [1.8867924528301887, 3438], [1.8846153846153846, 2815], [1.8823529411764706, 544], [1.8823529411764706, 2091], [1.8823529411764706, 3243], [1.875, 1030], [1.875, 2531], [1.875, 3693], [1.8727272727272728, 172], [1.8695652173913044, 709], [1.8695652173913044, 1100], [1.8636363636363635, 2373], [1.8636363636363635, 3864], [1.8620689655172413, 1972], [1.8571428571428572, 330], [1.8571428571428572, 1487], [1.8571428571428572, 3901], [1.8571428571428572, 3923], [1.853658536585366, 1920], [1.8529411764705883, 762], [1.8529411764705883, 1702], [1.8518518518518519, 1591], [1.85, 429], [1.85, 432], [1.8484848484848484, 2093], [1.8461538461538463, 132], [1.8461538461538463, 1993], [1.8461538461538463, 2089], [1.84375, 464], [1.8421052631578947, 637], [1.8421052631578947, 2247], [1.84, 1359], [1.8333333333333333, 19], [1.8333333333333333, 548], [1.8333333333333333, 1526], [1.8333333333333333, 1623], [1.8333333333333333, 1992], [1.8333333333333333, 2004], [1.8333333333333333, 2088], [1.8333333333333333, 2473], [1.8333333333333333, 3431], [1.8333333333333333, 3661], [1.8333333333333333, 3690], [1.825, 2421], [1.825, 3238], [1.8235294117647058, 2163], [1.82, 2126], [1.8181818181818181, 2259], [1.8148148148148149, 2668], [1.8125, 2119], [1.8125, 2169], [1.8125, 2548], [1.8125, 3754], [1.8095238095238095, 315], [1.8095238095238095, 540], [1.8095238095238095, 542], [1.8076923076923077, 1503], [1.8, 332], [1.8, 489], [1.8, 1043], [1.8, 2095], [1.8, 2142], [1.8, 2385], [1.8, 2950], [1.8, 3664], [1.8, 3672], [1.794871794871795, 2953], [1.7916666666666667, 415], [1.7916666666666667, 829], [1.7894736842105263, 12], [1.7894736842105263, 3908], [1.7884615384615385, 485], [1.7857142857142858, 547], [1.7857142857142858, 3662], [1.775, 2995], [1.7692307692307692, 1453], [1.7674418604651163, 3705], [1.7666666666666666, 2471], [1.7647058823529411, 2514], [1.7619047619047619, 3802], [1.76, 1752], [1.7575757575757576, 355], [1.75, 13], [1.75, 193], [1.75, 1655], [1.75, 2092], [1.75, 3709], [1.75, 3889], [1.7407407407407407, 2367], [1.736842105263158, 65], [1.7333333333333334, 248], [1.7333333333333334, 1882], [1.7333333333333334, 1981], [1.7321428571428572, 2719], [1.7272727272727273, 3432], [1.7258064516129032, 2986], [1.7241379310344827, 455], [1.7222222222222223, 234], [1.7222222222222223, 2162], [1.72, 2123], [1.71875, 2389], [1.7142857142857142, 256], [1.7142857142857142, 849], [1.7058823529411764, 3287], [1.7045454545454546, 2827], [1.7, 325], [1.7, 438], [1.7, 612], [1.7, 1456], [1.6923076923076923, 537], [1.6923076923076923, 1004], [1.6923076923076923, 2381], [1.6923076923076923, 3877], [1.6896551724137931, 2404], [1.6875, 2328], [1.6842105263157894, 2525], [1.671875, 173], [1.6666666666666667, 126], [1.6666666666666667, 839], [1.6666666666666667, 990], [1.6666666666666667, 2380], [1.6666666666666667, 2629], [1.6666666666666667, 3299], [1.6585365853658536, 2338], [1.6470588235294117, 694], [1.6470588235294117, 1681], [1.6451612903225807, 2448], [1.6428571428571428, 881], [1.6428571428571428, 3774], [1.64, 2408], [1.6363636363636365, 1984], [1.6363636363636365, 3024], [1.625, 177], [1.625, 519], [1.6216216216216217, 327], [1.6153846153846154, 92], [1.6153846153846154, 393], [1.6142857142857143, 1831], [1.6071428571428572, 2042], [1.6046511627906976, 880], [1.6046511627906976, 2720], [1.6, 1126], [1.6, 1489], [1.6, 1550], [1.6, 1855], [1.6, 1862], [1.5925925925925926, 258], [1.5909090909090908, 3766], [1.5862068965517242, 688], [1.5833333333333333, 174], [1.5789473684210527, 1445], [1.5769230769230769, 405], [1.5714285714285714, 2152], [1.5576923076923077, 1562], [1.5555555555555556, 374], [1.55, 1005], [1.55, 2027], [1.5483870967741935, 160], [1.5483870967741935, 2549], [1.5454545454545454, 3401], [1.5416666666666667, 2253], [1.5416666666666667, 3710], [1.5384615384615385, 1499], [1.5384615384615385, 1744], [1.5384615384615385, 1869], [1.5384615384615385, 3768], [1.5217391304347827, 1707], [1.510204081632653, 2053], [1.5, 312], [1.5, 360], [1.5, 2016], [1.5, 2412], [1.5, 2568], [1.5, 2828], [1.5, 3054], [1.5, 3767], [1.5, 3945], [1.4782608695652173, 2555], [1.4761904761904763, 15], [1.4736842105263157, 1863], [1.4705882352941178, 2036], [1.4666666666666666, 87], [1.4666666666666666, 1996], [1.462962962962963, 546], [1.4583333333333333, 3325], [1.4444444444444444, 419], [1.4444444444444444, 1606], [1.44, 2422], [1.4375, 2498], [1.435897435897436, 3593], [1.434782608695652, 2392], [1.4285714285714286, 3824], [1.4186046511627908, 2642], [1.4166666666666667, 3268], [1.40625, 2643], [1.4, 2050], [1.4, 2153], [1.4, 2382], [1.4, 2383], [1.4, 2458], [1.4, 3669], [1.3928571428571428, 3439], [1.3846153846153846, 2748], [1.3695652173913044, 2701], [1.36, 1381], [1.36, 1556], [1.358974358974359, 2450], [1.3571428571428572, 2799], [1.3448275862068966, 1760], [1.3333333333333333, 181], [1.3333333333333333, 631], [1.3333333333333333, 1389], [1.3333333333333333, 2460], [1.3157894736842106, 2798], [1.3125, 66], [1.3125, 2149], [1.3076923076923077, 169], [1.3076923076923077, 1998], [1.3076923076923077, 3440], [1.3043478260869565, 1474], [1.2941176470588236, 692], [1.2777777777777777, 473], [1.2727272727272727, 93], [1.2692307692307692, 502], [1.25, 1750], [1.2105263157894737, 3564], [1.2, 71], [1.2, 2886], [1.1904761904761905, 737], [1.1818181818181819, 810], [1.1818181818181819, 1739], [1.1818181818181819, 2816], [1.1764705882352942, 2807], [1.1666666666666667, 2817], [1.1428571428571428, 1497], [1.0714285714285714, 3799], [1.0, 1599]]\n"
     ]
    }
   ],
   "source": [
    "result_list.sort(key=lambda x: x[0], reverse=True)\n",
    "print(result_list)"
   ]
  },
  {
   "cell_type": "code",
   "execution_count": 50,
   "id": "4082d817",
   "metadata": {},
   "outputs": [
    {
     "name": "stdout",
     "output_type": "stream",
     "text": [
      "Top 5 rated movie IDs: [745, 922, 318, 50, 1223]\n"
     ]
    }
   ],
   "source": [
    "top_5_movies = []\n",
    "\n",
    "for val, movie_id in result_list[:5]:\n",
    "    top_5_movies.append(movie_id)\n",
    "\n",
    "print(\"Top 5 rated movie IDs:\", top_5_movies)"
   ]
  },
  {
   "cell_type": "code",
   "execution_count": 51,
   "id": "e64642aa",
   "metadata": {},
   "outputs": [
    {
     "name": "stdout",
     "output_type": "stream",
     "text": [
      "For User ID: 6041, recommended movies are: \n",
      "- Movie Name: Close Shave, A (1995)                   \n",
      "- Movie Name: Sunset Blvd. (a.k.a. Sunset Boulevard) (1950)\n",
      "- Movie Name: Shawshank Redemption, The (1994)        \n",
      "- Movie Name: Usual Suspects, The (1995)              \n",
      "- Movie Name: Grand Day Out, A (1992)                 \n"
     ]
    }
   ],
   "source": [
    "print(f\"For User ID: {target_user_id}, recommended movies are: \")\n",
    "for movie_id in top_5_movies:\n",
    "    movie_name = movie_id_to_name.get(movie_id, \"Unknown Movie\")\n",
    "    print(f\"- Movie Name: {movie_name.ljust(40)}\")"
   ]
  },
  {
   "cell_type": "code",
   "execution_count": null,
   "id": "30dcb89f",
   "metadata": {},
   "outputs": [],
   "source": []
  }
 ],
 "metadata": {
  "kernelspec": {
   "display_name": "Python 3 (ipykernel)",
   "language": "python",
   "name": "python3"
  },
  "language_info": {
   "codemirror_mode": {
    "name": "ipython",
    "version": 3
   },
   "file_extension": ".py",
   "mimetype": "text/x-python",
   "name": "python",
   "nbconvert_exporter": "python",
   "pygments_lexer": "ipython3",
   "version": "3.11.5"
  }
 },
 "nbformat": 4,
 "nbformat_minor": 5
}
